{
 "cells": [
  {
   "cell_type": "markdown",
   "id": "24f737ec",
   "metadata": {
    "papermill": {
     "duration": 0.030299,
     "end_time": "2024-02-09T12:44:54.710542",
     "exception": false,
     "start_time": "2024-02-09T12:44:54.680243",
     "status": "completed"
    },
    "tags": []
   },
   "source": [
    "# **Waze Project**"
   ]
  },
  {
   "cell_type": "markdown",
   "id": "86c48a7a",
   "metadata": {
    "papermill": {
     "duration": 0.029067,
     "end_time": "2024-02-09T12:44:54.768362",
     "exception": false,
     "start_time": "2024-02-09T12:44:54.739295",
     "status": "completed"
    },
    "tags": []
   },
   "source": [
    "Your team is still in the early stages of their user churn project. So far, you’ve completed a project proposal and used Python to inspect and organize Waze’s user data.\n",
    "\n",
    "You check your inbox and notice a new message from Chidi Ga, your team’s Senior Data Analyst. Chidi is pleased with the work you have already completed and requests your assistance with exploratory data analysis (EDA) and further data visualization. Harriet Hadzic, Waze's Director of Data Analysis, will want to review a Python notebook that shows your data exploration and visualization.\n",
    "\n",
    "A notebook was structured and prepared to help you in this project. Please complete the following questions and prepare an executive summary."
   ]
  },
  {
   "cell_type": "markdown",
   "id": "37ca29d3",
   "metadata": {
    "papermill": {
     "duration": 0.093003,
     "end_time": "2024-02-09T12:44:54.890086",
     "exception": false,
     "start_time": "2024-02-09T12:44:54.797083",
     "status": "completed"
    },
    "tags": []
   },
   "source": [
    "# ** project: Exploratory data analysis**\n",
    "\n",
    "In this activity, you will examine data provided and prepare it for analysis.\n",
    "<br/>\n",
    "\n",
    "**The purpose** of this project is to conduct exploratory data analysis (EDA) on a provided dataset.\n",
    "\n",
    "**The goal** is to continue the examination of the data that you began in the previous Course, adding relevant visualizations that help communicate the story that the data tells.\n",
    "<br/>\n",
    "\n",
    "\n",
    "*This activity has 4 parts:*\n",
    "\n",
    "**Part 1:** Imports, links, and loading\n",
    "\n",
    "**Part 2:** Data Exploration\n",
    "*   Data cleaning\n",
    "\n",
    "\n",
    "**Part 3:** Building visualizations\n",
    "\n",
    "**Part 4:** Evaluating and sharing results\n",
    "\n",
    "<br/>\n",
    "\n",
    "\n",
    "Follow the instructions and answer the question below to complete the activity. Then, you will complete an executive summary using the questions listed on the [PACE Strategy Document ](https://docs.google.com/document/d/1iSHdbfQR6w8RClJNWai8oJXn9tQmYoTKn6QohuaK4-s/template/preview?resourcekey=0-ZIHnbxL1dd2u9A47iEVXvg) .\n",
    "\n",
    "Be sure to complete this activity before moving on. The next course item will provide you with a completed exemplar to compare to your own work.\n"
   ]
  },
  {
   "cell_type": "code",
   "execution_count": 1,
   "id": "8d8769f3",
   "metadata": {
    "execution": {
     "iopub.execute_input": "2024-02-09T12:44:54.951624Z",
     "iopub.status.busy": "2024-02-09T12:44:54.950995Z",
     "iopub.status.idle": "2024-02-09T12:44:57.604077Z",
     "shell.execute_reply": "2024-02-09T12:44:57.602374Z"
    },
    "papermill": {
     "duration": 2.686076,
     "end_time": "2024-02-09T12:44:57.607070",
     "exception": false,
     "start_time": "2024-02-09T12:44:54.920994",
     "status": "completed"
    },
    "tags": []
   },
   "outputs": [],
   "source": [
    "import pandas as pd\n",
    "import matplotlib.pyplot as plt\n",
    "import numpy as np\n",
    "import seaborn as sns"
   ]
  },
  {
   "cell_type": "markdown",
   "id": "5da764d9",
   "metadata": {
    "papermill": {
     "duration": 0.028857,
     "end_time": "2024-02-09T12:44:57.664939",
     "exception": false,
     "start_time": "2024-02-09T12:44:57.636082",
     "status": "completed"
    },
    "tags": []
   },
   "source": [
    "Read in the data and store it as a dataframe object called df."
   ]
  },
  {
   "cell_type": "code",
   "execution_count": 2,
   "id": "bf13949c",
   "metadata": {
    "execution": {
     "iopub.execute_input": "2024-02-09T12:44:57.725586Z",
     "iopub.status.busy": "2024-02-09T12:44:57.725033Z",
     "iopub.status.idle": "2024-02-09T12:44:57.780354Z",
     "shell.execute_reply": "2024-02-09T12:44:57.779247Z"
    },
    "papermill": {
     "duration": 0.088685,
     "end_time": "2024-02-09T12:44:57.783293",
     "exception": false,
     "start_time": "2024-02-09T12:44:57.694608",
     "status": "completed"
    },
    "tags": []
   },
   "outputs": [],
   "source": [
    "# Load the dataset into a dataframe\n",
    "df = pd.read_csv('/kaggle/input/waze-dataset-csv/waze_dataset.csv')"
   ]
  },
  {
   "cell_type": "markdown",
   "id": "3edd6d4d",
   "metadata": {
    "papermill": {
     "duration": 0.029375,
     "end_time": "2024-02-09T12:44:57.842947",
     "exception": false,
     "start_time": "2024-02-09T12:44:57.813572",
     "status": "completed"
    },
    "tags": []
   },
   "source": [
    "1. Does the data need to be restructured or converted into usable formats?\n",
    "\n",
    "2. Are there any variables that have missing data?"
   ]
  },
  {
   "cell_type": "markdown",
   "id": "d8fbce42",
   "metadata": {
    "papermill": {
     "duration": 0.027991,
     "end_time": "2024-02-09T12:44:57.899785",
     "exception": false,
     "start_time": "2024-02-09T12:44:57.871794",
     "status": "completed"
    },
    "tags": []
   },
   "source": [
    "**Answers:**\n",
    "\n",
    "1. The data is already in a structured format. Each row represents a user.\n",
    "\n",
    "2. Yes, 700 rows have `label` missing. Other variables have no missing values."
   ]
  },
  {
   "cell_type": "markdown",
   "id": "3e6529fe",
   "metadata": {
    "papermill": {
     "duration": 0.027902,
     "end_time": "2024-02-09T12:44:57.956143",
     "exception": false,
     "start_time": "2024-02-09T12:44:57.928241",
     "status": "completed"
    },
    "tags": []
   },
   "source": [
    "### **Task 2. Data exploration and cleaning**\n",
    "\n",
    "Consider the following questions:\n",
    "\n",
    "\n",
    "\n",
    "1.  Given the scenario, which data columns are most applicable?\n",
    "\n",
    "2.  Which data columns can you eliminate, knowing they won’t solve your problem scenario?\n",
    "\n",
    "3.  How would you check for missing data? And how would you handle missing data (if any)?\n",
    "\n",
    "4.  How would you check for outliers? And how would handle outliers (if any)?\n"
   ]
  },
  {
   "cell_type": "markdown",
   "id": "77bdc9f7",
   "metadata": {
    "papermill": {
     "duration": 0.028636,
     "end_time": "2024-02-09T12:44:58.014238",
     "exception": false,
     "start_time": "2024-02-09T12:44:57.985602",
     "status": "completed"
    },
    "tags": []
   },
   "source": [
    "**Answers:**\n",
    "\n",
    "1. SInce we are interested in user churn, the `label` column is essential. Besides `label`, variables that tie to user behaviors will be the most applicable. All variables tie to user behavior except `ID`.\n",
    "\n",
    "2. `ID` can be dropped from the analysis since we are not interested in identifying a particular user. `ID` does not provide meaningful information about the churn (unless `ID` is assigned based on user sign-up time).\n",
    "\n",
    "3. To check for missing data, we can use `df.info()` and inspect the `Non-Null Count` column. The difference between the number of non-nulls and the number of rows in the data is the number of missing values for the variable.\n",
    "\n",
    "   If the missing data are missing completely at random (MCAR), meaning that the reason for missingness is independent of the data values themselves, we can proceed with a complete-case analysis by removing the rows with missing values. Otherwise, we need to investigate the root cause of the missingness and make sure it won't interfere with the statistical inference and modeling.\n",
    "\n",
    "4. See the previous exemplar responses for the outlier question."
   ]
  },
  {
   "cell_type": "markdown",
   "id": "f68b0aaf",
   "metadata": {
    "papermill": {
     "duration": 0.027941,
     "end_time": "2024-02-09T12:44:58.070805",
     "exception": false,
     "start_time": "2024-02-09T12:44:58.042864",
     "status": "completed"
    },
    "tags": []
   },
   "source": [
    "#### **Data overview and summary statistics**\n",
    "\n",
    "Use the following methods and attributes on the dataframe:\n",
    "\n",
    "* `head()`\n",
    "* `size`\n",
    "* `describe()`\n",
    "* `info()`\n",
    "\n",
    "It's always helpful to have this information at the beginning of a project, where you can always refer back to if needed."
   ]
  },
  {
   "cell_type": "code",
   "execution_count": 3,
   "id": "2c73abb5",
   "metadata": {
    "execution": {
     "iopub.execute_input": "2024-02-09T12:44:58.131332Z",
     "iopub.status.busy": "2024-02-09T12:44:58.130879Z",
     "iopub.status.idle": "2024-02-09T12:44:58.166966Z",
     "shell.execute_reply": "2024-02-09T12:44:58.165784Z"
    },
    "papermill": {
     "duration": 0.068696,
     "end_time": "2024-02-09T12:44:58.169011",
     "exception": false,
     "start_time": "2024-02-09T12:44:58.100315",
     "status": "completed"
    },
    "tags": []
   },
   "outputs": [
    {
     "data": {
      "text/html": [
       "<div>\n",
       "<style scoped>\n",
       "    .dataframe tbody tr th:only-of-type {\n",
       "        vertical-align: middle;\n",
       "    }\n",
       "\n",
       "    .dataframe tbody tr th {\n",
       "        vertical-align: top;\n",
       "    }\n",
       "\n",
       "    .dataframe thead th {\n",
       "        text-align: right;\n",
       "    }\n",
       "</style>\n",
       "<table border=\"1\" class=\"dataframe\">\n",
       "  <thead>\n",
       "    <tr style=\"text-align: right;\">\n",
       "      <th></th>\n",
       "      <th>ID</th>\n",
       "      <th>label</th>\n",
       "      <th>sessions</th>\n",
       "      <th>drives</th>\n",
       "      <th>total_sessions</th>\n",
       "      <th>n_days_after_onboarding</th>\n",
       "      <th>total_navigations_fav1</th>\n",
       "      <th>total_navigations_fav2</th>\n",
       "      <th>driven_km_drives</th>\n",
       "      <th>duration_minutes_drives</th>\n",
       "      <th>activity_days</th>\n",
       "      <th>driving_days</th>\n",
       "      <th>device</th>\n",
       "    </tr>\n",
       "  </thead>\n",
       "  <tbody>\n",
       "    <tr>\n",
       "      <th>0</th>\n",
       "      <td>0</td>\n",
       "      <td>retained</td>\n",
       "      <td>283</td>\n",
       "      <td>226</td>\n",
       "      <td>296.748273</td>\n",
       "      <td>2276</td>\n",
       "      <td>208</td>\n",
       "      <td>0</td>\n",
       "      <td>2628.845068</td>\n",
       "      <td>1985.775061</td>\n",
       "      <td>28</td>\n",
       "      <td>19</td>\n",
       "      <td>Android</td>\n",
       "    </tr>\n",
       "    <tr>\n",
       "      <th>1</th>\n",
       "      <td>1</td>\n",
       "      <td>retained</td>\n",
       "      <td>133</td>\n",
       "      <td>107</td>\n",
       "      <td>326.896596</td>\n",
       "      <td>1225</td>\n",
       "      <td>19</td>\n",
       "      <td>64</td>\n",
       "      <td>13715.920550</td>\n",
       "      <td>3160.472914</td>\n",
       "      <td>13</td>\n",
       "      <td>11</td>\n",
       "      <td>iPhone</td>\n",
       "    </tr>\n",
       "    <tr>\n",
       "      <th>2</th>\n",
       "      <td>2</td>\n",
       "      <td>retained</td>\n",
       "      <td>114</td>\n",
       "      <td>95</td>\n",
       "      <td>135.522926</td>\n",
       "      <td>2651</td>\n",
       "      <td>0</td>\n",
       "      <td>0</td>\n",
       "      <td>3059.148818</td>\n",
       "      <td>1610.735904</td>\n",
       "      <td>14</td>\n",
       "      <td>8</td>\n",
       "      <td>Android</td>\n",
       "    </tr>\n",
       "    <tr>\n",
       "      <th>3</th>\n",
       "      <td>3</td>\n",
       "      <td>retained</td>\n",
       "      <td>49</td>\n",
       "      <td>40</td>\n",
       "      <td>67.589221</td>\n",
       "      <td>15</td>\n",
       "      <td>322</td>\n",
       "      <td>7</td>\n",
       "      <td>913.591123</td>\n",
       "      <td>587.196542</td>\n",
       "      <td>7</td>\n",
       "      <td>3</td>\n",
       "      <td>iPhone</td>\n",
       "    </tr>\n",
       "    <tr>\n",
       "      <th>4</th>\n",
       "      <td>4</td>\n",
       "      <td>retained</td>\n",
       "      <td>84</td>\n",
       "      <td>68</td>\n",
       "      <td>168.247020</td>\n",
       "      <td>1562</td>\n",
       "      <td>166</td>\n",
       "      <td>5</td>\n",
       "      <td>3950.202008</td>\n",
       "      <td>1219.555924</td>\n",
       "      <td>27</td>\n",
       "      <td>18</td>\n",
       "      <td>Android</td>\n",
       "    </tr>\n",
       "    <tr>\n",
       "      <th>5</th>\n",
       "      <td>5</td>\n",
       "      <td>retained</td>\n",
       "      <td>113</td>\n",
       "      <td>103</td>\n",
       "      <td>279.544437</td>\n",
       "      <td>2637</td>\n",
       "      <td>0</td>\n",
       "      <td>0</td>\n",
       "      <td>901.238699</td>\n",
       "      <td>439.101397</td>\n",
       "      <td>15</td>\n",
       "      <td>11</td>\n",
       "      <td>iPhone</td>\n",
       "    </tr>\n",
       "    <tr>\n",
       "      <th>6</th>\n",
       "      <td>6</td>\n",
       "      <td>retained</td>\n",
       "      <td>3</td>\n",
       "      <td>2</td>\n",
       "      <td>236.725314</td>\n",
       "      <td>360</td>\n",
       "      <td>185</td>\n",
       "      <td>18</td>\n",
       "      <td>5249.172828</td>\n",
       "      <td>726.577205</td>\n",
       "      <td>28</td>\n",
       "      <td>23</td>\n",
       "      <td>iPhone</td>\n",
       "    </tr>\n",
       "    <tr>\n",
       "      <th>7</th>\n",
       "      <td>7</td>\n",
       "      <td>retained</td>\n",
       "      <td>39</td>\n",
       "      <td>35</td>\n",
       "      <td>176.072845</td>\n",
       "      <td>2999</td>\n",
       "      <td>0</td>\n",
       "      <td>0</td>\n",
       "      <td>7892.052468</td>\n",
       "      <td>2466.981741</td>\n",
       "      <td>22</td>\n",
       "      <td>20</td>\n",
       "      <td>iPhone</td>\n",
       "    </tr>\n",
       "    <tr>\n",
       "      <th>8</th>\n",
       "      <td>8</td>\n",
       "      <td>retained</td>\n",
       "      <td>57</td>\n",
       "      <td>46</td>\n",
       "      <td>183.532018</td>\n",
       "      <td>424</td>\n",
       "      <td>0</td>\n",
       "      <td>26</td>\n",
       "      <td>2651.709764</td>\n",
       "      <td>1594.342984</td>\n",
       "      <td>25</td>\n",
       "      <td>20</td>\n",
       "      <td>Android</td>\n",
       "    </tr>\n",
       "    <tr>\n",
       "      <th>9</th>\n",
       "      <td>9</td>\n",
       "      <td>churned</td>\n",
       "      <td>84</td>\n",
       "      <td>68</td>\n",
       "      <td>244.802115</td>\n",
       "      <td>2997</td>\n",
       "      <td>72</td>\n",
       "      <td>0</td>\n",
       "      <td>6043.460295</td>\n",
       "      <td>2341.838528</td>\n",
       "      <td>7</td>\n",
       "      <td>3</td>\n",
       "      <td>iPhone</td>\n",
       "    </tr>\n",
       "  </tbody>\n",
       "</table>\n",
       "</div>"
      ],
      "text/plain": [
       "   ID     label  sessions  drives  total_sessions  n_days_after_onboarding  \\\n",
       "0   0  retained       283     226      296.748273                     2276   \n",
       "1   1  retained       133     107      326.896596                     1225   \n",
       "2   2  retained       114      95      135.522926                     2651   \n",
       "3   3  retained        49      40       67.589221                       15   \n",
       "4   4  retained        84      68      168.247020                     1562   \n",
       "5   5  retained       113     103      279.544437                     2637   \n",
       "6   6  retained         3       2      236.725314                      360   \n",
       "7   7  retained        39      35      176.072845                     2999   \n",
       "8   8  retained        57      46      183.532018                      424   \n",
       "9   9   churned        84      68      244.802115                     2997   \n",
       "\n",
       "   total_navigations_fav1  total_navigations_fav2  driven_km_drives  \\\n",
       "0                     208                       0       2628.845068   \n",
       "1                      19                      64      13715.920550   \n",
       "2                       0                       0       3059.148818   \n",
       "3                     322                       7        913.591123   \n",
       "4                     166                       5       3950.202008   \n",
       "5                       0                       0        901.238699   \n",
       "6                     185                      18       5249.172828   \n",
       "7                       0                       0       7892.052468   \n",
       "8                       0                      26       2651.709764   \n",
       "9                      72                       0       6043.460295   \n",
       "\n",
       "   duration_minutes_drives  activity_days  driving_days   device  \n",
       "0              1985.775061             28            19  Android  \n",
       "1              3160.472914             13            11   iPhone  \n",
       "2              1610.735904             14             8  Android  \n",
       "3               587.196542              7             3   iPhone  \n",
       "4              1219.555924             27            18  Android  \n",
       "5               439.101397             15            11   iPhone  \n",
       "6               726.577205             28            23   iPhone  \n",
       "7              2466.981741             22            20   iPhone  \n",
       "8              1594.342984             25            20  Android  \n",
       "9              2341.838528              7             3   iPhone  "
      ]
     },
     "execution_count": 3,
     "metadata": {},
     "output_type": "execute_result"
    }
   ],
   "source": [
    "df.head(10)"
   ]
  },
  {
   "cell_type": "code",
   "execution_count": 4,
   "id": "df596417",
   "metadata": {
    "execution": {
     "iopub.execute_input": "2024-02-09T12:44:58.230035Z",
     "iopub.status.busy": "2024-02-09T12:44:58.229634Z",
     "iopub.status.idle": "2024-02-09T12:44:58.239453Z",
     "shell.execute_reply": "2024-02-09T12:44:58.237818Z"
    },
    "papermill": {
     "duration": 0.043914,
     "end_time": "2024-02-09T12:44:58.242555",
     "exception": false,
     "start_time": "2024-02-09T12:44:58.198641",
     "status": "completed"
    },
    "tags": []
   },
   "outputs": [
    {
     "data": {
      "text/plain": [
       "194987"
      ]
     },
     "execution_count": 4,
     "metadata": {},
     "output_type": "execute_result"
    }
   ],
   "source": [
    "df.size"
   ]
  },
  {
   "cell_type": "code",
   "execution_count": 5,
   "id": "b16e32a5",
   "metadata": {
    "execution": {
     "iopub.execute_input": "2024-02-09T12:44:58.304919Z",
     "iopub.status.busy": "2024-02-09T12:44:58.304545Z",
     "iopub.status.idle": "2024-02-09T12:44:58.425741Z",
     "shell.execute_reply": "2024-02-09T12:44:58.424919Z"
    },
    "papermill": {
     "duration": 0.154836,
     "end_time": "2024-02-09T12:44:58.427820",
     "exception": false,
     "start_time": "2024-02-09T12:44:58.272984",
     "status": "completed"
    },
    "tags": []
   },
   "outputs": [
    {
     "data": {
      "text/html": [
       "<div>\n",
       "<style scoped>\n",
       "    .dataframe tbody tr th:only-of-type {\n",
       "        vertical-align: middle;\n",
       "    }\n",
       "\n",
       "    .dataframe tbody tr th {\n",
       "        vertical-align: top;\n",
       "    }\n",
       "\n",
       "    .dataframe thead th {\n",
       "        text-align: right;\n",
       "    }\n",
       "</style>\n",
       "<table border=\"1\" class=\"dataframe\">\n",
       "  <thead>\n",
       "    <tr style=\"text-align: right;\">\n",
       "      <th></th>\n",
       "      <th>ID</th>\n",
       "      <th>sessions</th>\n",
       "      <th>drives</th>\n",
       "      <th>total_sessions</th>\n",
       "      <th>n_days_after_onboarding</th>\n",
       "      <th>total_navigations_fav1</th>\n",
       "      <th>total_navigations_fav2</th>\n",
       "      <th>driven_km_drives</th>\n",
       "      <th>duration_minutes_drives</th>\n",
       "      <th>activity_days</th>\n",
       "      <th>driving_days</th>\n",
       "    </tr>\n",
       "  </thead>\n",
       "  <tbody>\n",
       "    <tr>\n",
       "      <th>count</th>\n",
       "      <td>14999.000000</td>\n",
       "      <td>14999.000000</td>\n",
       "      <td>14999.000000</td>\n",
       "      <td>14999.000000</td>\n",
       "      <td>14999.000000</td>\n",
       "      <td>14999.000000</td>\n",
       "      <td>14999.000000</td>\n",
       "      <td>14999.000000</td>\n",
       "      <td>14999.000000</td>\n",
       "      <td>14999.000000</td>\n",
       "      <td>14999.000000</td>\n",
       "    </tr>\n",
       "    <tr>\n",
       "      <th>mean</th>\n",
       "      <td>7499.000000</td>\n",
       "      <td>80.633776</td>\n",
       "      <td>67.281152</td>\n",
       "      <td>189.964447</td>\n",
       "      <td>1749.837789</td>\n",
       "      <td>121.605974</td>\n",
       "      <td>29.672512</td>\n",
       "      <td>4039.340921</td>\n",
       "      <td>1860.976012</td>\n",
       "      <td>15.537102</td>\n",
       "      <td>12.179879</td>\n",
       "    </tr>\n",
       "    <tr>\n",
       "      <th>std</th>\n",
       "      <td>4329.982679</td>\n",
       "      <td>80.699065</td>\n",
       "      <td>65.913872</td>\n",
       "      <td>136.405128</td>\n",
       "      <td>1008.513876</td>\n",
       "      <td>148.121544</td>\n",
       "      <td>45.394651</td>\n",
       "      <td>2502.149334</td>\n",
       "      <td>1446.702288</td>\n",
       "      <td>9.004655</td>\n",
       "      <td>7.824036</td>\n",
       "    </tr>\n",
       "    <tr>\n",
       "      <th>min</th>\n",
       "      <td>0.000000</td>\n",
       "      <td>0.000000</td>\n",
       "      <td>0.000000</td>\n",
       "      <td>0.220211</td>\n",
       "      <td>4.000000</td>\n",
       "      <td>0.000000</td>\n",
       "      <td>0.000000</td>\n",
       "      <td>60.441250</td>\n",
       "      <td>18.282082</td>\n",
       "      <td>0.000000</td>\n",
       "      <td>0.000000</td>\n",
       "    </tr>\n",
       "    <tr>\n",
       "      <th>25%</th>\n",
       "      <td>3749.500000</td>\n",
       "      <td>23.000000</td>\n",
       "      <td>20.000000</td>\n",
       "      <td>90.661156</td>\n",
       "      <td>878.000000</td>\n",
       "      <td>9.000000</td>\n",
       "      <td>0.000000</td>\n",
       "      <td>2212.600607</td>\n",
       "      <td>835.996260</td>\n",
       "      <td>8.000000</td>\n",
       "      <td>5.000000</td>\n",
       "    </tr>\n",
       "    <tr>\n",
       "      <th>50%</th>\n",
       "      <td>7499.000000</td>\n",
       "      <td>56.000000</td>\n",
       "      <td>48.000000</td>\n",
       "      <td>159.568115</td>\n",
       "      <td>1741.000000</td>\n",
       "      <td>71.000000</td>\n",
       "      <td>9.000000</td>\n",
       "      <td>3493.858085</td>\n",
       "      <td>1478.249859</td>\n",
       "      <td>16.000000</td>\n",
       "      <td>12.000000</td>\n",
       "    </tr>\n",
       "    <tr>\n",
       "      <th>75%</th>\n",
       "      <td>11248.500000</td>\n",
       "      <td>112.000000</td>\n",
       "      <td>93.000000</td>\n",
       "      <td>254.192341</td>\n",
       "      <td>2623.500000</td>\n",
       "      <td>178.000000</td>\n",
       "      <td>43.000000</td>\n",
       "      <td>5289.861262</td>\n",
       "      <td>2464.362632</td>\n",
       "      <td>23.000000</td>\n",
       "      <td>19.000000</td>\n",
       "    </tr>\n",
       "    <tr>\n",
       "      <th>max</th>\n",
       "      <td>14998.000000</td>\n",
       "      <td>743.000000</td>\n",
       "      <td>596.000000</td>\n",
       "      <td>1216.154633</td>\n",
       "      <td>3500.000000</td>\n",
       "      <td>1236.000000</td>\n",
       "      <td>415.000000</td>\n",
       "      <td>21183.401890</td>\n",
       "      <td>15851.727160</td>\n",
       "      <td>31.000000</td>\n",
       "      <td>30.000000</td>\n",
       "    </tr>\n",
       "  </tbody>\n",
       "</table>\n",
       "</div>"
      ],
      "text/plain": [
       "                 ID      sessions        drives  total_sessions  \\\n",
       "count  14999.000000  14999.000000  14999.000000    14999.000000   \n",
       "mean    7499.000000     80.633776     67.281152      189.964447   \n",
       "std     4329.982679     80.699065     65.913872      136.405128   \n",
       "min        0.000000      0.000000      0.000000        0.220211   \n",
       "25%     3749.500000     23.000000     20.000000       90.661156   \n",
       "50%     7499.000000     56.000000     48.000000      159.568115   \n",
       "75%    11248.500000    112.000000     93.000000      254.192341   \n",
       "max    14998.000000    743.000000    596.000000     1216.154633   \n",
       "\n",
       "       n_days_after_onboarding  total_navigations_fav1  \\\n",
       "count             14999.000000            14999.000000   \n",
       "mean               1749.837789              121.605974   \n",
       "std                1008.513876              148.121544   \n",
       "min                   4.000000                0.000000   \n",
       "25%                 878.000000                9.000000   \n",
       "50%                1741.000000               71.000000   \n",
       "75%                2623.500000              178.000000   \n",
       "max                3500.000000             1236.000000   \n",
       "\n",
       "       total_navigations_fav2  driven_km_drives  duration_minutes_drives  \\\n",
       "count            14999.000000      14999.000000             14999.000000   \n",
       "mean                29.672512       4039.340921              1860.976012   \n",
       "std                 45.394651       2502.149334              1446.702288   \n",
       "min                  0.000000         60.441250                18.282082   \n",
       "25%                  0.000000       2212.600607               835.996260   \n",
       "50%                  9.000000       3493.858085              1478.249859   \n",
       "75%                 43.000000       5289.861262              2464.362632   \n",
       "max                415.000000      21183.401890             15851.727160   \n",
       "\n",
       "       activity_days  driving_days  \n",
       "count   14999.000000  14999.000000  \n",
       "mean       15.537102     12.179879  \n",
       "std         9.004655      7.824036  \n",
       "min         0.000000      0.000000  \n",
       "25%         8.000000      5.000000  \n",
       "50%        16.000000     12.000000  \n",
       "75%        23.000000     19.000000  \n",
       "max        31.000000     30.000000  "
      ]
     },
     "execution_count": 5,
     "metadata": {},
     "output_type": "execute_result"
    }
   ],
   "source": [
    "df.describe()"
   ]
  },
  {
   "cell_type": "code",
   "execution_count": 6,
   "id": "bb708a3d",
   "metadata": {
    "execution": {
     "iopub.execute_input": "2024-02-09T12:44:58.490367Z",
     "iopub.status.busy": "2024-02-09T12:44:58.489923Z",
     "iopub.status.idle": "2024-02-09T12:44:58.521533Z",
     "shell.execute_reply": "2024-02-09T12:44:58.520690Z"
    },
    "papermill": {
     "duration": 0.066579,
     "end_time": "2024-02-09T12:44:58.524260",
     "exception": false,
     "start_time": "2024-02-09T12:44:58.457681",
     "status": "completed"
    },
    "tags": []
   },
   "outputs": [
    {
     "name": "stdout",
     "output_type": "stream",
     "text": [
      "<class 'pandas.core.frame.DataFrame'>\n",
      "RangeIndex: 14999 entries, 0 to 14998\n",
      "Data columns (total 13 columns):\n",
      " #   Column                   Non-Null Count  Dtype  \n",
      "---  ------                   --------------  -----  \n",
      " 0   ID                       14999 non-null  int64  \n",
      " 1   label                    14299 non-null  object \n",
      " 2   sessions                 14999 non-null  int64  \n",
      " 3   drives                   14999 non-null  int64  \n",
      " 4   total_sessions           14999 non-null  float64\n",
      " 5   n_days_after_onboarding  14999 non-null  int64  \n",
      " 6   total_navigations_fav1   14999 non-null  int64  \n",
      " 7   total_navigations_fav2   14999 non-null  int64  \n",
      " 8   driven_km_drives         14999 non-null  float64\n",
      " 9   duration_minutes_drives  14999 non-null  float64\n",
      " 10  activity_days            14999 non-null  int64  \n",
      " 11  driving_days             14999 non-null  int64  \n",
      " 12  device                   14999 non-null  object \n",
      "dtypes: float64(3), int64(8), object(2)\n",
      "memory usage: 1.5+ MB\n"
     ]
    }
   ],
   "source": [
    "df.info()"
   ]
  },
  {
   "cell_type": "markdown",
   "id": "8b37cce5",
   "metadata": {
    "papermill": {
     "duration": 0.030577,
     "end_time": "2024-02-09T12:44:58.586208",
     "exception": false,
     "start_time": "2024-02-09T12:44:58.555631",
     "status": "completed"
    },
    "tags": []
   },
   "source": [
    "Consider the following questions as you prepare to deal with outliers:\n",
    "\n",
    "1. What are some ways to identify outliers?\n",
    "  * Use numpy functions to investigate the `mean()` and `median()` of the data and understand range of data values\n",
    "  * Use a boxplot to visualize the distribution of the data\n",
    "\n",
    "2. How do you make the decision to keep or exclude outliers from any future models?\n",
    "\n",
    "  * There are three main options for dealing with outliers: keeping them as they are, deleting them, or reassigning them. Whether you keep outliers as they are, delete them, or reassign values is a decision that you make on a dataset-by-dataset basis, according to what your goals are for the model you are planning to construct. To help you make the decision, you can start with these general guidelines:\n",
    "\n",
    "    * Delete them: If you are sure the outliers are mistakes, typos, or errors and the dataset will be used for modeling or machine learning, then you are more likely to decide to delete outliers. Of the three choices, you’ll use this one the least.\n",
    "    * Reassign them: If the dataset is small and/or the data will be used for modeling or machine learning, you are more likely to choose a path of deriving new values to replace the outlier values.\n",
    "    * Leave them: For a dataset that you plan to do EDA/analysis on and nothing else, or for a dataset you are preparing for a model that is resistant to outliers, it is most likely that you are going to leave them in."
   ]
  },
  {
   "cell_type": "markdown",
   "id": "1c3d9371",
   "metadata": {
    "papermill": {
     "duration": 0.029865,
     "end_time": "2024-02-09T12:44:58.646666",
     "exception": false,
     "start_time": "2024-02-09T12:44:58.616801",
     "status": "completed"
    },
    "tags": []
   },
   "source": [
    "### **Task 3a. Visualizations**\n",
    "\n",
    "Select data visualization types that will help you understand and explain the data.\n",
    "\n",
    "Now that you know which data columns you’ll use, it is time to decide which data visualization makes the most sense for EDA of the Waze dataset.\n",
    "\n",
    "**Question:** What type of data visualization(s) will be most helpful?\n",
    "\n",
    "* Line graph\n",
    "* Bar chart\n",
    "* Box plot\n",
    "* Histogram\n",
    "* Heat map\n",
    "* Scatter plot\n",
    "* A geographic map"
   ]
  },
  {
   "cell_type": "markdown",
   "id": "b268535b",
   "metadata": {
    "papermill": {
     "duration": 0.029332,
     "end_time": "2024-02-09T12:44:58.706378",
     "exception": false,
     "start_time": "2024-02-09T12:44:58.677046",
     "status": "completed"
    },
    "tags": []
   },
   "source": [
    "**Answer:**\n",
    "\n",
    "\n",
    "\n",
    "*    Box plots will be helpful to determine outliers and where the bulk of the data points reside in terms of `drives`, `sessions` and all other continuous numeric variables\n",
    "*     Histograms are essential to understand the distribution of variables\n",
    "*     Scatter plots will be helpful to visualize relationships between variables\n",
    "*     Bar charts are useful for communicating levels and quantities, especially for categorical information\n"
   ]
  },
  {
   "cell_type": "markdown",
   "id": "5bdffbf2",
   "metadata": {
    "papermill": {
     "duration": 0.028741,
     "end_time": "2024-02-09T12:44:58.764679",
     "exception": false,
     "start_time": "2024-02-09T12:44:58.735938",
     "status": "completed"
    },
    "tags": []
   },
   "source": [
    "Begin by examining the spread and distribution of important variables using box plots and histograms."
   ]
  },
  {
   "cell_type": "markdown",
   "id": "b9783b6e",
   "metadata": {
    "papermill": {
     "duration": 0.030539,
     "end_time": "2024-02-09T12:44:58.827879",
     "exception": false,
     "start_time": "2024-02-09T12:44:58.797340",
     "status": "completed"
    },
    "tags": []
   },
   "source": [
    "#### **`sessions`**\n",
    "\n",
    "_The number of occurrences of a user opening the app during the month_"
   ]
  },
  {
   "cell_type": "code",
   "execution_count": 7,
   "id": "19aa90d1",
   "metadata": {
    "execution": {
     "iopub.execute_input": "2024-02-09T12:44:58.892025Z",
     "iopub.status.busy": "2024-02-09T12:44:58.891620Z",
     "iopub.status.idle": "2024-02-09T12:44:59.086315Z",
     "shell.execute_reply": "2024-02-09T12:44:59.085066Z"
    },
    "papermill": {
     "duration": 0.229372,
     "end_time": "2024-02-09T12:44:59.088655",
     "exception": false,
     "start_time": "2024-02-09T12:44:58.859283",
     "status": "completed"
    },
    "tags": []
   },
   "outputs": [
    {
     "data": {
      "image/png": "[encoded data removed]",
      "text/plain": [
       "<Figure size 500x100 with 1 Axes>"
      ]
     },
     "metadata": {},
     "output_type": "display_data"
    }
   ],
   "source": [
    "# Box plot\n",
    "plt.figure(figsize=(5,1))\n",
    "sns.boxplot(x=df['sessions'], fliersize=1)\n",
    "plt.title('sessions box plot');"
   ]
  },
  {
   "cell_type": "code",
   "execution_count": 8,
   "id": "9c7bb875",
   "metadata": {
    "execution": {
     "iopub.execute_input": "2024-02-09T12:44:59.153075Z",
     "iopub.status.busy": "2024-02-09T12:44:59.152589Z",
     "iopub.status.idle": "2024-02-09T12:44:59.589709Z",
     "shell.execute_reply": "2024-02-09T12:44:59.588447Z"
    },
    "papermill": {
     "duration": 0.472498,
     "end_time": "2024-02-09T12:44:59.592193",
     "exception": false,
     "start_time": "2024-02-09T12:44:59.119695",
     "status": "completed"
    },
    "tags": []
   },
   "outputs": [
    {
     "data": {
      "image/png": "[encoded data removed]",
      "text/plain": [
       "<Figure size 500x300 with 1 Axes>"
      ]
     },
     "metadata": {},
     "output_type": "display_data"
    }
   ],
   "source": [
    "# Histogram\n",
    "plt.figure(figsize=(5,3))\n",
    "sns.histplot(x=df['sessions'])\n",
    "median = df['sessions'].median()\n",
    "plt.axvline(median, color='red', linestyle='--')\n",
    "plt.text(75,1200, 'median=56.0', color='red')\n",
    "plt.title('sessions box plot');"
   ]
  },
  {
   "cell_type": "markdown",
   "id": "3a2a3580",
   "metadata": {
    "papermill": {
     "duration": 0.029518,
     "end_time": "2024-02-09T12:44:59.651661",
     "exception": false,
     "start_time": "2024-02-09T12:44:59.622143",
     "status": "completed"
    },
    "tags": []
   },
   "source": [
    "The `sessions` variable is a right-skewed distribution with half of the observations having 56 or fewer sessions. However, as indicated by the boxplot, some users have more than 700."
   ]
  },
  {
   "cell_type": "markdown",
   "id": "12470321",
   "metadata": {
    "papermill": {
     "duration": 0.029434,
     "end_time": "2024-02-09T12:44:59.711003",
     "exception": false,
     "start_time": "2024-02-09T12:44:59.681569",
     "status": "completed"
    },
    "tags": []
   },
   "source": [
    "#### **`drives`**\n",
    "\n",
    "_An occurrence of driving at least 1 km during the month_"
   ]
  },
  {
   "cell_type": "code",
   "execution_count": 9,
   "id": "0b31bbbe",
   "metadata": {
    "execution": {
     "iopub.execute_input": "2024-02-09T12:44:59.774668Z",
     "iopub.status.busy": "2024-02-09T12:44:59.774230Z",
     "iopub.status.idle": "2024-02-09T12:44:59.911018Z",
     "shell.execute_reply": "2024-02-09T12:44:59.909485Z"
    },
    "papermill": {
     "duration": 0.171435,
     "end_time": "2024-02-09T12:44:59.913394",
     "exception": false,
     "start_time": "2024-02-09T12:44:59.741959",
     "status": "completed"
    },
    "tags": []
   },
   "outputs": [
    {
     "data": {
      "image/png": "[encoded data removed]",
      "text/plain": [
       "<Figure size 500x100 with 1 Axes>"
      ]
     },
     "metadata": {},
     "output_type": "display_data"
    }
   ],
   "source": [
    "# Box plot\n",
    "plt.figure(figsize=(5,1))\n",
    "sns.boxplot(x=df['drives'], fliersize=1)\n",
    "plt.title('drives box plot');"
   ]
  },
  {
   "cell_type": "code",
   "execution_count": 10,
   "id": "ea8e6127",
   "metadata": {
    "execution": {
     "iopub.execute_input": "2024-02-09T12:44:59.981572Z",
     "iopub.status.busy": "2024-02-09T12:44:59.980551Z",
     "iopub.status.idle": "2024-02-09T12:44:59.986925Z",
     "shell.execute_reply": "2024-02-09T12:44:59.986214Z"
    },
    "papermill": {
     "duration": 0.041749,
     "end_time": "2024-02-09T12:44:59.989548",
     "exception": false,
     "start_time": "2024-02-09T12:44:59.947799",
     "status": "completed"
    },
    "tags": []
   },
   "outputs": [],
   "source": [
    "# Helper function to plot histograms based on the\n",
    "# format of the `sessions` histogram\n",
    "def histogrammer(column_str, median_text=True, **kwargs):    # **kwargs = any keyword arguments\n",
    "                                                             # from the sns.histplot() function\n",
    "    median=round(df[column_str].median(), 1)\n",
    "    plt.figure(figsize=(5,3))\n",
    "    ax = sns.histplot(x=df[column_str], **kwargs)            # Plot the histogram\n",
    "    plt.axvline(median, color='red', linestyle='--')         # Plot the median line\n",
    "    if median_text==True:                                    # Add median text unless set to False\n",
    "        ax.text(0.25, 0.85, f'median={median}', color='red',\n",
    "            ha='left', va='top', transform=ax.transAxes)\n",
    "    else:\n",
    "        print('Median:', median)\n",
    "    plt.title(f'{column_str} histogram');"
   ]
  },
  {
   "cell_type": "code",
   "execution_count": 11,
   "id": "ae9082e1",
   "metadata": {
    "execution": {
     "iopub.execute_input": "2024-02-09T12:45:00.056515Z",
     "iopub.status.busy": "2024-02-09T12:45:00.055737Z",
     "iopub.status.idle": "2024-02-09T12:45:00.448065Z",
     "shell.execute_reply": "2024-02-09T12:45:00.446686Z"
    },
    "papermill": {
     "duration": 0.428907,
     "end_time": "2024-02-09T12:45:00.450508",
     "exception": false,
     "start_time": "2024-02-09T12:45:00.021601",
     "status": "completed"
    },
    "tags": []
   },
   "outputs": [
    {
     "data": {
      "image/png": "[encoded data removed]",
      "text/plain": [
       "<Figure size 500x300 with 1 Axes>"
      ]
     },
     "metadata": {},
     "output_type": "display_data"
    }
   ],
   "source": [
    "# Histogram\n",
    "histogrammer('drives')"
   ]
  },
  {
   "cell_type": "markdown",
   "id": "847525f8",
   "metadata": {
    "papermill": {
     "duration": 0.030289,
     "end_time": "2024-02-09T12:45:00.511633",
     "exception": false,
     "start_time": "2024-02-09T12:45:00.481344",
     "status": "completed"
    },
    "tags": []
   },
   "source": [
    "The `drives` information follows a distribution similar to the `sessions` variable. It is right-skewed, approximately log-normal, with a median of 48. However, some drivers had over 400 drives in the last month."
   ]
  },
  {
   "cell_type": "markdown",
   "id": "fe437d6c",
   "metadata": {
    "papermill": {
     "duration": 0.030206,
     "end_time": "2024-02-09T12:45:00.572365",
     "exception": false,
     "start_time": "2024-02-09T12:45:00.542159",
     "status": "completed"
    },
    "tags": []
   },
   "source": [
    "#### **`total_sessions`**\n",
    "\n",
    "_A model estimate of the total number of sessions since a user has onboarded_"
   ]
  },
  {
   "cell_type": "code",
   "execution_count": 12,
   "id": "ba131baf",
   "metadata": {
    "execution": {
     "iopub.execute_input": "2024-02-09T12:45:00.635335Z",
     "iopub.status.busy": "2024-02-09T12:45:00.634958Z",
     "iopub.status.idle": "2024-02-09T12:45:00.788291Z",
     "shell.execute_reply": "2024-02-09T12:45:00.787468Z"
    },
    "papermill": {
     "duration": 0.187663,
     "end_time": "2024-02-09T12:45:00.790348",
     "exception": false,
     "start_time": "2024-02-09T12:45:00.602685",
     "status": "completed"
    },
    "tags": []
   },
   "outputs": [
    {
     "data": {
      "image/png": "[encoded data removed]",
      "text/plain": [
       "<Figure size 500x100 with 1 Axes>"
      ]
     },
     "metadata": {},
     "output_type": "display_data"
    }
   ],
   "source": [
    "# Box plot\n",
    "plt.figure(figsize=(5,1))\n",
    "sns.boxplot(x=df['total_sessions'], fliersize=1)\n",
    "plt.title('total_sessions box plot');"
   ]
  },
  {
   "cell_type": "code",
   "execution_count": 13,
   "id": "4477b2fb",
   "metadata": {
    "execution": {
     "iopub.execute_input": "2024-02-09T12:45:00.858207Z",
     "iopub.status.busy": "2024-02-09T12:45:00.857537Z",
     "iopub.status.idle": "2024-02-09T12:45:01.216908Z",
     "shell.execute_reply": "2024-02-09T12:45:01.215227Z"
    },
    "papermill": {
     "duration": 0.396924,
     "end_time": "2024-02-09T12:45:01.219488",
     "exception": false,
     "start_time": "2024-02-09T12:45:00.822564",
     "status": "completed"
    },
    "tags": []
   },
   "outputs": [
    {
     "data": {
      "image/png": "[encoded data removed]",
      "text/plain": [
       "<Figure size 500x300 with 1 Axes>"
      ]
     },
     "metadata": {},
     "output_type": "display_data"
    }
   ],
   "source": [
    "# Histogram\n",
    "histogrammer('total_sessions')"
   ]
  },
  {
   "cell_type": "markdown",
   "id": "bb513a08",
   "metadata": {
    "papermill": {
     "duration": 0.032119,
     "end_time": "2024-02-09T12:45:01.285310",
     "exception": false,
     "start_time": "2024-02-09T12:45:01.253191",
     "status": "completed"
    },
    "tags": []
   },
   "source": [
    "The `total_sessions` is a right-skewed distribution. The median total number of sessions is 159.6. This is interesting information because, if the median number of sessions in the last month was 56 and the median total sessions was ~160, then it seems that a large proportion of a user's (estimated) total drives might have taken place in the last month. This is something you can examine more closely later."
   ]
  },
  {
   "cell_type": "markdown",
   "id": "b83d2f30",
   "metadata": {
    "papermill": {
     "duration": 0.035195,
     "end_time": "2024-02-09T12:45:01.354878",
     "exception": false,
     "start_time": "2024-02-09T12:45:01.319683",
     "status": "completed"
    },
    "tags": []
   },
   "source": [
    "#### **`n_days_after_onboarding`**\n",
    "\n",
    "_The number of days since a user signed up for the app_"
   ]
  },
  {
   "cell_type": "code",
   "execution_count": 14,
   "id": "290c3bb4",
   "metadata": {
    "execution": {
     "iopub.execute_input": "2024-02-09T12:45:01.424568Z",
     "iopub.status.busy": "2024-02-09T12:45:01.424176Z",
     "iopub.status.idle": "2024-02-09T12:45:01.591347Z",
     "shell.execute_reply": "2024-02-09T12:45:01.590017Z"
    },
    "papermill": {
     "duration": 0.207011,
     "end_time": "2024-02-09T12:45:01.594141",
     "exception": false,
     "start_time": "2024-02-09T12:45:01.387130",
     "status": "completed"
    },
    "tags": []
   },
   "outputs": [
    {
     "data": {
      "image/png": "[encoded data removed]",
      "text/plain": [
       "<Figure size 500x100 with 1 Axes>"
      ]
     },
     "metadata": {},
     "output_type": "display_data"
    }
   ],
   "source": [
    "# Box plot\n",
    "plt.figure(figsize=(5,1))\n",
    "sns.boxplot(x=df['n_days_after_onboarding'], fliersize=1)\n",
    "plt.title('n_days_after_onboarding box plot');"
   ]
  },
  {
   "cell_type": "code",
   "execution_count": 15,
   "id": "421ae91b",
   "metadata": {
    "execution": {
     "iopub.execute_input": "2024-02-09T12:45:01.661648Z",
     "iopub.status.busy": "2024-02-09T12:45:01.661210Z",
     "iopub.status.idle": "2024-02-09T12:45:01.983395Z",
     "shell.execute_reply": "2024-02-09T12:45:01.981430Z"
    },
    "papermill": {
     "duration": 0.35926,
     "end_time": "2024-02-09T12:45:01.986426",
     "exception": false,
     "start_time": "2024-02-09T12:45:01.627166",
     "status": "completed"
    },
    "tags": []
   },
   "outputs": [
    {
     "name": "stdout",
     "output_type": "stream",
     "text": [
      "Median: 1741.0\n"
     ]
    },
    {
     "data": {
      "image/png": "[encoded data removed]",
      "text/plain": [
       "<Figure size 500x300 with 1 Axes>"
      ]
     },
     "metadata": {},
     "output_type": "display_data"
    }
   ],
   "source": [
    "# Histogram\n",
    "histogrammer('n_days_after_onboarding', median_text=False)"
   ]
  },
  {
   "cell_type": "markdown",
   "id": "3daa7789",
   "metadata": {
    "papermill": {
     "duration": 0.032134,
     "end_time": "2024-02-09T12:45:02.051645",
     "exception": false,
     "start_time": "2024-02-09T12:45:02.019511",
     "status": "completed"
    },
    "tags": []
   },
   "source": [
    "The total user tenure (i.e., number of days since\n",
    "onboarding) is a uniform distribution with values ranging from near-zero to \\~3,500 (\\~9.5 years)."
   ]
  },
  {
   "cell_type": "markdown",
   "id": "530852fe",
   "metadata": {
    "papermill": {
     "duration": 0.032204,
     "end_time": "2024-02-09T12:45:02.116163",
     "exception": false,
     "start_time": "2024-02-09T12:45:02.083959",
     "status": "completed"
    },
    "tags": []
   },
   "source": [
    "#### **`driven_km_drives`**\n",
    "\n",
    "_Total kilometers driven during the month_"
   ]
  },
  {
   "cell_type": "code",
   "execution_count": 16,
   "id": "26379fe7",
   "metadata": {
    "execution": {
     "iopub.execute_input": "2024-02-09T12:45:02.184755Z",
     "iopub.status.busy": "2024-02-09T12:45:02.183539Z",
     "iopub.status.idle": "2024-02-09T12:45:02.317270Z",
     "shell.execute_reply": "2024-02-09T12:45:02.316479Z"
    },
    "papermill": {
     "duration": 0.170267,
     "end_time": "2024-02-09T12:45:02.319598",
     "exception": false,
     "start_time": "2024-02-09T12:45:02.149331",
     "status": "completed"
    },
    "tags": []
   },
   "outputs": [
    {
     "data": {
      "image/png": "[encoded data removed]",
      "text/plain": [
       "<Figure size 500x100 with 1 Axes>"
      ]
     },
     "metadata": {},
     "output_type": "display_data"
    }
   ],
   "source": [
    "# Box plot\n",
    "plt.figure(figsize=(5,1))\n",
    "sns.boxplot(x=df['driven_km_drives'], fliersize=1)\n",
    "plt.title('driven_km_drives box plot');"
   ]
  },
  {
   "cell_type": "code",
   "execution_count": 17,
   "id": "20b0fa12",
   "metadata": {
    "execution": {
     "iopub.execute_input": "2024-02-09T12:45:02.396399Z",
     "iopub.status.busy": "2024-02-09T12:45:02.395764Z",
     "iopub.status.idle": "2024-02-09T12:45:02.720514Z",
     "shell.execute_reply": "2024-02-09T12:45:02.719827Z"
    },
    "papermill": {
     "duration": 0.366305,
     "end_time": "2024-02-09T12:45:02.722653",
     "exception": false,
     "start_time": "2024-02-09T12:45:02.356348",
     "status": "completed"
    },
    "tags": []
   },
   "outputs": [
    {
     "data": {
      "image/png": "[encoded data removed]",
      "text/plain": [
       "<Figure size 500x300 with 1 Axes>"
      ]
     },
     "metadata": {},
     "output_type": "display_data"
    }
   ],
   "source": [
    "# Histogram\n",
    "histogrammer('driven_km_drives')"
   ]
  },
  {
   "cell_type": "markdown",
   "id": "a2082bde",
   "metadata": {
    "papermill": {
     "duration": 0.033501,
     "end_time": "2024-02-09T12:45:02.789957",
     "exception": false,
     "start_time": "2024-02-09T12:45:02.756456",
     "status": "completed"
    },
    "tags": []
   },
   "source": [
    "The number of drives driven in the last month per user is a right-skewed distribution with half the users driving under 3,495 kilometers. As you discovered in the analysis from the previous course, the users in this dataset drive _a lot_. The longest distance driven in the month was over half the circumferene of the earth."
   ]
  },
  {
   "cell_type": "markdown",
   "id": "835c6ed4",
   "metadata": {
    "papermill": {
     "duration": 0.033158,
     "end_time": "2024-02-09T12:45:02.856224",
     "exception": false,
     "start_time": "2024-02-09T12:45:02.823066",
     "status": "completed"
    },
    "tags": []
   },
   "source": [
    "#### **`duration_minutes_drives`**\n",
    "\n",
    "_Total duration driven in minutes during the month_"
   ]
  },
  {
   "cell_type": "code",
   "execution_count": 18,
   "id": "897a3c98",
   "metadata": {
    "execution": {
     "iopub.execute_input": "2024-02-09T12:45:02.926695Z",
     "iopub.status.busy": "2024-02-09T12:45:02.926251Z",
     "iopub.status.idle": "2024-02-09T12:45:03.085427Z",
     "shell.execute_reply": "2024-02-09T12:45:03.084400Z"
    },
    "papermill": {
     "duration": 0.196835,
     "end_time": "2024-02-09T12:45:03.088355",
     "exception": false,
     "start_time": "2024-02-09T12:45:02.891520",
     "status": "completed"
    },
    "tags": []
   },
   "outputs": [
    {
     "data": {
      "image/png": "[encoded data removed]",
      "text/plain": [
       "<Figure size 500x100 with 1 Axes>"
      ]
     },
     "metadata": {},
     "output_type": "display_data"
    }
   ],
   "source": [
    "# Box plot\n",
    "plt.figure(figsize=(5,1))\n",
    "sns.boxplot(x=df['duration_minutes_drives'], fliersize=1)\n",
    "plt.title('duration_minutes_drives box plot');"
   ]
  },
  {
   "cell_type": "code",
   "execution_count": 19,
   "id": "0b81595c",
   "metadata": {
    "execution": {
     "iopub.execute_input": "2024-02-09T12:45:03.157672Z",
     "iopub.status.busy": "2024-02-09T12:45:03.157258Z",
     "iopub.status.idle": "2024-02-09T12:45:03.670160Z",
     "shell.execute_reply": "2024-02-09T12:45:03.668651Z"
    },
    "papermill": {
     "duration": 0.550746,
     "end_time": "2024-02-09T12:45:03.673058",
     "exception": false,
     "start_time": "2024-02-09T12:45:03.122312",
     "status": "completed"
    },
    "tags": []
   },
   "outputs": [
    {
     "data": {
      "image/png": "[encoded data removed]",
      "text/plain": [
       "<Figure size 500x300 with 1 Axes>"
      ]
     },
     "metadata": {},
     "output_type": "display_data"
    }
   ],
   "source": [
    "# Histogram\n",
    "histogrammer('duration_minutes_drives')"
   ]
  },
  {
   "cell_type": "markdown",
   "id": "d3862fce",
   "metadata": {
    "papermill": {
     "duration": 0.033766,
     "end_time": "2024-02-09T12:45:03.741700",
     "exception": false,
     "start_time": "2024-02-09T12:45:03.707934",
     "status": "completed"
    },
    "tags": []
   },
   "source": [
    "The `duration_minutes_drives` variable has a heavily skewed right tail. Half of the users drove less than \\~1,478 minutes (\\~25 hours), but some users clocked over 250 hours over the month."
   ]
  },
  {
   "cell_type": "markdown",
   "id": "56601650",
   "metadata": {
    "papermill": {
     "duration": 0.034721,
     "end_time": "2024-02-09T12:45:03.809825",
     "exception": false,
     "start_time": "2024-02-09T12:45:03.775104",
     "status": "completed"
    },
    "tags": []
   },
   "source": [
    "#### **`activity_days`**\n",
    "\n",
    "_Number of days the user opens the app during the month_"
   ]
  },
  {
   "cell_type": "code",
   "execution_count": 20,
   "id": "fba7452f",
   "metadata": {
    "execution": {
     "iopub.execute_input": "2024-02-09T12:45:03.879308Z",
     "iopub.status.busy": "2024-02-09T12:45:03.878924Z",
     "iopub.status.idle": "2024-02-09T12:45:04.030145Z",
     "shell.execute_reply": "2024-02-09T12:45:04.029376Z"
    },
    "papermill": {
     "duration": 0.189202,
     "end_time": "2024-02-09T12:45:04.032437",
     "exception": false,
     "start_time": "2024-02-09T12:45:03.843235",
     "status": "completed"
    },
    "tags": []
   },
   "outputs": [
    {
     "data": {
      "image/png": "[encoded data removed]",
      "text/plain": [
       "<Figure size 500x100 with 1 Axes>"
      ]
     },
     "metadata": {},
     "output_type": "display_data"
    }
   ],
   "source": [
    "# Box plot\n",
    "plt.figure(figsize=(5,1))\n",
    "sns.boxplot(x=df['activity_days'], fliersize=1)\n",
    "plt.title('activity_days box plot');"
   ]
  },
  {
   "cell_type": "code",
   "execution_count": 21,
   "id": "6271e12d",
   "metadata": {
    "execution": {
     "iopub.execute_input": "2024-02-09T12:45:04.100643Z",
     "iopub.status.busy": "2024-02-09T12:45:04.100201Z",
     "iopub.status.idle": "2024-02-09T12:45:04.399145Z",
     "shell.execute_reply": "2024-02-09T12:45:04.397698Z"
    },
    "papermill": {
     "duration": 0.33592,
     "end_time": "2024-02-09T12:45:04.401520",
     "exception": false,
     "start_time": "2024-02-09T12:45:04.065600",
     "status": "completed"
    },
    "tags": []
   },
   "outputs": [
    {
     "name": "stdout",
     "output_type": "stream",
     "text": [
      "Median: 16.0\n"
     ]
    },
    {
     "data": {
      "image/png": "[encoded data removed]",
      "text/plain": [
       "<Figure size 500x300 with 1 Axes>"
      ]
     },
     "metadata": {},
     "output_type": "display_data"
    }
   ],
   "source": [
    "# Histogram\n",
    "histogrammer('activity_days', median_text=False, discrete=True)"
   ]
  },
  {
   "cell_type": "markdown",
   "id": "f1a9497b",
   "metadata": {
    "papermill": {
     "duration": 0.034279,
     "end_time": "2024-02-09T12:45:04.469681",
     "exception": false,
     "start_time": "2024-02-09T12:45:04.435402",
     "status": "completed"
    },
    "tags": []
   },
   "source": [
    "Within the last month, users opened the app a median of 16 times. The box plot reveals a centered distribution. The histogram shows a nearly uniform distribution of ~500 people opening the app on each count of days. However, there are ~250 people who didn't open the app at all and ~250 people who opened the app every day of the month.\n",
    "\n",
    "This distribution is noteworthy because it does not mirror the `sessions` distribution, which you might think would be closely correlated with `activity_days`."
   ]
  },
  {
   "cell_type": "markdown",
   "id": "4588cfea",
   "metadata": {
    "papermill": {
     "duration": 0.033789,
     "end_time": "2024-02-09T12:45:04.538507",
     "exception": false,
     "start_time": "2024-02-09T12:45:04.504718",
     "status": "completed"
    },
    "tags": []
   },
   "source": [
    "#### **`driving_days`**\n",
    "\n",
    "_Number of days the user drives (at least 1 km) during the month_"
   ]
  },
  {
   "cell_type": "code",
   "execution_count": 22,
   "id": "5c2627c7",
   "metadata": {
    "execution": {
     "iopub.execute_input": "2024-02-09T12:45:04.609538Z",
     "iopub.status.busy": "2024-02-09T12:45:04.607631Z",
     "iopub.status.idle": "2024-02-09T12:45:04.751420Z",
     "shell.execute_reply": "2024-02-09T12:45:04.750696Z"
    },
    "papermill": {
     "duration": 0.18161,
     "end_time": "2024-02-09T12:45:04.754127",
     "exception": false,
     "start_time": "2024-02-09T12:45:04.572517",
     "status": "completed"
    },
    "tags": []
   },
   "outputs": [
    {
     "data": {
      "image/png": "[encoded data removed]",
      "text/plain": [
       "<Figure size 500x100 with 1 Axes>"
      ]
     },
     "metadata": {},
     "output_type": "display_data"
    }
   ],
   "source": [
    "# Box plot\n",
    "plt.figure(figsize=(5,1))\n",
    "sns.boxplot(x=df['driving_days'], fliersize=1)\n",
    "plt.title('driving_days box plot');"
   ]
  },
  {
   "cell_type": "code",
   "execution_count": 23,
   "id": "be5eaeda",
   "metadata": {
    "execution": {
     "iopub.execute_input": "2024-02-09T12:45:04.829550Z",
     "iopub.status.busy": "2024-02-09T12:45:04.828758Z",
     "iopub.status.idle": "2024-02-09T12:45:05.114218Z",
     "shell.execute_reply": "2024-02-09T12:45:05.112585Z"
    },
    "papermill": {
     "duration": 0.326228,
     "end_time": "2024-02-09T12:45:05.116385",
     "exception": false,
     "start_time": "2024-02-09T12:45:04.790157",
     "status": "completed"
    },
    "tags": []
   },
   "outputs": [
    {
     "name": "stdout",
     "output_type": "stream",
     "text": [
      "Median: 12.0\n"
     ]
    },
    {
     "data": {
      "image/png": "[encoded data removed]",
      "text/plain": [
       "<Figure size 500x300 with 1 Axes>"
      ]
     },
     "metadata": {},
     "output_type": "display_data"
    }
   ],
   "source": [
    "# Histogram\n",
    "histogrammer('driving_days', median_text=False, discrete=True)"
   ]
  },
  {
   "cell_type": "markdown",
   "id": "b37cb75e",
   "metadata": {
    "papermill": {
     "duration": 0.035896,
     "end_time": "2024-02-09T12:45:05.186243",
     "exception": false,
     "start_time": "2024-02-09T12:45:05.150347",
     "status": "completed"
    },
    "tags": []
   },
   "source": [
    "The number of days users drove each month is almost uniform, and it largely correlates with the number of days they opened the app that month, except the `driving_days` distribution tails off on the right.\n",
    "\n",
    "However, there were almost twice as many users (\\~1,000 vs. \\~550) who did not drive at all during the month. This might seem counterintuitive when considered together with the information from `activity_days`. That variable had \\~500 users opening the app on each of most of the day counts, but there were only \\~250 users who did not open the app at all during the month and ~250 users who opened the app every day. Flag this for further investigation later."
   ]
  },
  {
   "cell_type": "markdown",
   "id": "305e03fc",
   "metadata": {
    "papermill": {
     "duration": 0.034943,
     "end_time": "2024-02-09T12:45:05.257495",
     "exception": false,
     "start_time": "2024-02-09T12:45:05.222552",
     "status": "completed"
    },
    "tags": []
   },
   "source": [
    "#### **`device`**\n",
    "\n",
    "_The type of device a user starts a session with_\n",
    "\n",
    "This is a categorical variable, so you do not plot a box plot for it. A good plot for a binary categorical variable is a pie chart."
   ]
  },
  {
   "cell_type": "code",
   "execution_count": 24,
   "id": "3549d2fc",
   "metadata": {
    "execution": {
     "iopub.execute_input": "2024-02-09T12:45:05.327995Z",
     "iopub.status.busy": "2024-02-09T12:45:05.327515Z",
     "iopub.status.idle": "2024-02-09T12:45:05.439478Z",
     "shell.execute_reply": "2024-02-09T12:45:05.438280Z"
    },
    "papermill": {
     "duration": 0.150406,
     "end_time": "2024-02-09T12:45:05.442382",
     "exception": false,
     "start_time": "2024-02-09T12:45:05.291976",
     "status": "completed"
    },
    "tags": []
   },
   "outputs": [
    {
     "data": {
      "image/png": "[encoded data removed]",
      "text/plain": [
       "<Figure size 300x300 with 1 Axes>"
      ]
     },
     "metadata": {},
     "output_type": "display_data"
    }
   ],
   "source": [
    "# Pie chart\n",
    "fig = plt.figure(figsize=(3,3))\n",
    "data=df['device'].value_counts()\n",
    "plt.pie(data,\n",
    "        labels=[f'{data.index[0]}: {data.values[0]}',\n",
    "                f'{data.index[1]}: {data.values[1]}'],\n",
    "        autopct='%1.1f%%'\n",
    "        )\n",
    "plt.title('Users by device');"
   ]
  },
  {
   "cell_type": "markdown",
   "id": "6d722b63",
   "metadata": {
    "papermill": {
     "duration": 0.044467,
     "end_time": "2024-02-09T12:45:05.531764",
     "exception": false,
     "start_time": "2024-02-09T12:45:05.487297",
     "status": "completed"
    },
    "tags": []
   },
   "source": [
    "There are nearly twice as many iPhone users as Android users represented in this data."
   ]
  },
  {
   "cell_type": "markdown",
   "id": "28e9b1ad",
   "metadata": {
    "papermill": {
     "duration": 0.034693,
     "end_time": "2024-02-09T12:45:05.601698",
     "exception": false,
     "start_time": "2024-02-09T12:45:05.567005",
     "status": "completed"
    },
    "tags": []
   },
   "source": [
    "#### **`label`**\n",
    "\n",
    "_Binary target variable (“retained” vs “churned”) for if a user has churned anytime during the course of the month_\n",
    "\n",
    "This is also a categorical variable, and as such would not be plotted as a box plot. Plot a pie chart instead."
   ]
  },
  {
   "cell_type": "code",
   "execution_count": 25,
   "id": "9a04540e",
   "metadata": {
    "execution": {
     "iopub.execute_input": "2024-02-09T12:45:05.674183Z",
     "iopub.status.busy": "2024-02-09T12:45:05.673401Z",
     "iopub.status.idle": "2024-02-09T12:45:05.776150Z",
     "shell.execute_reply": "2024-02-09T12:45:05.775459Z"
    },
    "papermill": {
     "duration": 0.140966,
     "end_time": "2024-02-09T12:45:05.778203",
     "exception": false,
     "start_time": "2024-02-09T12:45:05.637237",
     "status": "completed"
    },
    "tags": []
   },
   "outputs": [
    {
     "data": {
      "image/png": "[encoded data removed]",
      "text/plain": [
       "<Figure size 300x300 with 1 Axes>"
      ]
     },
     "metadata": {},
     "output_type": "display_data"
    }
   ],
   "source": [
    "# Pie chart\n",
    "fig = plt.figure(figsize=(3,3))\n",
    "data=df['label'].value_counts()\n",
    "plt.pie(data,\n",
    "        labels=[f'{data.index[0]}: {data.values[0]}',\n",
    "                f'{data.index[1]}: {data.values[1]}'],\n",
    "        autopct='%1.1f%%'\n",
    "        )\n",
    "plt.title('Count of retained vs. churned');"
   ]
  },
  {
   "cell_type": "markdown",
   "id": "a4e4f229",
   "metadata": {
    "papermill": {
     "duration": 0.046839,
     "end_time": "2024-02-09T12:45:05.873749",
     "exception": false,
     "start_time": "2024-02-09T12:45:05.826910",
     "status": "completed"
    },
    "tags": []
   },
   "source": [
    "Less than 18% of the users churned."
   ]
  },
  {
   "cell_type": "markdown",
   "id": "e0a6e6bd",
   "metadata": {
    "papermill": {
     "duration": 0.04411,
     "end_time": "2024-02-09T12:45:05.963617",
     "exception": false,
     "start_time": "2024-02-09T12:45:05.919507",
     "status": "completed"
    },
    "tags": []
   },
   "source": [
    "#### **`driving_days` vs. `activity_days`**\n",
    "\n",
    "Because both `driving_days` and `activity_days` represent counts of days over a month and they're also closely related, you can plot them together on a single histogram. This will help to better understand how they relate to each other without having to scroll back and forth comparing histograms in two different places.\n",
    "\n",
    "Plot a histogram that, for each day, has a bar representing the counts of `driving_days` and `user_days`."
   ]
  },
  {
   "cell_type": "code",
   "execution_count": 26,
   "id": "9d475b8a",
   "metadata": {
    "execution": {
     "iopub.execute_input": "2024-02-09T12:45:06.037143Z",
     "iopub.status.busy": "2024-02-09T12:45:06.036744Z",
     "iopub.status.idle": "2024-02-09T12:45:06.427291Z",
     "shell.execute_reply": "2024-02-09T12:45:06.425507Z"
    },
    "papermill": {
     "duration": 0.431048,
     "end_time": "2024-02-09T12:45:06.430014",
     "exception": false,
     "start_time": "2024-02-09T12:45:05.998966",
     "status": "completed"
    },
    "tags": []
   },
   "outputs": [
    {
     "data": {
      "image/png": "[encoded data removed]",
      "text/plain": [
       "<Figure size 1200x400 with 1 Axes>"
      ]
     },
     "metadata": {},
     "output_type": "display_data"
    }
   ],
   "source": [
    "# Histogram\n",
    "plt.figure(figsize=(12,4))\n",
    "label=['driving days', 'activity days']\n",
    "plt.hist([df['driving_days'], df['activity_days']],\n",
    "         bins=range(0,33),\n",
    "         label=label)\n",
    "plt.xlabel('days')\n",
    "plt.ylabel('count')\n",
    "plt.legend()\n",
    "plt.title('driving_days vs. activity_days');"
   ]
  },
  {
   "cell_type": "markdown",
   "id": "3f15a43b",
   "metadata": {
    "papermill": {
     "duration": 0.034964,
     "end_time": "2024-02-09T12:45:06.500914",
     "exception": false,
     "start_time": "2024-02-09T12:45:06.465950",
     "status": "completed"
    },
    "tags": []
   },
   "source": [
    "As observed previously, this might seem counterintuitive. After all, why are there _fewer_ people who didn't use the app at all during the month and _more_ people who didn't drive at all during the month?\n",
    "\n",
    "On the other hand, it could just be illustrative of the fact that, while these variables are related to each other, they're not the same. People probably just open the app more than they use the app to drive&mdash;perhaps to check drive times or route information, to update settings, or even just by mistake.\n",
    "\n",
    "Nonetheless, it might be worthwile to contact the data team at Waze to get more information about this, especially because it seems that the number of days in the month is not the same between variables.\n",
    "\n",
    "Confirm the maximum number of days for each variable&mdash;`driving_days` and `activity_days`."
   ]
  },
  {
   "cell_type": "code",
   "execution_count": 27,
   "id": "d3a204a1",
   "metadata": {
    "execution": {
     "iopub.execute_input": "2024-02-09T12:45:06.573943Z",
     "iopub.status.busy": "2024-02-09T12:45:06.572687Z",
     "iopub.status.idle": "2024-02-09T12:45:06.579624Z",
     "shell.execute_reply": "2024-02-09T12:45:06.578476Z"
    },
    "papermill": {
     "duration": 0.046277,
     "end_time": "2024-02-09T12:45:06.581588",
     "exception": false,
     "start_time": "2024-02-09T12:45:06.535311",
     "status": "completed"
    },
    "tags": []
   },
   "outputs": [
    {
     "name": "stdout",
     "output_type": "stream",
     "text": [
      "30\n",
      "31\n"
     ]
    }
   ],
   "source": [
    "print(df['driving_days'].max())\n",
    "print(df['activity_days'].max())"
   ]
  },
  {
   "cell_type": "markdown",
   "id": "74633a1d",
   "metadata": {
    "papermill": {
     "duration": 0.036787,
     "end_time": "2024-02-09T12:45:06.654255",
     "exception": false,
     "start_time": "2024-02-09T12:45:06.617468",
     "status": "completed"
    },
    "tags": []
   },
   "source": [
    "It's true. Although it's possible that not a single user drove all 31 days of the month, it's highly unlikely, considering there are 15,000 people represented in the dataset.\n",
    "\n",
    "One other way to check the validity of these variables is to plot a simple scatter plot with the x-axis representing one variable and the y-axis representing the other."
   ]
  },
  {
   "cell_type": "code",
   "execution_count": 28,
   "id": "23f8d2b6",
   "metadata": {
    "execution": {
     "iopub.execute_input": "2024-02-09T12:45:06.729025Z",
     "iopub.status.busy": "2024-02-09T12:45:06.727464Z",
     "iopub.status.idle": "2024-02-09T12:45:07.037036Z",
     "shell.execute_reply": "2024-02-09T12:45:07.035281Z"
    },
    "papermill": {
     "duration": 0.348551,
     "end_time": "2024-02-09T12:45:07.039757",
     "exception": false,
     "start_time": "2024-02-09T12:45:06.691206",
     "status": "completed"
    },
    "tags": []
   },
   "outputs": [
    {
     "data": {
      "image/png": "[encoded data removed]",
      "text/plain": [
       "<Figure size 640x480 with 1 Axes>"
      ]
     },
     "metadata": {},
     "output_type": "display_data"
    }
   ],
   "source": [
    "# Scatter plot\n",
    "sns.scatterplot(data=df, x='driving_days', y='activity_days')\n",
    "plt.title('driving_days vs. activity_days')\n",
    "plt.plot([0,31], [0,31], color='red', linestyle='--');"
   ]
  },
  {
   "cell_type": "markdown",
   "id": "9912d420",
   "metadata": {
    "papermill": {
     "duration": 0.036677,
     "end_time": "2024-02-09T12:45:07.113012",
     "exception": false,
     "start_time": "2024-02-09T12:45:07.076335",
     "status": "completed"
    },
    "tags": []
   },
   "source": [
    "Notice that there is a theoretical limit. If you use the app to drive, then by definition it must count as a day-use as well. In other words, you cannot have more drive-days than activity-days. None of the samples in this data violate this rule, which is good."
   ]
  },
  {
   "cell_type": "markdown",
   "id": "6a17961b",
   "metadata": {
    "papermill": {
     "duration": 0.035652,
     "end_time": "2024-02-09T12:45:07.184662",
     "exception": false,
     "start_time": "2024-02-09T12:45:07.149010",
     "status": "completed"
    },
    "tags": []
   },
   "source": [
    "#### **Retention by device**\n",
    "\n",
    "Plot a histogram that has four bars&mdash;one for each device-label combination&mdash;to show how many iPhone users were retained/churned and how many Android users were retained/churned."
   ]
  },
  {
   "cell_type": "code",
   "execution_count": 29,
   "id": "73ef1af0",
   "metadata": {
    "execution": {
     "iopub.execute_input": "2024-02-09T12:45:07.260976Z",
     "iopub.status.busy": "2024-02-09T12:45:07.260535Z",
     "iopub.status.idle": "2024-02-09T12:45:07.566443Z",
     "shell.execute_reply": "2024-02-09T12:45:07.565043Z"
    },
    "papermill": {
     "duration": 0.348225,
     "end_time": "2024-02-09T12:45:07.569402",
     "exception": false,
     "start_time": "2024-02-09T12:45:07.221177",
     "status": "completed"
    },
    "tags": []
   },
   "outputs": [
    {
     "data": {
      "image/png": "[encoded data removed]",
      "text/plain": [
       "<Figure size 500x400 with 1 Axes>"
      ]
     },
     "metadata": {},
     "output_type": "display_data"
    }
   ],
   "source": [
    "# Histogram\n",
    "plt.figure(figsize=(5,4))\n",
    "sns.histplot(data=df,\n",
    "             x='device',\n",
    "             hue='label',\n",
    "             multiple='dodge',\n",
    "             shrink=0.9\n",
    "             )\n",
    "plt.title('Retention by device histogram');"
   ]
  },
  {
   "cell_type": "markdown",
   "id": "e9f6cdbb",
   "metadata": {
    "papermill": {
     "duration": 0.035587,
     "end_time": "2024-02-09T12:45:07.642186",
     "exception": false,
     "start_time": "2024-02-09T12:45:07.606599",
     "status": "completed"
    },
    "tags": []
   },
   "source": [
    "The proportion of churned users to retained users is consistent between device types."
   ]
  },
  {
   "cell_type": "markdown",
   "id": "8c84cf8e",
   "metadata": {
    "papermill": {
     "duration": 0.036445,
     "end_time": "2024-02-09T12:45:07.716877",
     "exception": false,
     "start_time": "2024-02-09T12:45:07.680432",
     "status": "completed"
    },
    "tags": []
   },
   "source": [
    "#### **Retention by kilometers driven per driving day**\n",
    "\n",
    "In the previous course, you discovered that the median distance driven per driving day last month for users who churned was 608.78 km, versus 247.48 km for people who did not churn. Examine this further.\n",
    "\n",
    "1. Create a new column in `df` called `km_per_driving_day`, which represents the mean distance driven per driving day for each user.\n",
    "\n",
    "2. Call the `describe()` method on the new column."
   ]
  },
  {
   "cell_type": "code",
   "execution_count": 30,
   "id": "b4d5a782",
   "metadata": {
    "execution": {
     "iopub.execute_input": "2024-02-09T12:45:07.792801Z",
     "iopub.status.busy": "2024-02-09T12:45:07.792386Z",
     "iopub.status.idle": "2024-02-09T12:45:07.809462Z",
     "shell.execute_reply": "2024-02-09T12:45:07.808264Z"
    },
    "papermill": {
     "duration": 0.058468,
     "end_time": "2024-02-09T12:45:07.811509",
     "exception": false,
     "start_time": "2024-02-09T12:45:07.753041",
     "status": "completed"
    },
    "tags": []
   },
   "outputs": [
    {
     "data": {
      "text/plain": [
       "count    1.499900e+04\n",
       "mean              inf\n",
       "std               NaN\n",
       "min      3.022063e+00\n",
       "25%      1.672804e+02\n",
       "50%      3.231459e+02\n",
       "75%      7.579257e+02\n",
       "max               inf\n",
       "Name: km_per_driving_day, dtype: float64"
      ]
     },
     "execution_count": 30,
     "metadata": {},
     "output_type": "execute_result"
    }
   ],
   "source": [
    "# 1. Create `km_per_driving_day` column\n",
    "df['km_per_driving_day'] = df['driven_km_drives'] / df['driving_days']\n",
    "\n",
    "# 2. Call `describe()` on the new column\n",
    "df['km_per_driving_day'].describe()"
   ]
  },
  {
   "cell_type": "markdown",
   "id": "afa96f2a",
   "metadata": {
    "papermill": {
     "duration": 0.037604,
     "end_time": "2024-02-09T12:45:07.886622",
     "exception": false,
     "start_time": "2024-02-09T12:45:07.849018",
     "status": "completed"
    },
    "tags": []
   },
   "source": [
    "What do you notice? The mean value is infinity, the standard deviation is NaN, and the max value is infinity. Why do you think this is?\n",
    "\n",
    "This is the result of there being values of zero in the `driving_days` column. Pandas imputes a value of infinity in the corresponding rows of the new column because division by zero is undefined.\n",
    "\n",
    "1. Convert these values from infinity to zero. You can use `np.inf` to refer to a value of infinity.\n",
    "\n",
    "2. Call `describe()` on the `km_per_driving_day` column to verify that it worked."
   ]
  },
  {
   "cell_type": "code",
   "execution_count": 31,
   "id": "2a796b9b",
   "metadata": {
    "execution": {
     "iopub.execute_input": "2024-02-09T12:45:07.961741Z",
     "iopub.status.busy": "2024-02-09T12:45:07.961094Z",
     "iopub.status.idle": "2024-02-09T12:45:07.973940Z",
     "shell.execute_reply": "2024-02-09T12:45:07.972689Z"
    },
    "papermill": {
     "duration": 0.052442,
     "end_time": "2024-02-09T12:45:07.976160",
     "exception": false,
     "start_time": "2024-02-09T12:45:07.923718",
     "status": "completed"
    },
    "tags": []
   },
   "outputs": [
    {
     "data": {
      "text/plain": [
       "count    14999.000000\n",
       "mean       578.963113\n",
       "std       1030.094384\n",
       "min          0.000000\n",
       "25%        136.238895\n",
       "50%        272.889272\n",
       "75%        558.686918\n",
       "max      15420.234110\n",
       "Name: km_per_driving_day, dtype: float64"
      ]
     },
     "execution_count": 31,
     "metadata": {},
     "output_type": "execute_result"
    }
   ],
   "source": [
    "# 1. Convert infinite values to zero\n",
    "df.loc[df['km_per_driving_day']==np.inf, 'km_per_driving_day'] = 0\n",
    "\n",
    "# 2. Confirm that it worked\n",
    "df['km_per_driving_day'].describe()"
   ]
  },
  {
   "cell_type": "markdown",
   "id": "1396cb41",
   "metadata": {
    "papermill": {
     "duration": 0.036693,
     "end_time": "2024-02-09T12:45:08.049349",
     "exception": false,
     "start_time": "2024-02-09T12:45:08.012656",
     "status": "completed"
    },
    "tags": []
   },
   "source": [
    "The maximum value is 15,420 kilometers _per drive day_. This is physically impossible. Driving 100 km/hour for 12 hours is 1,200 km. It's unlikely many people averaged more than this each day they drove, so, for now, disregard rows where the distance in this column is greater than 1,200 km.\n",
    "\n",
    "Plot a histogram of the new `km_per_driving_day` column, disregarding those users with values greater than 1,200 km. Each bar should be the same length and have two colors, one color representing the percent of the users in that bar that churned and the other representing the percent that were retained. This can be done by setting the `multiple` parameter of seaborn's [`histplot()`](https://seaborn.pydata.org/generated/seaborn.histplot.html) function to `fill`."
   ]
  },
  {
   "cell_type": "code",
   "execution_count": 32,
   "id": "8663235d",
   "metadata": {
    "execution": {
     "iopub.execute_input": "2024-02-09T12:45:08.129061Z",
     "iopub.status.busy": "2024-02-09T12:45:08.128630Z",
     "iopub.status.idle": "2024-02-09T12:45:08.700760Z",
     "shell.execute_reply": "2024-02-09T12:45:08.699037Z"
    },
    "papermill": {
     "duration": 0.617436,
     "end_time": "2024-02-09T12:45:08.703895",
     "exception": false,
     "start_time": "2024-02-09T12:45:08.086459",
     "status": "completed"
    },
    "tags": []
   },
   "outputs": [
    {
     "data": {
      "image/png": "[encoded data removed]",
      "text/plain": [
       "<Figure size 1200x500 with 1 Axes>"
      ]
     },
     "metadata": {},
     "output_type": "display_data"
    }
   ],
   "source": [
    "# Histogram\n",
    "plt.figure(figsize=(12,5))\n",
    "sns.histplot(data=df,\n",
    "             x='km_per_driving_day',\n",
    "             bins=range(0,1201,20),\n",
    "             hue='label',\n",
    "             multiple='fill')\n",
    "plt.ylabel('%', rotation=0)\n",
    "plt.title('Churn rate by mean km per driving day');"
   ]
  },
  {
   "cell_type": "markdown",
   "id": "327dfe89",
   "metadata": {
    "papermill": {
     "duration": 0.035279,
     "end_time": "2024-02-09T12:45:08.775344",
     "exception": false,
     "start_time": "2024-02-09T12:45:08.740065",
     "status": "completed"
    },
    "tags": []
   },
   "source": [
    "The churn rate tends to increase as the mean daily distance driven increases, confirming what was found in the previous course. It would be worth investigating further the reasons for long-distance users to discontinue using the app."
   ]
  },
  {
   "cell_type": "markdown",
   "id": "c4815f28",
   "metadata": {
    "papermill": {
     "duration": 0.036169,
     "end_time": "2024-02-09T12:45:08.846996",
     "exception": false,
     "start_time": "2024-02-09T12:45:08.810827",
     "status": "completed"
    },
    "tags": []
   },
   "source": [
    "#### **Churn rate per number of driving days**\n",
    "\n",
    "Create another histogram just like the previous one, only this time it should represent the churn rate for each number of driving days."
   ]
  },
  {
   "cell_type": "code",
   "execution_count": 33,
   "id": "f51a46c4",
   "metadata": {
    "execution": {
     "iopub.execute_input": "2024-02-09T12:45:08.922052Z",
     "iopub.status.busy": "2024-02-09T12:45:08.921729Z",
     "iopub.status.idle": "2024-02-09T12:45:09.387460Z",
     "shell.execute_reply": "2024-02-09T12:45:09.385707Z"
    },
    "papermill": {
     "duration": 0.506474,
     "end_time": "2024-02-09T12:45:09.390148",
     "exception": false,
     "start_time": "2024-02-09T12:45:08.883674",
     "status": "completed"
    },
    "tags": []
   },
   "outputs": [
    {
     "data": {
      "image/png": "[encoded data removed]",
      "text/plain": [
       "<Figure size 1200x500 with 1 Axes>"
      ]
     },
     "metadata": {},
     "output_type": "display_data"
    }
   ],
   "source": [
    "# Histogram\n",
    "plt.figure(figsize=(12,5))\n",
    "sns.histplot(data=df,\n",
    "             x='driving_days',\n",
    "             bins=range(1,32),\n",
    "             hue='label',\n",
    "             multiple='fill',\n",
    "             discrete=True)\n",
    "plt.ylabel('%', rotation=0)\n",
    "plt.title('Churn rate per driving day');"
   ]
  },
  {
   "cell_type": "markdown",
   "id": "2d079a5d",
   "metadata": {
    "papermill": {
     "duration": 0.036866,
     "end_time": "2024-02-09T12:45:09.463874",
     "exception": false,
     "start_time": "2024-02-09T12:45:09.427008",
     "status": "completed"
    },
    "tags": []
   },
   "source": [
    "The churn rate is highest for people who didn't use Waze much during the last month. The more times they used the app, the less likely they were to churn. While 40% of the users who didn't use the app at all last month churned, nobody who used the app 30 days churned.\n",
    "\n",
    "This isn't surprising. If people who used the app a lot churned, it would likely indicate dissatisfaction. When people who don't use the app churn, it might be the result of dissatisfaction in the past, or it might be indicative of a lesser need for a navigational app. Maybe they moved to a city with good public transportation and don't need to drive anymore."
   ]
  },
  {
   "cell_type": "markdown",
   "id": "0d8fb56f",
   "metadata": {
    "papermill": {
     "duration": 0.03757,
     "end_time": "2024-02-09T12:45:09.539275",
     "exception": false,
     "start_time": "2024-02-09T12:45:09.501705",
     "status": "completed"
    },
    "tags": []
   },
   "source": [
    "#### **Proportion of sessions that occurred in the last month**\n",
    "\n",
    "Create a new column `percent_sessions_in_last_month` that represents the percentage of each user's total sessions that were logged in their last month of use."
   ]
  },
  {
   "cell_type": "code",
   "execution_count": 34,
   "id": "b50ad70f",
   "metadata": {
    "execution": {
     "iopub.execute_input": "2024-02-09T12:45:09.614143Z",
     "iopub.status.busy": "2024-02-09T12:45:09.613692Z",
     "iopub.status.idle": "2024-02-09T12:45:09.619266Z",
     "shell.execute_reply": "2024-02-09T12:45:09.618384Z"
    },
    "papermill": {
     "duration": 0.045196,
     "end_time": "2024-02-09T12:45:09.621154",
     "exception": false,
     "start_time": "2024-02-09T12:45:09.575958",
     "status": "completed"
    },
    "tags": []
   },
   "outputs": [],
   "source": [
    "df['percent_sessions_in_last_month'] = df['sessions'] / df['total_sessions']"
   ]
  },
  {
   "cell_type": "markdown",
   "id": "7e33462f",
   "metadata": {
    "papermill": {
     "duration": 0.035258,
     "end_time": "2024-02-09T12:45:09.692955",
     "exception": false,
     "start_time": "2024-02-09T12:45:09.657697",
     "status": "completed"
    },
    "tags": []
   },
   "source": [
    "What is the median value of the new column?"
   ]
  },
  {
   "cell_type": "code",
   "execution_count": 35,
   "id": "36ba1206",
   "metadata": {
    "execution": {
     "iopub.execute_input": "2024-02-09T12:45:09.767252Z",
     "iopub.status.busy": "2024-02-09T12:45:09.766840Z",
     "iopub.status.idle": "2024-02-09T12:45:09.774730Z",
     "shell.execute_reply": "2024-02-09T12:45:09.773075Z"
    },
    "papermill": {
     "duration": 0.048337,
     "end_time": "2024-02-09T12:45:09.777500",
     "exception": false,
     "start_time": "2024-02-09T12:45:09.729163",
     "status": "completed"
    },
    "tags": []
   },
   "outputs": [
    {
     "data": {
      "text/plain": [
       "0.42309702992763176"
      ]
     },
     "execution_count": 35,
     "metadata": {},
     "output_type": "execute_result"
    }
   ],
   "source": [
    "df['percent_sessions_in_last_month'].median()"
   ]
  },
  {
   "cell_type": "markdown",
   "id": "97d3605b",
   "metadata": {
    "papermill": {
     "duration": 0.038178,
     "end_time": "2024-02-09T12:45:09.853251",
     "exception": false,
     "start_time": "2024-02-09T12:45:09.815073",
     "status": "completed"
    },
    "tags": []
   },
   "source": [
    "Now, create a histogram depicting the distribution of values in this new column."
   ]
  },
  {
   "cell_type": "code",
   "execution_count": 36,
   "id": "502d0640",
   "metadata": {
    "execution": {
     "iopub.execute_input": "2024-02-09T12:45:09.932903Z",
     "iopub.status.busy": "2024-02-09T12:45:09.932496Z",
     "iopub.status.idle": "2024-02-09T12:45:10.405733Z",
     "shell.execute_reply": "2024-02-09T12:45:10.404269Z"
    },
    "papermill": {
     "duration": 0.515429,
     "end_time": "2024-02-09T12:45:10.408286",
     "exception": false,
     "start_time": "2024-02-09T12:45:09.892857",
     "status": "completed"
    },
    "tags": []
   },
   "outputs": [
    {
     "name": "stdout",
     "output_type": "stream",
     "text": [
      "Median: 0.4\n"
     ]
    },
    {
     "data": {
      "image/png": "[encoded data removed]",
      "text/plain": [
       "<Figure size 500x300 with 1 Axes>"
      ]
     },
     "metadata": {},
     "output_type": "display_data"
    }
   ],
   "source": [
    "# Histogram\n",
    "histogrammer('percent_sessions_in_last_month',\n",
    "             hue=df['label'],\n",
    "             multiple='layer',\n",
    "             median_text=False)"
   ]
  },
  {
   "cell_type": "markdown",
   "id": "c17edc2b",
   "metadata": {
    "papermill": {
     "duration": 0.037732,
     "end_time": "2024-02-09T12:45:10.483525",
     "exception": false,
     "start_time": "2024-02-09T12:45:10.445793",
     "status": "completed"
    },
    "tags": []
   },
   "source": [
    "Check the median value of the `n_days_after_onboarding` variable."
   ]
  },
  {
   "cell_type": "code",
   "execution_count": 37,
   "id": "2f90b777",
   "metadata": {
    "execution": {
     "iopub.execute_input": "2024-02-09T12:45:10.561480Z",
     "iopub.status.busy": "2024-02-09T12:45:10.560370Z",
     "iopub.status.idle": "2024-02-09T12:45:10.569972Z",
     "shell.execute_reply": "2024-02-09T12:45:10.568704Z"
    },
    "papermill": {
     "duration": 0.051038,
     "end_time": "2024-02-09T12:45:10.572209",
     "exception": false,
     "start_time": "2024-02-09T12:45:10.521171",
     "status": "completed"
    },
    "tags": []
   },
   "outputs": [
    {
     "data": {
      "text/plain": [
       "1741.0"
      ]
     },
     "execution_count": 37,
     "metadata": {},
     "output_type": "execute_result"
    }
   ],
   "source": [
    "df['n_days_after_onboarding'].median()"
   ]
  },
  {
   "cell_type": "markdown",
   "id": "104007cc",
   "metadata": {
    "papermill": {
     "duration": 0.036668,
     "end_time": "2024-02-09T12:45:10.648069",
     "exception": false,
     "start_time": "2024-02-09T12:45:10.611401",
     "status": "completed"
    },
    "tags": []
   },
   "source": [
    "Half of the people in the dataset had 40% or more of their sessions in just the last month, yet the overall median time since onboarding is almost five years.\n",
    "\n",
    "Make a histogram of `n_days_after_onboarding` for just the people who had 40% or more of their total sessions in the last month"
   ]
  },
  {
   "cell_type": "code",
   "execution_count": 38,
   "id": "237bfad3",
   "metadata": {
    "execution": {
     "iopub.execute_input": "2024-02-09T12:45:10.726518Z",
     "iopub.status.busy": "2024-02-09T12:45:10.725832Z",
     "iopub.status.idle": "2024-02-09T12:45:11.024605Z",
     "shell.execute_reply": "2024-02-09T12:45:11.023759Z"
    },
    "papermill": {
     "duration": 0.340907,
     "end_time": "2024-02-09T12:45:11.027062",
     "exception": false,
     "start_time": "2024-02-09T12:45:10.686155",
     "status": "completed"
    },
    "tags": []
   },
   "outputs": [
    {
     "data": {
      "image/png": "[encoded data removed]",
      "text/plain": [
       "<Figure size 500x300 with 1 Axes>"
      ]
     },
     "metadata": {},
     "output_type": "display_data"
    }
   ],
   "source": [
    "# Histogram\n",
    "data = df.loc[df['percent_sessions_in_last_month']>=0.4]\n",
    "plt.figure(figsize=(5,3))\n",
    "sns.histplot(x=data['n_days_after_onboarding'])\n",
    "plt.title('Num. days after onboarding for users with >=40% sessions in last month');"
   ]
  },
  {
   "cell_type": "markdown",
   "id": "53a84eaa",
   "metadata": {
    "papermill": {
     "duration": 0.043197,
     "end_time": "2024-02-09T12:45:11.110652",
     "exception": false,
     "start_time": "2024-02-09T12:45:11.067455",
     "status": "completed"
    },
    "tags": []
   },
   "source": [
    "The number of days since onboarding for users with 40% or more of their total sessions occurring in just the last month is a uniform distribution. This is very strange. It's worth asking Waze why so many long-time users suddenly used the app so much in the last month."
   ]
  },
  {
   "cell_type": "markdown",
   "id": "db9676a8",
   "metadata": {
    "papermill": {
     "duration": 0.040628,
     "end_time": "2024-02-09T12:45:11.189523",
     "exception": false,
     "start_time": "2024-02-09T12:45:11.148895",
     "status": "completed"
    },
    "tags": []
   },
   "source": [
    "### **Task 3b. Handling outliers**\n",
    "\n",
    "The box plots from the previous section indicated that many of these variables have outliers. These outliers do not seem to be data entry errors; they are present because of the right-skewed distributions.\n",
    "\n",
    "Depending on what you'll be doing with this data, it may be useful to impute outlying data with more reasonable values. One way of performing this imputation is to set a threshold based on a percentile of the distribution.\n",
    "\n",
    "To practice this technique, write a function that calculates the 95th percentile of a given column, then imputes values > the 95th percentile with the value at the 95th percentile.  such as the 95th percentile of the distribution."
   ]
  },
  {
   "cell_type": "code",
   "execution_count": 39,
   "id": "4b202012",
   "metadata": {
    "execution": {
     "iopub.execute_input": "2024-02-09T12:45:11.278357Z",
     "iopub.status.busy": "2024-02-09T12:45:11.277977Z",
     "iopub.status.idle": "2024-02-09T12:45:11.283737Z",
     "shell.execute_reply": "2024-02-09T12:45:11.282771Z"
    },
    "papermill": {
     "duration": 0.052514,
     "end_time": "2024-02-09T12:45:11.285653",
     "exception": false,
     "start_time": "2024-02-09T12:45:11.233139",
     "status": "completed"
    },
    "tags": []
   },
   "outputs": [],
   "source": [
    "def outlier_imputer(column_name, percentile):\n",
    "    # Calculate threshold\n",
    "    threshold = df[column_name].quantile(percentile)\n",
    "    # Impute threshold for values > than threshold\n",
    "    df.loc[df[column_name] > threshold, column_name] = threshold\n",
    "\n",
    "    print('{:>25} | percentile: {} | threshold: {}'.format(column_name, percentile, threshold))"
   ]
  },
  {
   "cell_type": "markdown",
   "id": "a146f65a",
   "metadata": {
    "papermill": {
     "duration": 0.037453,
     "end_time": "2024-02-09T12:45:11.361800",
     "exception": false,
     "start_time": "2024-02-09T12:45:11.324347",
     "status": "completed"
    },
    "tags": []
   },
   "source": [
    "Next, apply that function to the following columns:\n",
    "* `sessions`\n",
    "* `drives`\n",
    "* `total_sessions`\n",
    "* `driven_km_drives`\n",
    "* `duration_minutes_drives`"
   ]
  },
  {
   "cell_type": "code",
   "execution_count": 40,
   "id": "57c602b1",
   "metadata": {
    "execution": {
     "iopub.execute_input": "2024-02-09T12:45:11.437361Z",
     "iopub.status.busy": "2024-02-09T12:45:11.437011Z",
     "iopub.status.idle": "2024-02-09T12:45:11.449148Z",
     "shell.execute_reply": "2024-02-09T12:45:11.447886Z"
    },
    "papermill": {
     "duration": 0.052422,
     "end_time": "2024-02-09T12:45:11.451250",
     "exception": false,
     "start_time": "2024-02-09T12:45:11.398828",
     "status": "completed"
    },
    "tags": []
   },
   "outputs": [
    {
     "name": "stdout",
     "output_type": "stream",
     "text": [
      "                 sessions | percentile: 0.95 | threshold: 243.0\n",
      "                   drives | percentile: 0.95 | threshold: 201.0\n",
      "           total_sessions | percentile: 0.95 | threshold: 454.3632037399997\n",
      "         driven_km_drives | percentile: 0.95 | threshold: 8889.7942356\n",
      "  duration_minutes_drives | percentile: 0.95 | threshold: 4668.899348999998\n"
     ]
    }
   ],
   "source": [
    "for column in ['sessions', 'drives', 'total_sessions',\n",
    "               'driven_km_drives', 'duration_minutes_drives']:\n",
    "               outlier_imputer(column, 0.95)"
   ]
  },
  {
   "cell_type": "markdown",
   "id": "9493b3a5",
   "metadata": {
    "papermill": {
     "duration": 0.036588,
     "end_time": "2024-02-09T12:45:11.525148",
     "exception": false,
     "start_time": "2024-02-09T12:45:11.488560",
     "status": "completed"
    },
    "tags": []
   },
   "source": [
    "Call `describe()` to see if your change worked."
   ]
  },
  {
   "cell_type": "code",
   "execution_count": 41,
   "id": "97d87e2c",
   "metadata": {
    "execution": {
     "iopub.execute_input": "2024-02-09T12:45:11.604705Z",
     "iopub.status.busy": "2024-02-09T12:45:11.603704Z",
     "iopub.status.idle": "2024-02-09T12:45:11.656937Z",
     "shell.execute_reply": "2024-02-09T12:45:11.655980Z"
    },
    "papermill": {
     "duration": 0.094545,
     "end_time": "2024-02-09T12:45:11.658904",
     "exception": false,
     "start_time": "2024-02-09T12:45:11.564359",
     "status": "completed"
    },
    "tags": []
   },
   "outputs": [
    {
     "data": {
      "text/html": [
       "<div>\n",
       "<style scoped>\n",
       "    .dataframe tbody tr th:only-of-type {\n",
       "        vertical-align: middle;\n",
       "    }\n",
       "\n",
       "    .dataframe tbody tr th {\n",
       "        vertical-align: top;\n",
       "    }\n",
       "\n",
       "    .dataframe thead th {\n",
       "        text-align: right;\n",
       "    }\n",
       "</style>\n",
       "<table border=\"1\" class=\"dataframe\">\n",
       "  <thead>\n",
       "    <tr style=\"text-align: right;\">\n",
       "      <th></th>\n",
       "      <th>ID</th>\n",
       "      <th>sessions</th>\n",
       "      <th>drives</th>\n",
       "      <th>total_sessions</th>\n",
       "      <th>n_days_after_onboarding</th>\n",
       "      <th>total_navigations_fav1</th>\n",
       "      <th>total_navigations_fav2</th>\n",
       "      <th>driven_km_drives</th>\n",
       "      <th>duration_minutes_drives</th>\n",
       "      <th>activity_days</th>\n",
       "      <th>driving_days</th>\n",
       "      <th>km_per_driving_day</th>\n",
       "      <th>percent_sessions_in_last_month</th>\n",
       "    </tr>\n",
       "  </thead>\n",
       "  <tbody>\n",
       "    <tr>\n",
       "      <th>count</th>\n",
       "      <td>14999.000000</td>\n",
       "      <td>14999.000000</td>\n",
       "      <td>14999.000000</td>\n",
       "      <td>14999.000000</td>\n",
       "      <td>14999.000000</td>\n",
       "      <td>14999.000000</td>\n",
       "      <td>14999.000000</td>\n",
       "      <td>14999.000000</td>\n",
       "      <td>14999.000000</td>\n",
       "      <td>14999.000000</td>\n",
       "      <td>14999.000000</td>\n",
       "      <td>14999.000000</td>\n",
       "      <td>14999.000000</td>\n",
       "    </tr>\n",
       "    <tr>\n",
       "      <th>mean</th>\n",
       "      <td>7499.000000</td>\n",
       "      <td>76.568705</td>\n",
       "      <td>64.058204</td>\n",
       "      <td>184.031320</td>\n",
       "      <td>1749.837789</td>\n",
       "      <td>121.605974</td>\n",
       "      <td>29.672512</td>\n",
       "      <td>3939.632764</td>\n",
       "      <td>1789.647426</td>\n",
       "      <td>15.537102</td>\n",
       "      <td>12.179879</td>\n",
       "      <td>578.963113</td>\n",
       "      <td>0.449255</td>\n",
       "    </tr>\n",
       "    <tr>\n",
       "      <th>std</th>\n",
       "      <td>4329.982679</td>\n",
       "      <td>67.297958</td>\n",
       "      <td>55.306924</td>\n",
       "      <td>118.600463</td>\n",
       "      <td>1008.513876</td>\n",
       "      <td>148.121544</td>\n",
       "      <td>45.394651</td>\n",
       "      <td>2216.041510</td>\n",
       "      <td>1222.705167</td>\n",
       "      <td>9.004655</td>\n",
       "      <td>7.824036</td>\n",
       "      <td>1030.094384</td>\n",
       "      <td>0.286919</td>\n",
       "    </tr>\n",
       "    <tr>\n",
       "      <th>min</th>\n",
       "      <td>0.000000</td>\n",
       "      <td>0.000000</td>\n",
       "      <td>0.000000</td>\n",
       "      <td>0.220211</td>\n",
       "      <td>4.000000</td>\n",
       "      <td>0.000000</td>\n",
       "      <td>0.000000</td>\n",
       "      <td>60.441250</td>\n",
       "      <td>18.282082</td>\n",
       "      <td>0.000000</td>\n",
       "      <td>0.000000</td>\n",
       "      <td>0.000000</td>\n",
       "      <td>0.000000</td>\n",
       "    </tr>\n",
       "    <tr>\n",
       "      <th>25%</th>\n",
       "      <td>3749.500000</td>\n",
       "      <td>23.000000</td>\n",
       "      <td>20.000000</td>\n",
       "      <td>90.661156</td>\n",
       "      <td>878.000000</td>\n",
       "      <td>9.000000</td>\n",
       "      <td>0.000000</td>\n",
       "      <td>2212.600607</td>\n",
       "      <td>835.996260</td>\n",
       "      <td>8.000000</td>\n",
       "      <td>5.000000</td>\n",
       "      <td>136.238895</td>\n",
       "      <td>0.196221</td>\n",
       "    </tr>\n",
       "    <tr>\n",
       "      <th>50%</th>\n",
       "      <td>7499.000000</td>\n",
       "      <td>56.000000</td>\n",
       "      <td>48.000000</td>\n",
       "      <td>159.568115</td>\n",
       "      <td>1741.000000</td>\n",
       "      <td>71.000000</td>\n",
       "      <td>9.000000</td>\n",
       "      <td>3493.858085</td>\n",
       "      <td>1478.249859</td>\n",
       "      <td>16.000000</td>\n",
       "      <td>12.000000</td>\n",
       "      <td>272.889272</td>\n",
       "      <td>0.423097</td>\n",
       "    </tr>\n",
       "    <tr>\n",
       "      <th>75%</th>\n",
       "      <td>11248.500000</td>\n",
       "      <td>112.000000</td>\n",
       "      <td>93.000000</td>\n",
       "      <td>254.192341</td>\n",
       "      <td>2623.500000</td>\n",
       "      <td>178.000000</td>\n",
       "      <td>43.000000</td>\n",
       "      <td>5289.861262</td>\n",
       "      <td>2464.362632</td>\n",
       "      <td>23.000000</td>\n",
       "      <td>19.000000</td>\n",
       "      <td>558.686918</td>\n",
       "      <td>0.687216</td>\n",
       "    </tr>\n",
       "    <tr>\n",
       "      <th>max</th>\n",
       "      <td>14998.000000</td>\n",
       "      <td>243.000000</td>\n",
       "      <td>201.000000</td>\n",
       "      <td>454.363204</td>\n",
       "      <td>3500.000000</td>\n",
       "      <td>1236.000000</td>\n",
       "      <td>415.000000</td>\n",
       "      <td>8889.794236</td>\n",
       "      <td>4668.899349</td>\n",
       "      <td>31.000000</td>\n",
       "      <td>30.000000</td>\n",
       "      <td>15420.234110</td>\n",
       "      <td>1.530637</td>\n",
       "    </tr>\n",
       "  </tbody>\n",
       "</table>\n",
       "</div>"
      ],
      "text/plain": [
       "                 ID      sessions        drives  total_sessions  \\\n",
       "count  14999.000000  14999.000000  14999.000000    14999.000000   \n",
       "mean    7499.000000     76.568705     64.058204      184.031320   \n",
       "std     4329.982679     67.297958     55.306924      118.600463   \n",
       "min        0.000000      0.000000      0.000000        0.220211   \n",
       "25%     3749.500000     23.000000     20.000000       90.661156   \n",
       "50%     7499.000000     56.000000     48.000000      159.568115   \n",
       "75%    11248.500000    112.000000     93.000000      254.192341   \n",
       "max    14998.000000    243.000000    201.000000      454.363204   \n",
       "\n",
       "       n_days_after_onboarding  total_navigations_fav1  \\\n",
       "count             14999.000000            14999.000000   \n",
       "mean               1749.837789              121.605974   \n",
       "std                1008.513876              148.121544   \n",
       "min                   4.000000                0.000000   \n",
       "25%                 878.000000                9.000000   \n",
       "50%                1741.000000               71.000000   \n",
       "75%                2623.500000              178.000000   \n",
       "max                3500.000000             1236.000000   \n",
       "\n",
       "       total_navigations_fav2  driven_km_drives  duration_minutes_drives  \\\n",
       "count            14999.000000      14999.000000             14999.000000   \n",
       "mean                29.672512       3939.632764              1789.647426   \n",
       "std                 45.394651       2216.041510              1222.705167   \n",
       "min                  0.000000         60.441250                18.282082   \n",
       "25%                  0.000000       2212.600607               835.996260   \n",
       "50%                  9.000000       3493.858085              1478.249859   \n",
       "75%                 43.000000       5289.861262              2464.362632   \n",
       "max                415.000000       8889.794236              4668.899349   \n",
       "\n",
       "       activity_days  driving_days  km_per_driving_day  \\\n",
       "count   14999.000000  14999.000000        14999.000000   \n",
       "mean       15.537102     12.179879          578.963113   \n",
       "std         9.004655      7.824036         1030.094384   \n",
       "min         0.000000      0.000000            0.000000   \n",
       "25%         8.000000      5.000000          136.238895   \n",
       "50%        16.000000     12.000000          272.889272   \n",
       "75%        23.000000     19.000000          558.686918   \n",
       "max        31.000000     30.000000        15420.234110   \n",
       "\n",
       "       percent_sessions_in_last_month  \n",
       "count                    14999.000000  \n",
       "mean                         0.449255  \n",
       "std                          0.286919  \n",
       "min                          0.000000  \n",
       "25%                          0.196221  \n",
       "50%                          0.423097  \n",
       "75%                          0.687216  \n",
       "max                          1.530637  "
      ]
     },
     "execution_count": 41,
     "metadata": {},
     "output_type": "execute_result"
    }
   ],
   "source": [
    "df.describe()"
   ]
  },
  {
   "cell_type": "markdown",
   "id": "09e112e4",
   "metadata": {
    "papermill": {
     "duration": 0.037759,
     "end_time": "2024-02-09T12:45:11.738733",
     "exception": false,
     "start_time": "2024-02-09T12:45:11.700974",
     "status": "completed"
    },
    "tags": []
   },
   "source": [
    "#### **Conclusion**\n",
    "\n",
    "Analysis revealed that the overall churn rate is \\~17%, and that this rate is consistent between iPhone users and Android users.\n",
    "\n",
    "Perhaps you feel that the more deeply you explore the data, the more questions arise. This is not uncommon! In this case, it's worth asking the Waze data team why so many users used the app so much in just the last month.\n",
    "\n",
    "Also, EDA has revealed that users who drive very long distances on their driving days are _more_ likely to churn, but users who drive more often are _less_ likely to churn. The reason for this discrepancy is an opportunity for further investigation, and it would be something else to ask the Waze data team about."
   ]
  },
  {
   "cell_type": "markdown",
   "id": "815a4435",
   "metadata": {
    "papermill": {
     "duration": 0.038938,
     "end_time": "2024-02-09T12:45:11.815802",
     "exception": false,
     "start_time": "2024-02-09T12:45:11.776864",
     "status": "completed"
    },
    "tags": []
   },
   "source": [
    "I have learned ....\n",
    "\n",
    "* There is missing data in the user churn label, so we might need  further data processing before further analysis.\n",
    "* There are many outlying observations for drives, so we might consider a variable transformation to stabilize the variation.\n",
    "* The number of drives and the number of sessions are both strongly correlated, so they might provide redundant information when we incorporate both in a model.\n",
    "* On average, retained users have fewer drives than churned users.\n",
    "\n",
    "My other questions are ....\n",
    "\n",
    "* How does the missingness in the user churn label arise?\n",
    "* Who are the users with an extremely large number of drives? Are they ridesharing drivers or commercial drivers?\n",
    "* Why do retained users have fewer drives than churned users? Is it because churned users have a longer history of using the Waze app?\n",
    "* What is the user demographic for retained users and churned users?\n",
    "\n",
    "My client would likely want to know ...\n",
    "\n",
    "* What are the key variables associated with user churn?\n",
    "* Can we implement policies to reduce user churn?\n"
   ]
  },
  {
   "cell_type": "code",
   "execution_count": 42,
   "id": "441da0a6",
   "metadata": {
    "execution": {
     "iopub.execute_input": "2024-02-09T12:45:11.899085Z",
     "iopub.status.busy": "2024-02-09T12:45:11.898351Z",
     "iopub.status.idle": "2024-02-09T12:45:11.906888Z",
     "shell.execute_reply": "2024-02-09T12:45:11.905468Z"
    },
    "papermill": {
     "duration": 0.053199,
     "end_time": "2024-02-09T12:45:11.909664",
     "exception": false,
     "start_time": "2024-02-09T12:45:11.856465",
     "status": "completed"
    },
    "tags": []
   },
   "outputs": [],
   "source": [
    "df['monthly_drives_per_session_ratio'] = (df['drives']/df['sessions'])"
   ]
  },
  {
   "cell_type": "code",
   "execution_count": 43,
   "id": "3e46f10d",
   "metadata": {
    "execution": {
     "iopub.execute_input": "2024-02-09T12:45:11.990350Z",
     "iopub.status.busy": "2024-02-09T12:45:11.989501Z",
     "iopub.status.idle": "2024-02-09T12:45:12.007979Z",
     "shell.execute_reply": "2024-02-09T12:45:12.006325Z"
    },
    "papermill": {
     "duration": 0.060928,
     "end_time": "2024-02-09T12:45:12.011074",
     "exception": false,
     "start_time": "2024-02-09T12:45:11.950146",
     "status": "completed"
    },
    "tags": []
   },
   "outputs": [
    {
     "data": {
      "text/html": [
       "<div>\n",
       "<style scoped>\n",
       "    .dataframe tbody tr th:only-of-type {\n",
       "        vertical-align: middle;\n",
       "    }\n",
       "\n",
       "    .dataframe tbody tr th {\n",
       "        vertical-align: top;\n",
       "    }\n",
       "\n",
       "    .dataframe thead th {\n",
       "        text-align: right;\n",
       "    }\n",
       "</style>\n",
       "<table border=\"1\" class=\"dataframe\">\n",
       "  <thead>\n",
       "    <tr style=\"text-align: right;\">\n",
       "      <th></th>\n",
       "      <th>ID</th>\n",
       "      <th>label</th>\n",
       "      <th>sessions</th>\n",
       "      <th>drives</th>\n",
       "      <th>total_sessions</th>\n",
       "      <th>n_days_after_onboarding</th>\n",
       "      <th>total_navigations_fav1</th>\n",
       "      <th>total_navigations_fav2</th>\n",
       "      <th>driven_km_drives</th>\n",
       "      <th>duration_minutes_drives</th>\n",
       "      <th>activity_days</th>\n",
       "      <th>driving_days</th>\n",
       "      <th>device</th>\n",
       "      <th>km_per_driving_day</th>\n",
       "      <th>percent_sessions_in_last_month</th>\n",
       "      <th>monthly_drives_per_session_ratio</th>\n",
       "    </tr>\n",
       "  </thead>\n",
       "  <tbody>\n",
       "    <tr>\n",
       "      <th>0</th>\n",
       "      <td>0</td>\n",
       "      <td>retained</td>\n",
       "      <td>243</td>\n",
       "      <td>201</td>\n",
       "      <td>296.748273</td>\n",
       "      <td>2276</td>\n",
       "      <td>208</td>\n",
       "      <td>0</td>\n",
       "      <td>2628.845068</td>\n",
       "      <td>1985.775061</td>\n",
       "      <td>28</td>\n",
       "      <td>19</td>\n",
       "      <td>Android</td>\n",
       "      <td>138.360267</td>\n",
       "      <td>0.953670</td>\n",
       "      <td>0.827160</td>\n",
       "    </tr>\n",
       "    <tr>\n",
       "      <th>1</th>\n",
       "      <td>1</td>\n",
       "      <td>retained</td>\n",
       "      <td>133</td>\n",
       "      <td>107</td>\n",
       "      <td>326.896596</td>\n",
       "      <td>1225</td>\n",
       "      <td>19</td>\n",
       "      <td>64</td>\n",
       "      <td>8889.794236</td>\n",
       "      <td>3160.472914</td>\n",
       "      <td>13</td>\n",
       "      <td>11</td>\n",
       "      <td>iPhone</td>\n",
       "      <td>1246.901868</td>\n",
       "      <td>0.406856</td>\n",
       "      <td>0.804511</td>\n",
       "    </tr>\n",
       "    <tr>\n",
       "      <th>2</th>\n",
       "      <td>2</td>\n",
       "      <td>retained</td>\n",
       "      <td>114</td>\n",
       "      <td>95</td>\n",
       "      <td>135.522926</td>\n",
       "      <td>2651</td>\n",
       "      <td>0</td>\n",
       "      <td>0</td>\n",
       "      <td>3059.148818</td>\n",
       "      <td>1610.735904</td>\n",
       "      <td>14</td>\n",
       "      <td>8</td>\n",
       "      <td>Android</td>\n",
       "      <td>382.393602</td>\n",
       "      <td>0.841186</td>\n",
       "      <td>0.833333</td>\n",
       "    </tr>\n",
       "    <tr>\n",
       "      <th>3</th>\n",
       "      <td>3</td>\n",
       "      <td>retained</td>\n",
       "      <td>49</td>\n",
       "      <td>40</td>\n",
       "      <td>67.589221</td>\n",
       "      <td>15</td>\n",
       "      <td>322</td>\n",
       "      <td>7</td>\n",
       "      <td>913.591123</td>\n",
       "      <td>587.196542</td>\n",
       "      <td>7</td>\n",
       "      <td>3</td>\n",
       "      <td>iPhone</td>\n",
       "      <td>304.530374</td>\n",
       "      <td>0.724968</td>\n",
       "      <td>0.816327</td>\n",
       "    </tr>\n",
       "    <tr>\n",
       "      <th>4</th>\n",
       "      <td>4</td>\n",
       "      <td>retained</td>\n",
       "      <td>84</td>\n",
       "      <td>68</td>\n",
       "      <td>168.247020</td>\n",
       "      <td>1562</td>\n",
       "      <td>166</td>\n",
       "      <td>5</td>\n",
       "      <td>3950.202008</td>\n",
       "      <td>1219.555924</td>\n",
       "      <td>27</td>\n",
       "      <td>18</td>\n",
       "      <td>Android</td>\n",
       "      <td>219.455667</td>\n",
       "      <td>0.499266</td>\n",
       "      <td>0.809524</td>\n",
       "    </tr>\n",
       "    <tr>\n",
       "      <th>5</th>\n",
       "      <td>5</td>\n",
       "      <td>retained</td>\n",
       "      <td>113</td>\n",
       "      <td>103</td>\n",
       "      <td>279.544437</td>\n",
       "      <td>2637</td>\n",
       "      <td>0</td>\n",
       "      <td>0</td>\n",
       "      <td>901.238699</td>\n",
       "      <td>439.101397</td>\n",
       "      <td>15</td>\n",
       "      <td>11</td>\n",
       "      <td>iPhone</td>\n",
       "      <td>81.930791</td>\n",
       "      <td>0.404229</td>\n",
       "      <td>0.911504</td>\n",
       "    </tr>\n",
       "    <tr>\n",
       "      <th>6</th>\n",
       "      <td>6</td>\n",
       "      <td>retained</td>\n",
       "      <td>3</td>\n",
       "      <td>2</td>\n",
       "      <td>236.725314</td>\n",
       "      <td>360</td>\n",
       "      <td>185</td>\n",
       "      <td>18</td>\n",
       "      <td>5249.172828</td>\n",
       "      <td>726.577205</td>\n",
       "      <td>28</td>\n",
       "      <td>23</td>\n",
       "      <td>iPhone</td>\n",
       "      <td>228.224906</td>\n",
       "      <td>0.012673</td>\n",
       "      <td>0.666667</td>\n",
       "    </tr>\n",
       "    <tr>\n",
       "      <th>7</th>\n",
       "      <td>7</td>\n",
       "      <td>retained</td>\n",
       "      <td>39</td>\n",
       "      <td>35</td>\n",
       "      <td>176.072845</td>\n",
       "      <td>2999</td>\n",
       "      <td>0</td>\n",
       "      <td>0</td>\n",
       "      <td>7892.052468</td>\n",
       "      <td>2466.981741</td>\n",
       "      <td>22</td>\n",
       "      <td>20</td>\n",
       "      <td>iPhone</td>\n",
       "      <td>394.602623</td>\n",
       "      <td>0.221499</td>\n",
       "      <td>0.897436</td>\n",
       "    </tr>\n",
       "    <tr>\n",
       "      <th>8</th>\n",
       "      <td>8</td>\n",
       "      <td>retained</td>\n",
       "      <td>57</td>\n",
       "      <td>46</td>\n",
       "      <td>183.532018</td>\n",
       "      <td>424</td>\n",
       "      <td>0</td>\n",
       "      <td>26</td>\n",
       "      <td>2651.709764</td>\n",
       "      <td>1594.342984</td>\n",
       "      <td>25</td>\n",
       "      <td>20</td>\n",
       "      <td>Android</td>\n",
       "      <td>132.585488</td>\n",
       "      <td>0.310573</td>\n",
       "      <td>0.807018</td>\n",
       "    </tr>\n",
       "    <tr>\n",
       "      <th>9</th>\n",
       "      <td>9</td>\n",
       "      <td>churned</td>\n",
       "      <td>84</td>\n",
       "      <td>68</td>\n",
       "      <td>244.802115</td>\n",
       "      <td>2997</td>\n",
       "      <td>72</td>\n",
       "      <td>0</td>\n",
       "      <td>6043.460295</td>\n",
       "      <td>2341.838528</td>\n",
       "      <td>7</td>\n",
       "      <td>3</td>\n",
       "      <td>iPhone</td>\n",
       "      <td>2014.486765</td>\n",
       "      <td>0.343134</td>\n",
       "      <td>0.809524</td>\n",
       "    </tr>\n",
       "  </tbody>\n",
       "</table>\n",
       "</div>"
      ],
      "text/plain": [
       "   ID     label  sessions  drives  total_sessions  n_days_after_onboarding  \\\n",
       "0   0  retained       243     201      296.748273                     2276   \n",
       "1   1  retained       133     107      326.896596                     1225   \n",
       "2   2  retained       114      95      135.522926                     2651   \n",
       "3   3  retained        49      40       67.589221                       15   \n",
       "4   4  retained        84      68      168.247020                     1562   \n",
       "5   5  retained       113     103      279.544437                     2637   \n",
       "6   6  retained         3       2      236.725314                      360   \n",
       "7   7  retained        39      35      176.072845                     2999   \n",
       "8   8  retained        57      46      183.532018                      424   \n",
       "9   9   churned        84      68      244.802115                     2997   \n",
       "\n",
       "   total_navigations_fav1  total_navigations_fav2  driven_km_drives  \\\n",
       "0                     208                       0       2628.845068   \n",
       "1                      19                      64       8889.794236   \n",
       "2                       0                       0       3059.148818   \n",
       "3                     322                       7        913.591123   \n",
       "4                     166                       5       3950.202008   \n",
       "5                       0                       0        901.238699   \n",
       "6                     185                      18       5249.172828   \n",
       "7                       0                       0       7892.052468   \n",
       "8                       0                      26       2651.709764   \n",
       "9                      72                       0       6043.460295   \n",
       "\n",
       "   duration_minutes_drives  activity_days  driving_days   device  \\\n",
       "0              1985.775061             28            19  Android   \n",
       "1              3160.472914             13            11   iPhone   \n",
       "2              1610.735904             14             8  Android   \n",
       "3               587.196542              7             3   iPhone   \n",
       "4              1219.555924             27            18  Android   \n",
       "5               439.101397             15            11   iPhone   \n",
       "6               726.577205             28            23   iPhone   \n",
       "7              2466.981741             22            20   iPhone   \n",
       "8              1594.342984             25            20  Android   \n",
       "9              2341.838528              7             3   iPhone   \n",
       "\n",
       "   km_per_driving_day  percent_sessions_in_last_month  \\\n",
       "0          138.360267                        0.953670   \n",
       "1         1246.901868                        0.406856   \n",
       "2          382.393602                        0.841186   \n",
       "3          304.530374                        0.724968   \n",
       "4          219.455667                        0.499266   \n",
       "5           81.930791                        0.404229   \n",
       "6          228.224906                        0.012673   \n",
       "7          394.602623                        0.221499   \n",
       "8          132.585488                        0.310573   \n",
       "9         2014.486765                        0.343134   \n",
       "\n",
       "   monthly_drives_per_session_ratio  \n",
       "0                          0.827160  \n",
       "1                          0.804511  \n",
       "2                          0.833333  \n",
       "3                          0.816327  \n",
       "4                          0.809524  \n",
       "5                          0.911504  \n",
       "6                          0.666667  \n",
       "7                          0.897436  \n",
       "8                          0.807018  \n",
       "9                          0.809524  "
      ]
     },
     "execution_count": 43,
     "metadata": {},
     "output_type": "execute_result"
    }
   ],
   "source": [
    "df.head(10)"
   ]
  },
  {
   "cell_type": "markdown",
   "id": "26f75be5",
   "metadata": {
    "papermill": {
     "duration": 0.039193,
     "end_time": "2024-02-09T12:45:12.090312",
     "exception": false,
     "start_time": "2024-02-09T12:45:12.051119",
     "status": "completed"
    },
    "tags": []
   },
   "source": [
    "### **Conclusion**\n",
    "\n",
    "Now that you've explored and visualized your data, the next step is to share your findings with Harriet Hadzic, Waze's Director of Data Analysis. Consider the following questions as you prepare to write your executive summary. Think about key points you may want to share with the team, and what information is most relevant to the user churn project.\n",
    "\n",
    "**Questions:**\n",
    "\n",
    "1. What types of distributions did you notice in the variables? What did this tell you about the data?\n",
    "\n",
    "> *Nearly all the variables were either very right-skewed or uniformly distributed. For the right-skewed distributions, this means that most users had values in the lower end of the range for that variable. For the uniform distributions, this means that users were generally equally likely to have values anywhere within the range for that variable.*\n",
    "\n",
    "2. Was there anything that led you to believe the data was erroneous or problematic in any way?\n",
    "\n",
    "> *Most of the data was not problematic, and there was no indication that any single variable was completely wrong. However, several variables had highly improbable or perhaps even impossible outlying values, such as `driven_km_drives`. Some of the monthly variables also might be problematic, such as `activity_days` and `driving_days`, because one has a max value of 31 while the other has a max value of 30, indicating that data collection might not have occurred in the same month for both of these variables.*\n",
    "\n",
    "3. Did your investigation give rise to further questions that you would like to explore or ask the Waze team about?\n",
    "\n",
    "> *Yes. I'd want to ask the Waze data team to confirm that the monthly variables were collected during the same month, given the fact that some have max values of 30 days while others have 31 days. I'd also want to learn why so many long-time users suddenly started using the app so much in just the last month. Was there anything that changed in the last month that might prompt this kind of behavior?*\n",
    "\n",
    "4. What percentage of users churned and what percentage were retained?\n",
    "\n",
    "> *Less than 18% of users churned, and \\~82% were retained.*\n",
    "\n",
    "5. What factors correlated with user churn? How?\n",
    "\n",
    "> *Distance driven per driving day had a positive correlation with user churn. The farther a user drove on each driving day, the more likely they were to churn. On the other hand, number of driving days had a negative correlation with churn. Users who drove more days of the last month were less likely to churn.*\n",
    "\n",
    "6. Did newer uses have greater representation in this dataset than users with longer tenure? How do you know?\n",
    "\n",
    "> *No. Users of all tenures from brand new to \\~10 years were relatively evenly represented in the data. This is borne out by the histogram for `n_days_after_onboarding`, which reveals a uniform distribution for this variable.*"
   ]
  },
  {
   "cell_type": "markdown",
   "id": "72ee98d2",
   "metadata": {
    "papermill": {
     "duration": 0.037915,
     "end_time": "2024-02-09T12:45:12.167973",
     "exception": false,
     "start_time": "2024-02-09T12:45:12.130058",
     "status": "completed"
    },
    "tags": []
   },
   "source": [
    "# **project: Data exploration and hypothesis testing**"
   ]
  },
  {
   "cell_type": "markdown",
   "id": "fadbf62e",
   "metadata": {
    "papermill": {
     "duration": 0.038421,
     "end_time": "2024-02-09T12:45:12.247271",
     "exception": false,
     "start_time": "2024-02-09T12:45:12.208850",
     "status": "completed"
    },
    "tags": []
   },
   "source": [
    "\n",
    "In this activity, you will explore the data provided and conduct a hypothesis test.\n",
    "<br/>\n",
    "\n",
    "**The purpose** of this project is to demostrate knowledge of how to conduct a two-sample hypothesis test.\n",
    "\n",
    "**The goal** is to apply descriptive statistics and hypothesis testing in Python."
   ]
  },
  {
   "cell_type": "code",
   "execution_count": 44,
   "id": "9d81bcb4",
   "metadata": {
    "execution": {
     "iopub.execute_input": "2024-02-09T12:45:12.327201Z",
     "iopub.status.busy": "2024-02-09T12:45:12.326838Z",
     "iopub.status.idle": "2024-02-09T12:45:12.331304Z",
     "shell.execute_reply": "2024-02-09T12:45:12.330395Z"
    },
    "papermill": {
     "duration": 0.047391,
     "end_time": "2024-02-09T12:45:12.334026",
     "exception": false,
     "start_time": "2024-02-09T12:45:12.286635",
     "status": "completed"
    },
    "tags": []
   },
   "outputs": [],
   "source": [
    "from scipy import stats"
   ]
  },
  {
   "cell_type": "code",
   "execution_count": 45,
   "id": "ae151e20",
   "metadata": {
    "execution": {
     "iopub.execute_input": "2024-02-09T12:45:12.415876Z",
     "iopub.status.busy": "2024-02-09T12:45:12.415463Z",
     "iopub.status.idle": "2024-02-09T12:45:12.428933Z",
     "shell.execute_reply": "2024-02-09T12:45:12.427838Z"
    },
    "papermill": {
     "duration": 0.057045,
     "end_time": "2024-02-09T12:45:12.430736",
     "exception": false,
     "start_time": "2024-02-09T12:45:12.373691",
     "status": "completed"
    },
    "tags": []
   },
   "outputs": [
    {
     "data": {
      "text/plain": [
       "0    2\n",
       "1    1\n",
       "2    2\n",
       "3    1\n",
       "4    2\n",
       "Name: device_type, dtype: int64"
      ]
     },
     "execution_count": 45,
     "metadata": {},
     "output_type": "execute_result"
    }
   ],
   "source": [
    "# 1. Create `map_dictionary`\n",
    "map_dictionary = {'Android': 2, 'iPhone': 1}\n",
    "\n",
    "# 2. Create new `device_type` column\n",
    "df['device_type'] = df['device']\n",
    "\n",
    "# 3. Map the new column to the dictionary\n",
    "df['device_type'] = df['device_type'].map(map_dictionary)\n",
    "\n",
    "df['device_type'].head()"
   ]
  },
  {
   "cell_type": "markdown",
   "id": "75de0800",
   "metadata": {
    "papermill": {
     "duration": 0.038201,
     "end_time": "2024-02-09T12:45:12.507331",
     "exception": false,
     "start_time": "2024-02-09T12:45:12.469130",
     "status": "completed"
    },
    "tags": []
   },
   "source": [
    "You are interested in the relationship between device type and the number of drives. One approach is to look at the average number of drives for each device type. Calculate these averages."
   ]
  },
  {
   "cell_type": "code",
   "execution_count": 46,
   "id": "128da203",
   "metadata": {
    "execution": {
     "iopub.execute_input": "2024-02-09T12:45:12.588575Z",
     "iopub.status.busy": "2024-02-09T12:45:12.587903Z",
     "iopub.status.idle": "2024-02-09T12:45:12.601458Z",
     "shell.execute_reply": "2024-02-09T12:45:12.600495Z"
    },
    "papermill": {
     "duration": 0.057686,
     "end_time": "2024-02-09T12:45:12.603528",
     "exception": false,
     "start_time": "2024-02-09T12:45:12.545842",
     "status": "completed"
    },
    "tags": []
   },
   "outputs": [
    {
     "data": {
      "text/plain": [
       "device_type\n",
       "1    64.446340\n",
       "2    63.353482\n",
       "Name: drives, dtype: float64"
      ]
     },
     "execution_count": 46,
     "metadata": {},
     "output_type": "execute_result"
    }
   ],
   "source": [
    "df.groupby('device_type')['drives'].mean()"
   ]
  },
  {
   "cell_type": "markdown",
   "id": "52eab595",
   "metadata": {
    "papermill": {
     "duration": 0.03934,
     "end_time": "2024-02-09T12:45:12.681675",
     "exception": false,
     "start_time": "2024-02-09T12:45:12.642335",
     "status": "completed"
    },
    "tags": []
   },
   "source": [
    "Based on the averages shown, it appears that drivers who use an iPhone device to interact with the application have a higher number of drives on average. However, this difference might arise from random sampling, rather than being a true difference in the number of drives. To assess whether the difference is statistically significant, you can conduct a hypothesis test."
   ]
  },
  {
   "cell_type": "markdown",
   "id": "3d93b64d",
   "metadata": {
    "papermill": {
     "duration": 0.038699,
     "end_time": "2024-02-09T12:45:12.760337",
     "exception": false,
     "start_time": "2024-02-09T12:45:12.721638",
     "status": "completed"
    },
    "tags": []
   },
   "source": [
    "### **Hypothesis testing**"
   ]
  },
  {
   "cell_type": "markdown",
   "id": "a62e2e91",
   "metadata": {
    "papermill": {
     "duration": 0.039844,
     "end_time": "2024-02-09T12:45:12.839878",
     "exception": false,
     "start_time": "2024-02-09T12:45:12.800034",
     "status": "completed"
    },
    "tags": []
   },
   "source": [
    "\n",
    "\n",
    "Your goal is to conduct a two-sample t-test. Recall the steps for conducting a hypothesis test:\n",
    "\n",
    "\n",
    "1.   State the null hypothesis and the alternative hypothesis\n",
    "2.   Choose a signficance level\n",
    "3.   Find the p-value\n",
    "4.   Reject or fail to reject the null hypothesis\n",
    "\n",
    "**Note:** This is a t-test for two independent samples. This is the appropriate test since the two groups are independent (Android users vs. iPhone users)."
   ]
  },
  {
   "cell_type": "markdown",
   "id": "b3b70a1a",
   "metadata": {
    "papermill": {
     "duration": 0.041971,
     "end_time": "2024-02-09T12:45:12.921888",
     "exception": false,
     "start_time": "2024-02-09T12:45:12.879917",
     "status": "completed"
    },
    "tags": []
   },
   "source": [
    "Recall the difference between the null hypothesis ($H_0$) and the alternative hypothesis ($H_A$).\n",
    "\n",
    "**Question:** What are your hypotheses for this data project?"
   ]
  },
  {
   "cell_type": "markdown",
   "id": "3fffe7c5",
   "metadata": {
    "papermill": {
     "duration": 0.037717,
     "end_time": "2024-02-09T12:45:12.998730",
     "exception": false,
     "start_time": "2024-02-09T12:45:12.961013",
     "status": "completed"
    },
    "tags": []
   },
   "source": [
    "\n",
    "**Hypotheses:**\n",
    "\n",
    "$H_0$: There is no difference in average number of drives between drivers who use iPhone devices and drivers who use Androids.\n",
    "\n",
    "$H_A$: There is a difference in average number of drives between drivers who use iPhone devices and drivers who use Androids"
   ]
  },
  {
   "cell_type": "markdown",
   "id": "f8a0e1af",
   "metadata": {
    "papermill": {
     "duration": 0.037379,
     "end_time": "2024-02-09T12:45:13.073482",
     "exception": false,
     "start_time": "2024-02-09T12:45:13.036103",
     "status": "completed"
    },
    "tags": []
   },
   "source": [
    "Next, choose 5% as the significance level and proceed with a two-sample t-test.\n",
    "\n",
    "You can use the `stats.ttest_ind()` function to perform the test.\n",
    "\n",
    "\n",
    "**Technical note**: The default for the argument `equal_var` in `stats.ttest_ind()` is `True`, which assumes population variances are equal. This equal variance assumption might not hold in practice (that is, there is no strong reason to assume that the two groups have the same variance); you can relax this assumption by setting `equal_var` to `False`, and `stats.ttest_ind()` will perform the unequal variances $t$-test (known as Welch's `t`-test). Refer to the [scipy t-test documentation](https://docs.scipy.org/doc/scipy/reference/generated/scipy.stats.ttest_ind.html) for more information.\n",
    "\n",
    "\n",
    "1. Isolate the `drives` column for iPhone users.\n",
    "2. Isolate the `drives` column for Android users.\n",
    "3. Perform the t-test"
   ]
  },
  {
   "cell_type": "code",
   "execution_count": 47,
   "id": "d1e6e2bd",
   "metadata": {
    "execution": {
     "iopub.execute_input": "2024-02-09T12:45:13.151731Z",
     "iopub.status.busy": "2024-02-09T12:45:13.151208Z",
     "iopub.status.idle": "2024-02-09T12:45:13.166254Z",
     "shell.execute_reply": "2024-02-09T12:45:13.165163Z"
    },
    "papermill": {
     "duration": 0.057158,
     "end_time": "2024-02-09T12:45:13.168396",
     "exception": false,
     "start_time": "2024-02-09T12:45:13.111238",
     "status": "completed"
    },
    "tags": []
   },
   "outputs": [
    {
     "data": {
      "text/plain": [
       "TtestResult(statistic=1.1643714136026293, pvalue=0.24429844267242223, df=11148.669519764011)"
      ]
     },
     "execution_count": 47,
     "metadata": {},
     "output_type": "execute_result"
    }
   ],
   "source": [
    "# 1. Isolate the `drives` column for iPhone users.\n",
    "iPhone = df[df['device_type'] == 1]['drives']\n",
    "\n",
    "# 2. Isolate the `drives` column for Android users.\n",
    "Android = df[df['device_type'] == 2]['drives']\n",
    "\n",
    "# 3. Perform the t-test\n",
    "stats.ttest_ind(a=iPhone, b=Android, equal_var=False)"
   ]
  },
  {
   "cell_type": "markdown",
   "id": "fb86ac27",
   "metadata": {
    "papermill": {
     "duration": 0.039505,
     "end_time": "2024-02-09T12:45:13.248108",
     "exception": false,
     "start_time": "2024-02-09T12:45:13.208603",
     "status": "completed"
    },
    "tags": []
   },
   "source": [
    "**Question:** Based on the p-value you got above, do you reject or fail to reject the null hypothesis?\n",
    "\n",
    "> *Since the p-value is larger than the chosen significance level (5%), you fail to reject the null hypothesis. You conclude that there is **not** a statistically significant difference in the average number of drives between drivers who use iPhones and drivers who use Androids.*"
   ]
  },
  {
   "cell_type": "markdown",
   "id": "18afad55",
   "metadata": {
    "papermill": {
     "duration": 0.040957,
     "end_time": "2024-02-09T12:45:13.328485",
     "exception": false,
     "start_time": "2024-02-09T12:45:13.287528",
     "status": "completed"
    },
    "tags": []
   },
   "source": [
    "### **Communicate insights with stakeholders**"
   ]
  },
  {
   "cell_type": "markdown",
   "id": "0969f24b",
   "metadata": {
    "papermill": {
     "duration": 0.037805,
     "end_time": "2024-02-09T12:45:13.404988",
     "exception": false,
     "start_time": "2024-02-09T12:45:13.367183",
     "status": "completed"
    },
    "tags": []
   },
   "source": [
    "Now that you've completed your hypothesis test, the next step is to share your findings with the Waze leadership team. Consider the following question as you prepare to write your executive summary:\n",
    "\n",
    "* What business insight(s) can you draw from the result of your hypothesis test?\n",
    "\n",
    "> *The key business insight is that drivers who use iPhone devices on average have a similar number of drives as those who use Androids.*\n",
    "\n",
    "> *One potential next step is to explore what other factors influence the variation in the number of drives, and run additonal hypothesis tests to learn more about user behavior. Further, temporary changes in marketing or user interface for the Waze app may provide more data to investigate churn.*"
   ]
  },
  {
   "cell_type": "markdown",
   "id": "5f2082d4",
   "metadata": {
    "papermill": {
     "duration": 0.037511,
     "end_time": "2024-02-09T12:45:13.480428",
     "exception": false,
     "start_time": "2024-02-09T12:45:13.442917",
     "status": "completed"
    },
    "tags": []
   },
   "source": [
    "# **Regression modeling**"
   ]
  },
  {
   "cell_type": "markdown",
   "id": "c010c8bc",
   "metadata": {
    "papermill": {
     "duration": 0.038363,
     "end_time": "2024-02-09T12:45:13.557006",
     "exception": false,
     "start_time": "2024-02-09T12:45:13.518643",
     "status": "completed"
    },
    "tags": []
   },
   "source": [
    "**The goal** is to build a binomial logistic regression model and evaluate the model's performance."
   ]
  },
  {
   "cell_type": "code",
   "execution_count": 48,
   "id": "cd8956ff",
   "metadata": {
    "execution": {
     "iopub.execute_input": "2024-02-09T12:45:13.636643Z",
     "iopub.status.busy": "2024-02-09T12:45:13.636015Z",
     "iopub.status.idle": "2024-02-09T12:45:14.352808Z",
     "shell.execute_reply": "2024-02-09T12:45:14.351267Z"
    },
    "papermill": {
     "duration": 0.759762,
     "end_time": "2024-02-09T12:45:14.355925",
     "exception": false,
     "start_time": "2024-02-09T12:45:13.596163",
     "status": "completed"
    },
    "tags": []
   },
   "outputs": [],
   "source": [
    "# Packages for Logistic Regression & Confusion Matrix\n",
    "from sklearn.preprocessing import StandardScaler, OneHotEncoder\n",
    "from sklearn.model_selection import train_test_split\n",
    "from sklearn.metrics import classification_report, accuracy_score, precision_score, \\\n",
    "recall_score, f1_score, confusion_matrix, ConfusionMatrixDisplay\n",
    "from sklearn.linear_model import LogisticRegression\n"
   ]
  },
  {
   "cell_type": "code",
   "execution_count": 49,
   "id": "5e87983a",
   "metadata": {
    "execution": {
     "iopub.execute_input": "2024-02-09T12:45:14.436878Z",
     "iopub.status.busy": "2024-02-09T12:45:14.436514Z",
     "iopub.status.idle": "2024-02-09T12:45:14.462102Z",
     "shell.execute_reply": "2024-02-09T12:45:14.460820Z"
    },
    "papermill": {
     "duration": 0.068749,
     "end_time": "2024-02-09T12:45:14.464921",
     "exception": false,
     "start_time": "2024-02-09T12:45:14.396172",
     "status": "completed"
    },
    "tags": []
   },
   "outputs": [],
   "source": [
    "df1 = pd.read_csv('/kaggle/input/waze-dataset-csv/waze_dataset.csv')"
   ]
  },
  {
   "cell_type": "code",
   "execution_count": 50,
   "id": "8f428cb0",
   "metadata": {
    "execution": {
     "iopub.execute_input": "2024-02-09T12:45:14.546854Z",
     "iopub.status.busy": "2024-02-09T12:45:14.546449Z",
     "iopub.status.idle": "2024-02-09T12:45:14.553577Z",
     "shell.execute_reply": "2024-02-09T12:45:14.552633Z"
    },
    "papermill": {
     "duration": 0.051785,
     "end_time": "2024-02-09T12:45:14.555705",
     "exception": false,
     "start_time": "2024-02-09T12:45:14.503920",
     "status": "completed"
    },
    "tags": []
   },
   "outputs": [],
   "source": [
    "df1 = df1.drop('ID', axis=1)"
   ]
  },
  {
   "cell_type": "code",
   "execution_count": 51,
   "id": "83cda8ab",
   "metadata": {
    "execution": {
     "iopub.execute_input": "2024-02-09T12:45:14.635540Z",
     "iopub.status.busy": "2024-02-09T12:45:14.635168Z",
     "iopub.status.idle": "2024-02-09T12:45:14.644342Z",
     "shell.execute_reply": "2024-02-09T12:45:14.643360Z"
    },
    "papermill": {
     "duration": 0.050897,
     "end_time": "2024-02-09T12:45:14.646224",
     "exception": false,
     "start_time": "2024-02-09T12:45:14.595327",
     "status": "completed"
    },
    "tags": []
   },
   "outputs": [
    {
     "data": {
      "text/plain": [
       "label\n",
       "retained    0.822645\n",
       "churned     0.177355\n",
       "Name: proportion, dtype: float64"
      ]
     },
     "execution_count": 51,
     "metadata": {},
     "output_type": "execute_result"
    }
   ],
   "source": [
    "df1['label'].value_counts(normalize=True)"
   ]
  },
  {
   "cell_type": "code",
   "execution_count": 52,
   "id": "0c080cf4",
   "metadata": {
    "execution": {
     "iopub.execute_input": "2024-02-09T12:45:14.725184Z",
     "iopub.status.busy": "2024-02-09T12:45:14.724794Z",
     "iopub.status.idle": "2024-02-09T12:45:14.760741Z",
     "shell.execute_reply": "2024-02-09T12:45:14.759807Z"
    },
    "papermill": {
     "duration": 0.077654,
     "end_time": "2024-02-09T12:45:14.762640",
     "exception": false,
     "start_time": "2024-02-09T12:45:14.684986",
     "status": "completed"
    },
    "tags": []
   },
   "outputs": [
    {
     "data": {
      "text/html": [
       "<div>\n",
       "<style scoped>\n",
       "    .dataframe tbody tr th:only-of-type {\n",
       "        vertical-align: middle;\n",
       "    }\n",
       "\n",
       "    .dataframe tbody tr th {\n",
       "        vertical-align: top;\n",
       "    }\n",
       "\n",
       "    .dataframe thead th {\n",
       "        text-align: right;\n",
       "    }\n",
       "</style>\n",
       "<table border=\"1\" class=\"dataframe\">\n",
       "  <thead>\n",
       "    <tr style=\"text-align: right;\">\n",
       "      <th></th>\n",
       "      <th>sessions</th>\n",
       "      <th>drives</th>\n",
       "      <th>total_sessions</th>\n",
       "      <th>n_days_after_onboarding</th>\n",
       "      <th>total_navigations_fav1</th>\n",
       "      <th>total_navigations_fav2</th>\n",
       "      <th>driven_km_drives</th>\n",
       "      <th>duration_minutes_drives</th>\n",
       "      <th>activity_days</th>\n",
       "      <th>driving_days</th>\n",
       "    </tr>\n",
       "  </thead>\n",
       "  <tbody>\n",
       "    <tr>\n",
       "      <th>count</th>\n",
       "      <td>14999.000000</td>\n",
       "      <td>14999.000000</td>\n",
       "      <td>14999.000000</td>\n",
       "      <td>14999.000000</td>\n",
       "      <td>14999.000000</td>\n",
       "      <td>14999.000000</td>\n",
       "      <td>14999.000000</td>\n",
       "      <td>14999.000000</td>\n",
       "      <td>14999.000000</td>\n",
       "      <td>14999.000000</td>\n",
       "    </tr>\n",
       "    <tr>\n",
       "      <th>mean</th>\n",
       "      <td>80.633776</td>\n",
       "      <td>67.281152</td>\n",
       "      <td>189.964447</td>\n",
       "      <td>1749.837789</td>\n",
       "      <td>121.605974</td>\n",
       "      <td>29.672512</td>\n",
       "      <td>4039.340921</td>\n",
       "      <td>1860.976012</td>\n",
       "      <td>15.537102</td>\n",
       "      <td>12.179879</td>\n",
       "    </tr>\n",
       "    <tr>\n",
       "      <th>std</th>\n",
       "      <td>80.699065</td>\n",
       "      <td>65.913872</td>\n",
       "      <td>136.405128</td>\n",
       "      <td>1008.513876</td>\n",
       "      <td>148.121544</td>\n",
       "      <td>45.394651</td>\n",
       "      <td>2502.149334</td>\n",
       "      <td>1446.702288</td>\n",
       "      <td>9.004655</td>\n",
       "      <td>7.824036</td>\n",
       "    </tr>\n",
       "    <tr>\n",
       "      <th>min</th>\n",
       "      <td>0.000000</td>\n",
       "      <td>0.000000</td>\n",
       "      <td>0.220211</td>\n",
       "      <td>4.000000</td>\n",
       "      <td>0.000000</td>\n",
       "      <td>0.000000</td>\n",
       "      <td>60.441250</td>\n",
       "      <td>18.282082</td>\n",
       "      <td>0.000000</td>\n",
       "      <td>0.000000</td>\n",
       "    </tr>\n",
       "    <tr>\n",
       "      <th>25%</th>\n",
       "      <td>23.000000</td>\n",
       "      <td>20.000000</td>\n",
       "      <td>90.661156</td>\n",
       "      <td>878.000000</td>\n",
       "      <td>9.000000</td>\n",
       "      <td>0.000000</td>\n",
       "      <td>2212.600607</td>\n",
       "      <td>835.996260</td>\n",
       "      <td>8.000000</td>\n",
       "      <td>5.000000</td>\n",
       "    </tr>\n",
       "    <tr>\n",
       "      <th>50%</th>\n",
       "      <td>56.000000</td>\n",
       "      <td>48.000000</td>\n",
       "      <td>159.568115</td>\n",
       "      <td>1741.000000</td>\n",
       "      <td>71.000000</td>\n",
       "      <td>9.000000</td>\n",
       "      <td>3493.858085</td>\n",
       "      <td>1478.249859</td>\n",
       "      <td>16.000000</td>\n",
       "      <td>12.000000</td>\n",
       "    </tr>\n",
       "    <tr>\n",
       "      <th>75%</th>\n",
       "      <td>112.000000</td>\n",
       "      <td>93.000000</td>\n",
       "      <td>254.192341</td>\n",
       "      <td>2623.500000</td>\n",
       "      <td>178.000000</td>\n",
       "      <td>43.000000</td>\n",
       "      <td>5289.861262</td>\n",
       "      <td>2464.362632</td>\n",
       "      <td>23.000000</td>\n",
       "      <td>19.000000</td>\n",
       "    </tr>\n",
       "    <tr>\n",
       "      <th>max</th>\n",
       "      <td>743.000000</td>\n",
       "      <td>596.000000</td>\n",
       "      <td>1216.154633</td>\n",
       "      <td>3500.000000</td>\n",
       "      <td>1236.000000</td>\n",
       "      <td>415.000000</td>\n",
       "      <td>21183.401890</td>\n",
       "      <td>15851.727160</td>\n",
       "      <td>31.000000</td>\n",
       "      <td>30.000000</td>\n",
       "    </tr>\n",
       "  </tbody>\n",
       "</table>\n",
       "</div>"
      ],
      "text/plain": [
       "           sessions        drives  total_sessions  n_days_after_onboarding  \\\n",
       "count  14999.000000  14999.000000    14999.000000             14999.000000   \n",
       "mean      80.633776     67.281152      189.964447              1749.837789   \n",
       "std       80.699065     65.913872      136.405128              1008.513876   \n",
       "min        0.000000      0.000000        0.220211                 4.000000   \n",
       "25%       23.000000     20.000000       90.661156               878.000000   \n",
       "50%       56.000000     48.000000      159.568115              1741.000000   \n",
       "75%      112.000000     93.000000      254.192341              2623.500000   \n",
       "max      743.000000    596.000000     1216.154633              3500.000000   \n",
       "\n",
       "       total_navigations_fav1  total_navigations_fav2  driven_km_drives  \\\n",
       "count            14999.000000            14999.000000      14999.000000   \n",
       "mean               121.605974               29.672512       4039.340921   \n",
       "std                148.121544               45.394651       2502.149334   \n",
       "min                  0.000000                0.000000         60.441250   \n",
       "25%                  9.000000                0.000000       2212.600607   \n",
       "50%                 71.000000                9.000000       3493.858085   \n",
       "75%                178.000000               43.000000       5289.861262   \n",
       "max               1236.000000              415.000000      21183.401890   \n",
       "\n",
       "       duration_minutes_drives  activity_days  driving_days  \n",
       "count             14999.000000   14999.000000  14999.000000  \n",
       "mean               1860.976012      15.537102     12.179879  \n",
       "std                1446.702288       9.004655      7.824036  \n",
       "min                  18.282082       0.000000      0.000000  \n",
       "25%                 835.996260       8.000000      5.000000  \n",
       "50%                1478.249859      16.000000     12.000000  \n",
       "75%                2464.362632      23.000000     19.000000  \n",
       "max               15851.727160      31.000000     30.000000  "
      ]
     },
     "execution_count": 52,
     "metadata": {},
     "output_type": "execute_result"
    }
   ],
   "source": [
    "df1.describe()"
   ]
  },
  {
   "cell_type": "markdown",
   "id": "f20c77c2",
   "metadata": {
    "papermill": {
     "duration": 0.039004,
     "end_time": "2024-02-09T12:45:14.841350",
     "exception": false,
     "start_time": "2024-02-09T12:45:14.802346",
     "status": "completed"
    },
    "tags": []
   },
   "source": [
    "**Question:** Are there any variables that could potentially have outliers just by assessing at the quartile values, standard deviation, and max values?\n",
    "\n",
    "> *Yes, the following columns all seem to have outliers:*\n",
    "<br>\n",
    "* `sessions`\n",
    "* `drives`\n",
    "* `total_sessions`\n",
    "* `total_navigations_fav1`\n",
    "* `total_navigations_fav2`\n",
    "* `driven_km_drives`\n",
    "* `duration_minutes_drives`\n",
    "\n",
    "\n",
    "> *All of these columns have max values that are multiple standard deviations above the 75th percentile. This could indicate outliers in these variables.*"
   ]
  },
  {
   "cell_type": "markdown",
   "id": "3fc83518",
   "metadata": {
    "papermill": {
     "duration": 0.04215,
     "end_time": "2024-02-09T12:45:14.925265",
     "exception": false,
     "start_time": "2024-02-09T12:45:14.883115",
     "status": "completed"
    },
    "tags": []
   },
   "source": [
    "### **Create features**\n",
    "\n",
    "Create features that may be of interest to the stakeholder and/or that are needed to address the business scenario/problem."
   ]
  },
  {
   "cell_type": "markdown",
   "id": "e258af9e",
   "metadata": {
    "papermill": {
     "duration": 0.040449,
     "end_time": "2024-02-09T12:45:15.006851",
     "exception": false,
     "start_time": "2024-02-09T12:45:14.966402",
     "status": "completed"
    },
    "tags": []
   },
   "source": [
    "#### **`km_per_driving_day`**\n",
    "\n",
    "You know from earlier EDA that churn rate correlates with distance driven per driving day in the last month. It might be helpful to engineer a feature that captures this information.\n",
    "\n",
    "1. Create a new column in `df` called `km_per_driving_day`, which represents the mean distance driven per driving day for each user.\n",
    "\n",
    "2. Call the `describe()` method on the new column."
   ]
  },
  {
   "cell_type": "code",
   "execution_count": 53,
   "id": "e521019b",
   "metadata": {
    "execution": {
     "iopub.execute_input": "2024-02-09T12:45:15.088145Z",
     "iopub.status.busy": "2024-02-09T12:45:15.087722Z",
     "iopub.status.idle": "2024-02-09T12:45:15.098857Z",
     "shell.execute_reply": "2024-02-09T12:45:15.098062Z"
    },
    "papermill": {
     "duration": 0.053716,
     "end_time": "2024-02-09T12:45:15.100750",
     "exception": false,
     "start_time": "2024-02-09T12:45:15.047034",
     "status": "completed"
    },
    "tags": []
   },
   "outputs": [
    {
     "data": {
      "text/plain": [
       "count    1.499900e+04\n",
       "mean              inf\n",
       "std               NaN\n",
       "min      3.022063e+00\n",
       "25%      1.672804e+02\n",
       "50%      3.231459e+02\n",
       "75%      7.579257e+02\n",
       "max               inf\n",
       "Name: km_per_driving_day, dtype: float64"
      ]
     },
     "execution_count": 53,
     "metadata": {},
     "output_type": "execute_result"
    }
   ],
   "source": [
    "# 1. Create `km_per_driving_day` column\n",
    "df1['km_per_driving_day'] = df1['driven_km_drives'] / df1['driving_days']\n",
    "\n",
    "# 2. Call `describe()` on the new column\n",
    "df1['km_per_driving_day'].describe()"
   ]
  },
  {
   "cell_type": "markdown",
   "id": "52ec3fc4",
   "metadata": {
    "papermill": {
     "duration": 0.038486,
     "end_time": "2024-02-09T12:45:15.179041",
     "exception": false,
     "start_time": "2024-02-09T12:45:15.140555",
     "status": "completed"
    },
    "tags": []
   },
   "source": [
    "Note that some values are infinite. This is the result of there being values of zero in the `driving_days` column. Pandas imputes a value of infinity in the corresponding rows of the new column because division by zero is undefined.\n",
    "\n",
    "1. Convert these values from infinity to zero. You can use `np.inf` to refer to a value of infinity.\n",
    "\n",
    "2. Call `describe()` on the `km_per_driving_day` column to verify that it worked."
   ]
  },
  {
   "cell_type": "code",
   "execution_count": 54,
   "id": "ac8d3064",
   "metadata": {
    "execution": {
     "iopub.execute_input": "2024-02-09T12:45:15.261752Z",
     "iopub.status.busy": "2024-02-09T12:45:15.261024Z",
     "iopub.status.idle": "2024-02-09T12:45:15.273564Z",
     "shell.execute_reply": "2024-02-09T12:45:15.272086Z"
    },
    "papermill": {
     "duration": 0.057488,
     "end_time": "2024-02-09T12:45:15.275925",
     "exception": false,
     "start_time": "2024-02-09T12:45:15.218437",
     "status": "completed"
    },
    "tags": []
   },
   "outputs": [
    {
     "data": {
      "text/plain": [
       "count    14999.000000\n",
       "mean       578.963113\n",
       "std       1030.094384\n",
       "min          0.000000\n",
       "25%        136.238895\n",
       "50%        272.889272\n",
       "75%        558.686918\n",
       "max      15420.234110\n",
       "Name: km_per_driving_day, dtype: float64"
      ]
     },
     "execution_count": 54,
     "metadata": {},
     "output_type": "execute_result"
    }
   ],
   "source": [
    "# 1. Convert infinite values to zero\n",
    "df1.loc[df1['km_per_driving_day']==np.inf, 'km_per_driving_day'] = 0\n",
    "\n",
    "# 2. Confirm that it worked\n",
    "df1['km_per_driving_day'].describe()"
   ]
  },
  {
   "cell_type": "markdown",
   "id": "94f5a727",
   "metadata": {
    "papermill": {
     "duration": 0.038456,
     "end_time": "2024-02-09T12:45:15.353988",
     "exception": false,
     "start_time": "2024-02-09T12:45:15.315532",
     "status": "completed"
    },
    "tags": []
   },
   "source": [
    "#### **`professional_driver`**\n",
    "\n",
    "Create a new, binary feature called `professional_driver` that is a 1 for users who had 60 or more drives <u>**and**</u> drove on 15+ days in the last month.\n",
    "\n",
    "**Note:** The objective is to create a new feature that separates professional drivers from other drivers. In this scenario, domain knowledge and intuition are used to determine these deciding thresholds, but ultimately they are arbitrary."
   ]
  },
  {
   "cell_type": "code",
   "execution_count": 55,
   "id": "b76335ad",
   "metadata": {
    "execution": {
     "iopub.execute_input": "2024-02-09T12:45:15.432827Z",
     "iopub.status.busy": "2024-02-09T12:45:15.432474Z",
     "iopub.status.idle": "2024-02-09T12:45:15.439286Z",
     "shell.execute_reply": "2024-02-09T12:45:15.438443Z"
    },
    "papermill": {
     "duration": 0.049321,
     "end_time": "2024-02-09T12:45:15.441924",
     "exception": false,
     "start_time": "2024-02-09T12:45:15.392603",
     "status": "completed"
    },
    "tags": []
   },
   "outputs": [],
   "source": [
    "# Create `professional_driver` column\n",
    "df1['professional_driver'] = np.where((df1['drives'] >= 60) & (df1['driving_days'] >= 15), 1, 0)"
   ]
  },
  {
   "cell_type": "markdown",
   "id": "e3d90314",
   "metadata": {
    "papermill": {
     "duration": 0.039201,
     "end_time": "2024-02-09T12:45:15.521742",
     "exception": false,
     "start_time": "2024-02-09T12:45:15.482541",
     "status": "completed"
    },
    "tags": []
   },
   "source": [
    "Perform a quick inspection of the new variable.\n",
    "\n",
    "1. Check the count of professional drivers and non-professionals\n",
    "\n",
    "2. Within each class (professional and non-professional) calculate the churn rate"
   ]
  },
  {
   "cell_type": "code",
   "execution_count": 56,
   "id": "c326de64",
   "metadata": {
    "execution": {
     "iopub.execute_input": "2024-02-09T12:45:15.607257Z",
     "iopub.status.busy": "2024-02-09T12:45:15.606538Z",
     "iopub.status.idle": "2024-02-09T12:45:15.625469Z",
     "shell.execute_reply": "2024-02-09T12:45:15.623598Z"
    },
    "papermill": {
     "duration": 0.064574,
     "end_time": "2024-02-09T12:45:15.627927",
     "exception": false,
     "start_time": "2024-02-09T12:45:15.563353",
     "status": "completed"
    },
    "tags": []
   },
   "outputs": [
    {
     "name": "stdout",
     "output_type": "stream",
     "text": [
      "professional_driver\n",
      "0    12405\n",
      "1     2594\n",
      "Name: count, dtype: int64\n"
     ]
    },
    {
     "data": {
      "text/plain": [
       "professional_driver  label   \n",
       "0                    retained    0.801202\n",
       "                     churned     0.198798\n",
       "1                    retained    0.924437\n",
       "                     churned     0.075563\n",
       "Name: proportion, dtype: float64"
      ]
     },
     "execution_count": 56,
     "metadata": {},
     "output_type": "execute_result"
    }
   ],
   "source": [
    "# 1. Check count of professionals and non-professionals\n",
    "print(df1['professional_driver'].value_counts())\n",
    "\n",
    "# 2. Check in-class churn rate\n",
    "df1.groupby(['professional_driver'])['label'].value_counts(normalize=True)"
   ]
  },
  {
   "cell_type": "markdown",
   "id": "beed95ca",
   "metadata": {
    "papermill": {
     "duration": 0.039526,
     "end_time": "2024-02-09T12:45:15.709072",
     "exception": false,
     "start_time": "2024-02-09T12:45:15.669546",
     "status": "completed"
    },
    "tags": []
   },
   "source": [
    "The churn rate for professional drivers is 7.6%, while the churn rate for non-professionals is 19.9%. This seems like it could add predictive signal to the model."
   ]
  },
  {
   "cell_type": "markdown",
   "id": "c3a2c844",
   "metadata": {
    "papermill": {
     "duration": 0.039266,
     "end_time": "2024-02-09T12:45:15.787714",
     "exception": false,
     "start_time": "2024-02-09T12:45:15.748448",
     "status": "completed"
    },
    "tags": []
   },
   "source": [
    "### **Preparing variables**"
   ]
  },
  {
   "cell_type": "markdown",
   "id": "257e0ce9",
   "metadata": {
    "papermill": {
     "duration": 0.042905,
     "end_time": "2024-02-09T12:45:15.871133",
     "exception": false,
     "start_time": "2024-02-09T12:45:15.828228",
     "status": "completed"
    },
    "tags": []
   },
   "source": [
    "Call `info()` on the dataframe to check the data type of the `label` variable and to verify if there are any missing values."
   ]
  },
  {
   "cell_type": "code",
   "execution_count": 57,
   "id": "f3fcabf4",
   "metadata": {
    "execution": {
     "iopub.execute_input": "2024-02-09T12:45:15.976705Z",
     "iopub.status.busy": "2024-02-09T12:45:15.976295Z",
     "iopub.status.idle": "2024-02-09T12:45:15.990664Z",
     "shell.execute_reply": "2024-02-09T12:45:15.989148Z"
    },
    "papermill": {
     "duration": 0.064071,
     "end_time": "2024-02-09T12:45:15.993609",
     "exception": false,
     "start_time": "2024-02-09T12:45:15.929538",
     "status": "completed"
    },
    "tags": []
   },
   "outputs": [
    {
     "name": "stdout",
     "output_type": "stream",
     "text": [
      "<class 'pandas.core.frame.DataFrame'>\n",
      "RangeIndex: 14999 entries, 0 to 14998\n",
      "Data columns (total 14 columns):\n",
      " #   Column                   Non-Null Count  Dtype  \n",
      "---  ------                   --------------  -----  \n",
      " 0   label                    14299 non-null  object \n",
      " 1   sessions                 14999 non-null  int64  \n",
      " 2   drives                   14999 non-null  int64  \n",
      " 3   total_sessions           14999 non-null  float64\n",
      " 4   n_days_after_onboarding  14999 non-null  int64  \n",
      " 5   total_navigations_fav1   14999 non-null  int64  \n",
      " 6   total_navigations_fav2   14999 non-null  int64  \n",
      " 7   driven_km_drives         14999 non-null  float64\n",
      " 8   duration_minutes_drives  14999 non-null  float64\n",
      " 9   activity_days            14999 non-null  int64  \n",
      " 10  driving_days             14999 non-null  int64  \n",
      " 11  device                   14999 non-null  object \n",
      " 12  km_per_driving_day       14999 non-null  float64\n",
      " 13  professional_driver      14999 non-null  int64  \n",
      "dtypes: float64(4), int64(8), object(2)\n",
      "memory usage: 1.6+ MB\n"
     ]
    }
   ],
   "source": [
    "df1.info()"
   ]
  },
  {
   "cell_type": "markdown",
   "id": "7b87b061",
   "metadata": {
    "papermill": {
     "duration": 0.040335,
     "end_time": "2024-02-09T12:45:16.076383",
     "exception": false,
     "start_time": "2024-02-09T12:45:16.036048",
     "status": "completed"
    },
    "tags": []
   },
   "source": [
    "Because you know from previous EDA that there is no evidence of a non-random cause of the 700 missing values in the label column, and because these observations comprise less than 5% of the data, use the dropna() method to drop the rows that are missing this data."
   ]
  },
  {
   "cell_type": "code",
   "execution_count": 58,
   "id": "c109d95f",
   "metadata": {
    "execution": {
     "iopub.execute_input": "2024-02-09T12:45:16.162565Z",
     "iopub.status.busy": "2024-02-09T12:45:16.161786Z",
     "iopub.status.idle": "2024-02-09T12:45:16.170652Z",
     "shell.execute_reply": "2024-02-09T12:45:16.169312Z"
    },
    "papermill": {
     "duration": 0.054313,
     "end_time": "2024-02-09T12:45:16.173439",
     "exception": false,
     "start_time": "2024-02-09T12:45:16.119126",
     "status": "completed"
    },
    "tags": []
   },
   "outputs": [],
   "source": [
    "# Drop rows with missing data in `label` column\n",
    "df1 = df1.dropna(subset=['label'])"
   ]
  },
  {
   "cell_type": "markdown",
   "id": "95e162cd",
   "metadata": {
    "papermill": {
     "duration": 0.039365,
     "end_time": "2024-02-09T12:45:16.254495",
     "exception": false,
     "start_time": "2024-02-09T12:45:16.215130",
     "status": "completed"
    },
    "tags": []
   },
   "source": [
    "#### **Impute outliers**\n",
    "\n",
    "You rarely want to drop outliers, and generally will not do so unless there is a clear reason for it (e.g., typographic errors).\n",
    "\n",
    "At times outliers can be changed to the **median, mean, 95th percentile, etc.**\n",
    "\n",
    "Previously, you determined that seven of the variables had clear signs of containing outliers:\n",
    "\n",
    "* `sessions`\n",
    "* `drives`\n",
    "* `total_sessions`\n",
    "* `total_navigations_fav1`\n",
    "* `total_navigations_fav2`\n",
    "* `driven_km_drives`\n",
    "* `duration_minutes_drives`\n",
    "\n",
    "For this analysis, impute the outlying values for these columns. Calculate the **95th percentile** of each column and change to this value any value in the column that exceeds it.\n"
   ]
  },
  {
   "cell_type": "code",
   "execution_count": 59,
   "id": "2e1b71c4",
   "metadata": {
    "execution": {
     "iopub.execute_input": "2024-02-09T12:45:16.346825Z",
     "iopub.status.busy": "2024-02-09T12:45:16.346345Z",
     "iopub.status.idle": "2024-02-09T12:45:16.369302Z",
     "shell.execute_reply": "2024-02-09T12:45:16.367948Z"
    },
    "papermill": {
     "duration": 0.0704,
     "end_time": "2024-02-09T12:45:16.372198",
     "exception": false,
     "start_time": "2024-02-09T12:45:16.301798",
     "status": "completed"
    },
    "tags": []
   },
   "outputs": [],
   "source": [
    "# Impute outliers\n",
    "for column in ['sessions', 'drives', 'total_sessions', 'total_navigations_fav1',\n",
    "               'total_navigations_fav2', 'driven_km_drives', 'duration_minutes_drives']:\n",
    "    threshold = df1[column].quantile(0.95)\n",
    "    df1.loc[df[column] > threshold, column] = threshold"
   ]
  },
  {
   "cell_type": "code",
   "execution_count": 60,
   "id": "c6acef01",
   "metadata": {
    "execution": {
     "iopub.execute_input": "2024-02-09T12:45:16.457299Z",
     "iopub.status.busy": "2024-02-09T12:45:16.456395Z",
     "iopub.status.idle": "2024-02-09T12:45:16.507192Z",
     "shell.execute_reply": "2024-02-09T12:45:16.505508Z"
    },
    "papermill": {
     "duration": 0.096059,
     "end_time": "2024-02-09T12:45:16.510285",
     "exception": false,
     "start_time": "2024-02-09T12:45:16.414226",
     "status": "completed"
    },
    "tags": []
   },
   "outputs": [
    {
     "data": {
      "text/html": [
       "<div>\n",
       "<style scoped>\n",
       "    .dataframe tbody tr th:only-of-type {\n",
       "        vertical-align: middle;\n",
       "    }\n",
       "\n",
       "    .dataframe tbody tr th {\n",
       "        vertical-align: top;\n",
       "    }\n",
       "\n",
       "    .dataframe thead th {\n",
       "        text-align: right;\n",
       "    }\n",
       "</style>\n",
       "<table border=\"1\" class=\"dataframe\">\n",
       "  <thead>\n",
       "    <tr style=\"text-align: right;\">\n",
       "      <th></th>\n",
       "      <th>sessions</th>\n",
       "      <th>drives</th>\n",
       "      <th>total_sessions</th>\n",
       "      <th>n_days_after_onboarding</th>\n",
       "      <th>total_navigations_fav1</th>\n",
       "      <th>total_navigations_fav2</th>\n",
       "      <th>driven_km_drives</th>\n",
       "      <th>duration_minutes_drives</th>\n",
       "      <th>activity_days</th>\n",
       "      <th>driving_days</th>\n",
       "      <th>km_per_driving_day</th>\n",
       "      <th>professional_driver</th>\n",
       "    </tr>\n",
       "  </thead>\n",
       "  <tbody>\n",
       "    <tr>\n",
       "      <th>count</th>\n",
       "      <td>14299.000000</td>\n",
       "      <td>14299.000000</td>\n",
       "      <td>14299.000000</td>\n",
       "      <td>14299.000000</td>\n",
       "      <td>14299.000000</td>\n",
       "      <td>14299.000000</td>\n",
       "      <td>14299.000000</td>\n",
       "      <td>14299.000000</td>\n",
       "      <td>14299.000000</td>\n",
       "      <td>14299.000000</td>\n",
       "      <td>14299.000000</td>\n",
       "      <td>14299.000000</td>\n",
       "    </tr>\n",
       "    <tr>\n",
       "      <th>mean</th>\n",
       "      <td>80.623820</td>\n",
       "      <td>63.964683</td>\n",
       "      <td>189.547409</td>\n",
       "      <td>1751.822505</td>\n",
       "      <td>114.562767</td>\n",
       "      <td>27.187216</td>\n",
       "      <td>4044.401535</td>\n",
       "      <td>1792.911210</td>\n",
       "      <td>15.544653</td>\n",
       "      <td>12.182530</td>\n",
       "      <td>581.942399</td>\n",
       "      <td>0.173998</td>\n",
       "    </tr>\n",
       "    <tr>\n",
       "      <th>std</th>\n",
       "      <td>80.736502</td>\n",
       "      <td>55.127927</td>\n",
       "      <td>136.189764</td>\n",
       "      <td>1008.663834</td>\n",
       "      <td>124.378550</td>\n",
       "      <td>36.715302</td>\n",
       "      <td>2504.977970</td>\n",
       "      <td>1224.329759</td>\n",
       "      <td>9.016088</td>\n",
       "      <td>7.833835</td>\n",
       "      <td>1038.254509</td>\n",
       "      <td>0.379121</td>\n",
       "    </tr>\n",
       "    <tr>\n",
       "      <th>min</th>\n",
       "      <td>0.000000</td>\n",
       "      <td>0.000000</td>\n",
       "      <td>0.220211</td>\n",
       "      <td>4.000000</td>\n",
       "      <td>0.000000</td>\n",
       "      <td>0.000000</td>\n",
       "      <td>60.441250</td>\n",
       "      <td>18.282082</td>\n",
       "      <td>0.000000</td>\n",
       "      <td>0.000000</td>\n",
       "      <td>0.000000</td>\n",
       "      <td>0.000000</td>\n",
       "    </tr>\n",
       "    <tr>\n",
       "      <th>25%</th>\n",
       "      <td>23.000000</td>\n",
       "      <td>20.000000</td>\n",
       "      <td>90.457733</td>\n",
       "      <td>878.500000</td>\n",
       "      <td>10.000000</td>\n",
       "      <td>0.000000</td>\n",
       "      <td>2217.319909</td>\n",
       "      <td>840.181344</td>\n",
       "      <td>8.000000</td>\n",
       "      <td>5.000000</td>\n",
       "      <td>136.168003</td>\n",
       "      <td>0.000000</td>\n",
       "    </tr>\n",
       "    <tr>\n",
       "      <th>50%</th>\n",
       "      <td>56.000000</td>\n",
       "      <td>48.000000</td>\n",
       "      <td>158.718571</td>\n",
       "      <td>1749.000000</td>\n",
       "      <td>71.000000</td>\n",
       "      <td>9.000000</td>\n",
       "      <td>3496.545617</td>\n",
       "      <td>1479.394387</td>\n",
       "      <td>16.000000</td>\n",
       "      <td>12.000000</td>\n",
       "      <td>273.301012</td>\n",
       "      <td>0.000000</td>\n",
       "    </tr>\n",
       "    <tr>\n",
       "      <th>75%</th>\n",
       "      <td>111.000000</td>\n",
       "      <td>93.000000</td>\n",
       "      <td>253.540450</td>\n",
       "      <td>2627.500000</td>\n",
       "      <td>178.000000</td>\n",
       "      <td>43.000000</td>\n",
       "      <td>5299.972162</td>\n",
       "      <td>2466.928876</td>\n",
       "      <td>23.000000</td>\n",
       "      <td>19.000000</td>\n",
       "      <td>558.018761</td>\n",
       "      <td>0.000000</td>\n",
       "    </tr>\n",
       "    <tr>\n",
       "      <th>max</th>\n",
       "      <td>743.000000</td>\n",
       "      <td>200.000000</td>\n",
       "      <td>1216.154633</td>\n",
       "      <td>3500.000000</td>\n",
       "      <td>422.000000</td>\n",
       "      <td>124.000000</td>\n",
       "      <td>21183.401890</td>\n",
       "      <td>4668.180092</td>\n",
       "      <td>31.000000</td>\n",
       "      <td>30.000000</td>\n",
       "      <td>15420.234110</td>\n",
       "      <td>1.000000</td>\n",
       "    </tr>\n",
       "  </tbody>\n",
       "</table>\n",
       "</div>"
      ],
      "text/plain": [
       "           sessions        drives  total_sessions  n_days_after_onboarding  \\\n",
       "count  14299.000000  14299.000000    14299.000000             14299.000000   \n",
       "mean      80.623820     63.964683      189.547409              1751.822505   \n",
       "std       80.736502     55.127927      136.189764              1008.663834   \n",
       "min        0.000000      0.000000        0.220211                 4.000000   \n",
       "25%       23.000000     20.000000       90.457733               878.500000   \n",
       "50%       56.000000     48.000000      158.718571              1749.000000   \n",
       "75%      111.000000     93.000000      253.540450              2627.500000   \n",
       "max      743.000000    200.000000     1216.154633              3500.000000   \n",
       "\n",
       "       total_navigations_fav1  total_navigations_fav2  driven_km_drives  \\\n",
       "count            14299.000000            14299.000000      14299.000000   \n",
       "mean               114.562767               27.187216       4044.401535   \n",
       "std                124.378550               36.715302       2504.977970   \n",
       "min                  0.000000                0.000000         60.441250   \n",
       "25%                 10.000000                0.000000       2217.319909   \n",
       "50%                 71.000000                9.000000       3496.545617   \n",
       "75%                178.000000               43.000000       5299.972162   \n",
       "max                422.000000              124.000000      21183.401890   \n",
       "\n",
       "       duration_minutes_drives  activity_days  driving_days  \\\n",
       "count             14299.000000   14299.000000  14299.000000   \n",
       "mean               1792.911210      15.544653     12.182530   \n",
       "std                1224.329759       9.016088      7.833835   \n",
       "min                  18.282082       0.000000      0.000000   \n",
       "25%                 840.181344       8.000000      5.000000   \n",
       "50%                1479.394387      16.000000     12.000000   \n",
       "75%                2466.928876      23.000000     19.000000   \n",
       "max                4668.180092      31.000000     30.000000   \n",
       "\n",
       "       km_per_driving_day  professional_driver  \n",
       "count        14299.000000         14299.000000  \n",
       "mean           581.942399             0.173998  \n",
       "std           1038.254509             0.379121  \n",
       "min              0.000000             0.000000  \n",
       "25%            136.168003             0.000000  \n",
       "50%            273.301012             0.000000  \n",
       "75%            558.018761             0.000000  \n",
       "max          15420.234110             1.000000  "
      ]
     },
     "execution_count": 60,
     "metadata": {},
     "output_type": "execute_result"
    }
   ],
   "source": [
    "df1.describe()"
   ]
  },
  {
   "cell_type": "markdown",
   "id": "83708a82",
   "metadata": {
    "papermill": {
     "duration": 0.040111,
     "end_time": "2024-02-09T12:45:16.590509",
     "exception": false,
     "start_time": "2024-02-09T12:45:16.550398",
     "status": "completed"
    },
    "tags": []
   },
   "source": [
    "Change the data type of the `label` column to be binary. This change is needed to train a logistic regression model.\n",
    "\n",
    "Assign a `0` for all `retained` users.\n",
    "\n",
    "Assign a `1` for all `churned` users.\n",
    "\n",
    "Save this variable as `label2` as to not overwrite the original `label` variable.\n",
    "\n",
    "**Note:** There are many ways to do this. Consider using `np.where()`."
   ]
  },
  {
   "cell_type": "code",
   "execution_count": 61,
   "id": "b0d9020d",
   "metadata": {
    "execution": {
     "iopub.execute_input": "2024-02-09T12:45:16.673334Z",
     "iopub.status.busy": "2024-02-09T12:45:16.672961Z",
     "iopub.status.idle": "2024-02-09T12:45:16.688445Z",
     "shell.execute_reply": "2024-02-09T12:45:16.687510Z"
    },
    "papermill": {
     "duration": 0.059965,
     "end_time": "2024-02-09T12:45:16.691358",
     "exception": false,
     "start_time": "2024-02-09T12:45:16.631393",
     "status": "completed"
    },
    "tags": []
   },
   "outputs": [
    {
     "data": {
      "text/html": [
       "<div>\n",
       "<style scoped>\n",
       "    .dataframe tbody tr th:only-of-type {\n",
       "        vertical-align: middle;\n",
       "    }\n",
       "\n",
       "    .dataframe tbody tr th {\n",
       "        vertical-align: top;\n",
       "    }\n",
       "\n",
       "    .dataframe thead th {\n",
       "        text-align: right;\n",
       "    }\n",
       "</style>\n",
       "<table border=\"1\" class=\"dataframe\">\n",
       "  <thead>\n",
       "    <tr style=\"text-align: right;\">\n",
       "      <th></th>\n",
       "      <th>label</th>\n",
       "      <th>label2</th>\n",
       "    </tr>\n",
       "  </thead>\n",
       "  <tbody>\n",
       "    <tr>\n",
       "      <th>14994</th>\n",
       "      <td>retained</td>\n",
       "      <td>0</td>\n",
       "    </tr>\n",
       "    <tr>\n",
       "      <th>14995</th>\n",
       "      <td>retained</td>\n",
       "      <td>0</td>\n",
       "    </tr>\n",
       "    <tr>\n",
       "      <th>14996</th>\n",
       "      <td>retained</td>\n",
       "      <td>0</td>\n",
       "    </tr>\n",
       "    <tr>\n",
       "      <th>14997</th>\n",
       "      <td>churned</td>\n",
       "      <td>1</td>\n",
       "    </tr>\n",
       "    <tr>\n",
       "      <th>14998</th>\n",
       "      <td>retained</td>\n",
       "      <td>0</td>\n",
       "    </tr>\n",
       "  </tbody>\n",
       "</table>\n",
       "</div>"
      ],
      "text/plain": [
       "          label  label2\n",
       "14994  retained       0\n",
       "14995  retained       0\n",
       "14996  retained       0\n",
       "14997   churned       1\n",
       "14998  retained       0"
      ]
     },
     "execution_count": 61,
     "metadata": {},
     "output_type": "execute_result"
    }
   ],
   "source": [
    "# Create binary `label2` column\n",
    "df1['label2'] = np.where(df1['label']=='churned', 1, 0)\n",
    "df1[['label', 'label2']].tail()"
   ]
  },
  {
   "cell_type": "markdown",
   "id": "ce20b5f1",
   "metadata": {
    "papermill": {
     "duration": 0.040359,
     "end_time": "2024-02-09T12:45:16.773491",
     "exception": false,
     "start_time": "2024-02-09T12:45:16.733132",
     "status": "completed"
    },
    "tags": []
   },
   "source": [
    "### **Determine whether assumptions have been met**\n",
    "\n",
    "The following are the assumptions for logistic regression:\n",
    "\n",
    "* Independent observations (This refers to how the data was collected.)\n",
    "\n",
    "* No extreme outliers\n",
    "\n",
    "* Little to no multicollinearity among X predictors\n",
    "\n",
    "* Linear relationship between X and the **logit** of y\n",
    "\n",
    "For the first assumption, you can assume that observations are independent for this project.\n",
    "\n",
    "The second assumption has already been addressed.\n",
    "\n",
    "The last assumption will be verified after modeling.\n",
    "\n",
    "**Note:** In practice, modeling assumptions are often violated, and depending on the specifics of your use case and the severity of the violation, it might not affect your model much at all or it will result in a failed model."
   ]
  },
  {
   "cell_type": "markdown",
   "id": "78d4e048",
   "metadata": {
    "papermill": {
     "duration": 0.042546,
     "end_time": "2024-02-09T12:45:16.858099",
     "exception": false,
     "start_time": "2024-02-09T12:45:16.815553",
     "status": "completed"
    },
    "tags": []
   },
   "source": [
    "### **Create dummies (if necessary)**\n",
    "\n",
    "If you have selected `device` as an X variable, you will need to create dummy variables since this variable is categorical.\n",
    "\n",
    "In cases with many categorical variables, you can use pandas built-in [`pd.get_dummies()`](https://pandas.pydata.org/docs/reference/api/pandas.get_dummies.html), or you can use scikit-learn's [`OneHotEncoder()`](https://scikit-learn.org/stable/modules/generated/sklearn.preprocessing.OneHotEncoder.html) function.\n",
    "\n",
    "**Note:** Variables with many categories should only be dummied if absolutely necessary. Each category will result in a coefficient for your model which can lead to overfitting.\n",
    "\n",
    "Because this dataset only has one remaining categorical feature (`device`), it's not necessary to use one of these special functions. You can just implement the transformation directly.\n",
    "\n",
    "Create a new, binary column called `device2` that encodes user devices as follows:\n",
    "\n",
    "* `Android` -> `0`\n",
    "* `iPhone` -> `1`"
   ]
  },
  {
   "cell_type": "code",
   "execution_count": 62,
   "id": "dec16280",
   "metadata": {
    "execution": {
     "iopub.execute_input": "2024-02-09T12:45:16.947279Z",
     "iopub.status.busy": "2024-02-09T12:45:16.946776Z",
     "iopub.status.idle": "2024-02-09T12:45:16.962748Z",
     "shell.execute_reply": "2024-02-09T12:45:16.961275Z"
    },
    "papermill": {
     "duration": 0.063591,
     "end_time": "2024-02-09T12:45:16.965324",
     "exception": false,
     "start_time": "2024-02-09T12:45:16.901733",
     "status": "completed"
    },
    "tags": []
   },
   "outputs": [
    {
     "data": {
      "text/html": [
       "<div>\n",
       "<style scoped>\n",
       "    .dataframe tbody tr th:only-of-type {\n",
       "        vertical-align: middle;\n",
       "    }\n",
       "\n",
       "    .dataframe tbody tr th {\n",
       "        vertical-align: top;\n",
       "    }\n",
       "\n",
       "    .dataframe thead th {\n",
       "        text-align: right;\n",
       "    }\n",
       "</style>\n",
       "<table border=\"1\" class=\"dataframe\">\n",
       "  <thead>\n",
       "    <tr style=\"text-align: right;\">\n",
       "      <th></th>\n",
       "      <th>device</th>\n",
       "      <th>device2</th>\n",
       "    </tr>\n",
       "  </thead>\n",
       "  <tbody>\n",
       "    <tr>\n",
       "      <th>14994</th>\n",
       "      <td>iPhone</td>\n",
       "      <td>1</td>\n",
       "    </tr>\n",
       "    <tr>\n",
       "      <th>14995</th>\n",
       "      <td>Android</td>\n",
       "      <td>0</td>\n",
       "    </tr>\n",
       "    <tr>\n",
       "      <th>14996</th>\n",
       "      <td>iPhone</td>\n",
       "      <td>1</td>\n",
       "    </tr>\n",
       "    <tr>\n",
       "      <th>14997</th>\n",
       "      <td>iPhone</td>\n",
       "      <td>1</td>\n",
       "    </tr>\n",
       "    <tr>\n",
       "      <th>14998</th>\n",
       "      <td>iPhone</td>\n",
       "      <td>1</td>\n",
       "    </tr>\n",
       "  </tbody>\n",
       "</table>\n",
       "</div>"
      ],
      "text/plain": [
       "        device  device2\n",
       "14994   iPhone        1\n",
       "14995  Android        0\n",
       "14996   iPhone        1\n",
       "14997   iPhone        1\n",
       "14998   iPhone        1"
      ]
     },
     "execution_count": 62,
     "metadata": {},
     "output_type": "execute_result"
    }
   ],
   "source": [
    "# Create new `device2` variable\n",
    "df1['device2'] = np.where(df1['device']=='Android', 0, 1)\n",
    "df1[['device', 'device2']].tail()"
   ]
  },
  {
   "cell_type": "markdown",
   "id": "fc5a5fa7",
   "metadata": {
    "papermill": {
     "duration": 0.040799,
     "end_time": "2024-02-09T12:45:17.046725",
     "exception": false,
     "start_time": "2024-02-09T12:45:17.005926",
     "status": "completed"
    },
    "tags": []
   },
   "source": [
    "### **Model building**"
   ]
  },
  {
   "cell_type": "markdown",
   "id": "75964e5b",
   "metadata": {
    "papermill": {
     "duration": 0.039001,
     "end_time": "2024-02-09T12:45:17.126030",
     "exception": false,
     "start_time": "2024-02-09T12:45:17.087029",
     "status": "completed"
    },
    "tags": []
   },
   "source": [
    "#### **Assign predictor variables and target**\n",
    "\n",
    "To build your model you need to determine what X variables you want to include in your model to predict your target&mdash;`label2`.\n",
    "\n",
    "Drop the following variables and assign the results to `X`:\n",
    "\n",
    "* `label` (this is the target)\n",
    "* `label2` (this is the target)\n",
    "* `device` (this is the non-binary-encoded categorical variable)\n",
    "* `sessions` (this had high multicollinearity)\n",
    "* `driving_days` (this had high multicollinearity)\n",
    "\n",
    "**Note:** Notice that `sessions` and `driving_days` were selected to be dropped, rather than `drives` and `activity_days`. The reason for this is that the features that were kept for modeling had slightly stronger correlations with the target variable than the features that were dropped."
   ]
  },
  {
   "cell_type": "code",
   "execution_count": 63,
   "id": "bcc08cef",
   "metadata": {
    "execution": {
     "iopub.execute_input": "2024-02-09T12:45:17.209062Z",
     "iopub.status.busy": "2024-02-09T12:45:17.208626Z",
     "iopub.status.idle": "2024-02-09T12:45:17.216381Z",
     "shell.execute_reply": "2024-02-09T12:45:17.214586Z"
    },
    "papermill": {
     "duration": 0.053212,
     "end_time": "2024-02-09T12:45:17.219355",
     "exception": false,
     "start_time": "2024-02-09T12:45:17.166143",
     "status": "completed"
    },
    "tags": []
   },
   "outputs": [],
   "source": [
    "# Isolate predictor variables\n",
    "X = df1.drop(columns = ['label', 'label2', 'device', 'sessions', 'driving_days'])"
   ]
  },
  {
   "cell_type": "code",
   "execution_count": 64,
   "id": "b0239a47",
   "metadata": {
    "execution": {
     "iopub.execute_input": "2024-02-09T12:45:17.303463Z",
     "iopub.status.busy": "2024-02-09T12:45:17.303042Z",
     "iopub.status.idle": "2024-02-09T12:45:17.308395Z",
     "shell.execute_reply": "2024-02-09T12:45:17.306596Z"
    },
    "papermill": {
     "duration": 0.049563,
     "end_time": "2024-02-09T12:45:17.310939",
     "exception": false,
     "start_time": "2024-02-09T12:45:17.261376",
     "status": "completed"
    },
    "tags": []
   },
   "outputs": [],
   "source": [
    "# Isolate target variable\n",
    "y = df1['label2']"
   ]
  },
  {
   "cell_type": "markdown",
   "id": "843a1248",
   "metadata": {
    "papermill": {
     "duration": 0.040967,
     "end_time": "2024-02-09T12:45:17.392513",
     "exception": false,
     "start_time": "2024-02-09T12:45:17.351546",
     "status": "completed"
    },
    "tags": []
   },
   "source": [
    "#### **Split the data**\n",
    "\n",
    "Use scikit-learn's [`train_test_split()`](https://scikit-learn.org/stable/modules/generated/sklearn.model_selection.train_test_split.html) function to perform a train/test split on your data using the X and y variables you assigned above.\n",
    "\n",
    "**Note 1:** It is important to do a train test to obtain accurate predictions.  You always want to fit your model on your training set and evaluate your model on your test set to avoid data leakage.\n",
    "\n",
    "**Note 2:** Because the target class is imbalanced (82% retained vs. 18% churned), you want to make sure that you don't get an unlucky split that over- or under-represents the frequency of the minority class. Set the function's `stratify` parameter to `y` to ensure that the minority class appears in both train and test sets in the same proportion that it does in the overall dataset."
   ]
  },
  {
   "cell_type": "code",
   "execution_count": 65,
   "id": "0a0df9a0",
   "metadata": {
    "execution": {
     "iopub.execute_input": "2024-02-09T12:45:17.476355Z",
     "iopub.status.busy": "2024-02-09T12:45:17.475922Z",
     "iopub.status.idle": "2024-02-09T12:45:17.490680Z",
     "shell.execute_reply": "2024-02-09T12:45:17.489452Z"
    },
    "papermill": {
     "duration": 0.058695,
     "end_time": "2024-02-09T12:45:17.493135",
     "exception": false,
     "start_time": "2024-02-09T12:45:17.434440",
     "status": "completed"
    },
    "tags": []
   },
   "outputs": [],
   "source": [
    "# Perform the train-test split\n",
    "X_train, X_test, y_train, y_test = train_test_split(X, y, stratify=y, random_state=42)"
   ]
  },
  {
   "cell_type": "code",
   "execution_count": 66,
   "id": "76560935",
   "metadata": {
    "execution": {
     "iopub.execute_input": "2024-02-09T12:45:17.580895Z",
     "iopub.status.busy": "2024-02-09T12:45:17.580450Z",
     "iopub.status.idle": "2024-02-09T12:45:17.594731Z",
     "shell.execute_reply": "2024-02-09T12:45:17.593151Z"
    },
    "papermill": {
     "duration": 0.061202,
     "end_time": "2024-02-09T12:45:17.597301",
     "exception": false,
     "start_time": "2024-02-09T12:45:17.536099",
     "status": "completed"
    },
    "tags": []
   },
   "outputs": [
    {
     "data": {
      "text/html": [
       "<div>\n",
       "<style scoped>\n",
       "    .dataframe tbody tr th:only-of-type {\n",
       "        vertical-align: middle;\n",
       "    }\n",
       "\n",
       "    .dataframe tbody tr th {\n",
       "        vertical-align: top;\n",
       "    }\n",
       "\n",
       "    .dataframe thead th {\n",
       "        text-align: right;\n",
       "    }\n",
       "</style>\n",
       "<table border=\"1\" class=\"dataframe\">\n",
       "  <thead>\n",
       "    <tr style=\"text-align: right;\">\n",
       "      <th></th>\n",
       "      <th>drives</th>\n",
       "      <th>total_sessions</th>\n",
       "      <th>n_days_after_onboarding</th>\n",
       "      <th>total_navigations_fav1</th>\n",
       "      <th>total_navigations_fav2</th>\n",
       "      <th>driven_km_drives</th>\n",
       "      <th>duration_minutes_drives</th>\n",
       "      <th>activity_days</th>\n",
       "      <th>km_per_driving_day</th>\n",
       "      <th>professional_driver</th>\n",
       "      <th>device2</th>\n",
       "    </tr>\n",
       "  </thead>\n",
       "  <tbody>\n",
       "    <tr>\n",
       "      <th>152</th>\n",
       "      <td>108</td>\n",
       "      <td>186.192746</td>\n",
       "      <td>3116</td>\n",
       "      <td>243</td>\n",
       "      <td>124</td>\n",
       "      <td>9184.587914</td>\n",
       "      <td>4668.180092</td>\n",
       "      <td>24</td>\n",
       "      <td>612.305861</td>\n",
       "      <td>1</td>\n",
       "      <td>1</td>\n",
       "    </tr>\n",
       "    <tr>\n",
       "      <th>11899</th>\n",
       "      <td>2</td>\n",
       "      <td>3.487590</td>\n",
       "      <td>794</td>\n",
       "      <td>114</td>\n",
       "      <td>18</td>\n",
       "      <td>3286.545691</td>\n",
       "      <td>1780.902733</td>\n",
       "      <td>5</td>\n",
       "      <td>3286.545691</td>\n",
       "      <td>0</td>\n",
       "      <td>1</td>\n",
       "    </tr>\n",
       "    <tr>\n",
       "      <th>10937</th>\n",
       "      <td>139</td>\n",
       "      <td>347.106403</td>\n",
       "      <td>331</td>\n",
       "      <td>4</td>\n",
       "      <td>7</td>\n",
       "      <td>7400.838975</td>\n",
       "      <td>2349.305267</td>\n",
       "      <td>15</td>\n",
       "      <td>616.736581</td>\n",
       "      <td>0</td>\n",
       "      <td>0</td>\n",
       "    </tr>\n",
       "    <tr>\n",
       "      <th>669</th>\n",
       "      <td>108</td>\n",
       "      <td>481.048448</td>\n",
       "      <td>2320</td>\n",
       "      <td>11</td>\n",
       "      <td>4</td>\n",
       "      <td>6566.424830</td>\n",
       "      <td>4558.459870</td>\n",
       "      <td>18</td>\n",
       "      <td>410.401552</td>\n",
       "      <td>1</td>\n",
       "      <td>1</td>\n",
       "    </tr>\n",
       "    <tr>\n",
       "      <th>8406</th>\n",
       "      <td>10</td>\n",
       "      <td>89.475821</td>\n",
       "      <td>2478</td>\n",
       "      <td>135</td>\n",
       "      <td>0</td>\n",
       "      <td>1271.248661</td>\n",
       "      <td>938.711572</td>\n",
       "      <td>27</td>\n",
       "      <td>74.779333</td>\n",
       "      <td>0</td>\n",
       "      <td>1</td>\n",
       "    </tr>\n",
       "  </tbody>\n",
       "</table>\n",
       "</div>"
      ],
      "text/plain": [
       "       drives  total_sessions  n_days_after_onboarding  \\\n",
       "152       108      186.192746                     3116   \n",
       "11899       2        3.487590                      794   \n",
       "10937     139      347.106403                      331   \n",
       "669       108      481.048448                     2320   \n",
       "8406       10       89.475821                     2478   \n",
       "\n",
       "       total_navigations_fav1  total_navigations_fav2  driven_km_drives  \\\n",
       "152                       243                     124       9184.587914   \n",
       "11899                     114                      18       3286.545691   \n",
       "10937                       4                       7       7400.838975   \n",
       "669                        11                       4       6566.424830   \n",
       "8406                      135                       0       1271.248661   \n",
       "\n",
       "       duration_minutes_drives  activity_days  km_per_driving_day  \\\n",
       "152                4668.180092             24          612.305861   \n",
       "11899              1780.902733              5         3286.545691   \n",
       "10937              2349.305267             15          616.736581   \n",
       "669                4558.459870             18          410.401552   \n",
       "8406                938.711572             27           74.779333   \n",
       "\n",
       "       professional_driver  device2  \n",
       "152                      1        1  \n",
       "11899                    0        1  \n",
       "10937                    0        0  \n",
       "669                      1        1  \n",
       "8406                     0        1  "
      ]
     },
     "execution_count": 66,
     "metadata": {},
     "output_type": "execute_result"
    }
   ],
   "source": [
    "# Use .head()\n",
    "X_train.head()"
   ]
  },
  {
   "cell_type": "code",
   "execution_count": 67,
   "id": "c959caaf",
   "metadata": {
    "execution": {
     "iopub.execute_input": "2024-02-09T12:45:17.687835Z",
     "iopub.status.busy": "2024-02-09T12:45:17.687122Z",
     "iopub.status.idle": "2024-02-09T12:45:17.790946Z",
     "shell.execute_reply": "2024-02-09T12:45:17.790209Z"
    },
    "papermill": {
     "duration": 0.15208,
     "end_time": "2024-02-09T12:45:17.794455",
     "exception": false,
     "start_time": "2024-02-09T12:45:17.642375",
     "status": "completed"
    },
    "tags": []
   },
   "outputs": [
    {
     "name": "stderr",
     "output_type": "stream",
     "text": [
      "/opt/conda/lib/python3.10/site-packages/sklearn/linear_model/_logistic.py:1173: FutureWarning: `penalty='none'`has been deprecated in 1.2 and will be removed in 1.4. To keep the past behaviour, set `penalty=None`.\n",
      "  warnings.warn(\n"
     ]
    },
    {
     "data": {
      "text/html": [
       "<style>#sk-container-id-1 {color: black;background-color: white;}#sk-container-id-1 pre{padding: 0;}#sk-container-id-1 div.sk-toggleable {background-color: white;}#sk-container-id-1 label.sk-toggleable__label {cursor: pointer;display: block;width: 100%;margin-bottom: 0;padding: 0.3em;box-sizing: border-box;text-align: center;}#sk-container-id-1 label.sk-toggleable__label-arrow:before {content: \"▸\";float: left;margin-right: 0.25em;color: #696969;}#sk-container-id-1 label.sk-toggleable__label-arrow:hover:before {color: black;}#sk-container-id-1 div.sk-estimator:hover label.sk-toggleable__label-arrow:before {color: black;}#sk-container-id-1 div.sk-toggleable__content {max-height: 0;max-width: 0;overflow: hidden;text-align: left;background-color: #f0f8ff;}#sk-container-id-1 div.sk-toggleable__content pre {margin: 0.2em;color: black;border-radius: 0.25em;background-color: #f0f8ff;}#sk-container-id-1 input.sk-toggleable__control:checked~div.sk-toggleable__content {max-height: 200px;max-width: 100%;overflow: auto;}#sk-container-id-1 input.sk-toggleable__control:checked~label.sk-toggleable__label-arrow:before {content: \"▾\";}#sk-container-id-1 div.sk-estimator input.sk-toggleable__control:checked~label.sk-toggleable__label {background-color: #d4ebff;}#sk-container-id-1 div.sk-label input.sk-toggleable__control:checked~label.sk-toggleable__label {background-color: #d4ebff;}#sk-container-id-1 input.sk-hidden--visually {border: 0;clip: rect(1px 1px 1px 1px);clip: rect(1px, 1px, 1px, 1px);height: 1px;margin: -1px;overflow: hidden;padding: 0;position: absolute;width: 1px;}#sk-container-id-1 div.sk-estimator {font-family: monospace;background-color: #f0f8ff;border: 1px dotted black;border-radius: 0.25em;box-sizing: border-box;margin-bottom: 0.5em;}#sk-container-id-1 div.sk-estimator:hover {background-color: #d4ebff;}#sk-container-id-1 div.sk-parallel-item::after {content: \"\";width: 100%;border-bottom: 1px solid gray;flex-grow: 1;}#sk-container-id-1 div.sk-label:hover label.sk-toggleable__label {background-color: #d4ebff;}#sk-container-id-1 div.sk-serial::before {content: \"\";position: absolute;border-left: 1px solid gray;box-sizing: border-box;top: 0;bottom: 0;left: 50%;z-index: 0;}#sk-container-id-1 div.sk-serial {display: flex;flex-direction: column;align-items: center;background-color: white;padding-right: 0.2em;padding-left: 0.2em;position: relative;}#sk-container-id-1 div.sk-item {position: relative;z-index: 1;}#sk-container-id-1 div.sk-parallel {display: flex;align-items: stretch;justify-content: center;background-color: white;position: relative;}#sk-container-id-1 div.sk-item::before, #sk-container-id-1 div.sk-parallel-item::before {content: \"\";position: absolute;border-left: 1px solid gray;box-sizing: border-box;top: 0;bottom: 0;left: 50%;z-index: -1;}#sk-container-id-1 div.sk-parallel-item {display: flex;flex-direction: column;z-index: 1;position: relative;background-color: white;}#sk-container-id-1 div.sk-parallel-item:first-child::after {align-self: flex-end;width: 50%;}#sk-container-id-1 div.sk-parallel-item:last-child::after {align-self: flex-start;width: 50%;}#sk-container-id-1 div.sk-parallel-item:only-child::after {width: 0;}#sk-container-id-1 div.sk-dashed-wrapped {border: 1px dashed gray;margin: 0 0.4em 0.5em 0.4em;box-sizing: border-box;padding-bottom: 0.4em;background-color: white;}#sk-container-id-1 div.sk-label label {font-family: monospace;font-weight: bold;display: inline-block;line-height: 1.2em;}#sk-container-id-1 div.sk-label-container {text-align: center;}#sk-container-id-1 div.sk-container {/* jupyter's `normalize.less` sets `[hidden] { display: none; }` but bootstrap.min.css set `[hidden] { display: none !important; }` so we also need the `!important` here to be able to override the default hidden behavior on the sphinx rendered scikit-learn.org. See: https://github.com/scikit-learn/scikit-learn/issues/21755 */display: inline-block !important;position: relative;}#sk-container-id-1 div.sk-text-repr-fallback {display: none;}</style><div id=\"sk-container-id-1\" class=\"sk-top-container\"><div class=\"sk-text-repr-fallback\"><pre>LogisticRegression(max_iter=400, penalty=&#x27;none&#x27;)</pre><b>In a Jupyter environment, please rerun this cell to show the HTML representation or trust the notebook. <br />On GitHub, the HTML representation is unable to render, please try loading this page with nbviewer.org.</b></div><div class=\"sk-container\" hidden><div class=\"sk-item\"><div class=\"sk-estimator sk-toggleable\"><input class=\"sk-toggleable__control sk-hidden--visually\" id=\"sk-estimator-id-1\" type=\"checkbox\" checked><label for=\"sk-estimator-id-1\" class=\"sk-toggleable__label sk-toggleable__label-arrow\">LogisticRegression</label><div class=\"sk-toggleable__content\"><pre>LogisticRegression(max_iter=400, penalty=&#x27;none&#x27;)</pre></div></div></div></div></div>"
      ],
      "text/plain": [
       "LogisticRegression(max_iter=400, penalty='none')"
      ]
     },
     "execution_count": 67,
     "metadata": {},
     "output_type": "execute_result"
    }
   ],
   "source": [
    "model = LogisticRegression(penalty='none', max_iter=400)\n",
    "\n",
    "model.fit(X_train, y_train)"
   ]
  },
  {
   "cell_type": "markdown",
   "id": "6f9ea81a",
   "metadata": {
    "papermill": {
     "duration": 0.058338,
     "end_time": "2024-02-09T12:45:17.909398",
     "exception": false,
     "start_time": "2024-02-09T12:45:17.851060",
     "status": "completed"
    },
    "tags": []
   },
   "source": [
    "Call the `.coef_` attribute on the model to get the coefficients of each variable.  The coefficients are in order of how the variables are listed in the dataset.  Remember that the coefficients represent the change in the **log odds** of the target variable for **every one unit increase in X**.\n",
    "\n",
    "If you want, create a series whose index is the column names and whose values are the coefficients in `model.coef_`."
   ]
  },
  {
   "cell_type": "code",
   "execution_count": 68,
   "id": "294412a4",
   "metadata": {
    "execution": {
     "iopub.execute_input": "2024-02-09T12:45:17.995217Z",
     "iopub.status.busy": "2024-02-09T12:45:17.994770Z",
     "iopub.status.idle": "2024-02-09T12:45:18.003900Z",
     "shell.execute_reply": "2024-02-09T12:45:18.002301Z"
    },
    "papermill": {
     "duration": 0.054274,
     "end_time": "2024-02-09T12:45:18.006671",
     "exception": false,
     "start_time": "2024-02-09T12:45:17.952397",
     "status": "completed"
    },
    "tags": []
   },
   "outputs": [
    {
     "data": {
      "text/plain": [
       "drives                     0.001965\n",
       "total_sessions             0.000261\n",
       "n_days_after_onboarding   -0.000407\n",
       "total_navigations_fav1     0.001231\n",
       "total_navigations_fav2     0.000927\n",
       "driven_km_drives          -0.000010\n",
       "duration_minutes_drives    0.000104\n",
       "activity_days             -0.106081\n",
       "km_per_driving_day         0.000017\n",
       "professional_driver       -0.001513\n",
       "device2                   -0.001112\n",
       "dtype: float64"
      ]
     },
     "execution_count": 68,
     "metadata": {},
     "output_type": "execute_result"
    }
   ],
   "source": [
    "pd.Series(model.coef_[0], index=X.columns)"
   ]
  },
  {
   "cell_type": "markdown",
   "id": "c51490b2",
   "metadata": {
    "papermill": {
     "duration": 0.040266,
     "end_time": "2024-02-09T12:45:18.088879",
     "exception": false,
     "start_time": "2024-02-09T12:45:18.048613",
     "status": "completed"
    },
    "tags": []
   },
   "source": [
    "Call the model's intercept_ attribute to get the intercept of the model."
   ]
  },
  {
   "cell_type": "code",
   "execution_count": 69,
   "id": "1a2c3017",
   "metadata": {
    "execution": {
     "iopub.execute_input": "2024-02-09T12:45:18.174380Z",
     "iopub.status.busy": "2024-02-09T12:45:18.173591Z",
     "iopub.status.idle": "2024-02-09T12:45:18.179304Z",
     "shell.execute_reply": "2024-02-09T12:45:18.178665Z"
    },
    "papermill": {
     "duration": 0.050382,
     "end_time": "2024-02-09T12:45:18.181974",
     "exception": false,
     "start_time": "2024-02-09T12:45:18.131592",
     "status": "completed"
    },
    "tags": []
   },
   "outputs": [
    {
     "data": {
      "text/plain": [
       "array([-0.00180282])"
      ]
     },
     "execution_count": 69,
     "metadata": {},
     "output_type": "execute_result"
    }
   ],
   "source": [
    "model.intercept_"
   ]
  },
  {
   "cell_type": "markdown",
   "id": "eb861830",
   "metadata": {
    "papermill": {
     "duration": 0.04155,
     "end_time": "2024-02-09T12:45:18.268680",
     "exception": false,
     "start_time": "2024-02-09T12:45:18.227130",
     "status": "completed"
    },
    "tags": []
   },
   "source": [
    "#### **Check final assumption**\n",
    "\n",
    "Verify the linear relationship between X and the estimated log odds (known as logits) by making a regplot.\n",
    "\n",
    "Call the model's `predict_proba()` method to generate the probability of response for each sample in the training data. (The training data is the argument to the method.) Assign the result to a variable called `training_probabilities`. This results in a 2-D array where each row represents a user in `X_train`. The first column is the probability of the user not churning, and the second column is the probability of the user churning."
   ]
  },
  {
   "cell_type": "code",
   "execution_count": 70,
   "id": "552c0eb1",
   "metadata": {
    "execution": {
     "iopub.execute_input": "2024-02-09T12:45:18.355692Z",
     "iopub.status.busy": "2024-02-09T12:45:18.354919Z",
     "iopub.status.idle": "2024-02-09T12:45:18.367273Z",
     "shell.execute_reply": "2024-02-09T12:45:18.366148Z"
    },
    "papermill": {
     "duration": 0.061785,
     "end_time": "2024-02-09T12:45:18.371128",
     "exception": false,
     "start_time": "2024-02-09T12:45:18.309343",
     "status": "completed"
    },
    "tags": []
   },
   "outputs": [
    {
     "data": {
      "text/plain": [
       "array([[0.93918546, 0.06081454],\n",
       "       [0.61890419, 0.38109581],\n",
       "       [0.76334676, 0.23665324],\n",
       "       ...,\n",
       "       [0.91842727, 0.08157273],\n",
       "       [0.8487835 , 0.1512165 ],\n",
       "       [0.93517246, 0.06482754]])"
      ]
     },
     "execution_count": 70,
     "metadata": {},
     "output_type": "execute_result"
    }
   ],
   "source": [
    "# Get the predicted probabilities of the training data\n",
    "training_probabilities = model.predict_proba(X_train)\n",
    "training_probabilities"
   ]
  },
  {
   "cell_type": "markdown",
   "id": "b0ed0050",
   "metadata": {
    "papermill": {
     "duration": 0.052566,
     "end_time": "2024-02-09T12:45:18.476845",
     "exception": false,
     "start_time": "2024-02-09T12:45:18.424279",
     "status": "completed"
    },
    "tags": []
   },
   "source": [
    "In logistic regression, the relationship between a predictor variable and the dependent variable does not need to be linear, however, the log-odds (a.k.a., logit) of the dependent variable with respect to the predictor variable should be linear. Here is the formula for calculating log-odds, where _p_ is the probability of response:\n",
    "<br>\n",
    "$$\n",
    "logit(p) = ln(\\frac{p}{1-p})\n",
    "$$\n",
    "<br>\n",
    "\n",
    "1. Create a dataframe called `logit_data` that is a copy of `df`.\n",
    "\n",
    "2. Create a new column called `logit` in the `logit_data` dataframe. The data in this column should represent the logit for each user."
   ]
  },
  {
   "cell_type": "code",
   "execution_count": 71,
   "id": "fbc0ab33",
   "metadata": {
    "execution": {
     "iopub.execute_input": "2024-02-09T12:45:18.563299Z",
     "iopub.status.busy": "2024-02-09T12:45:18.562913Z",
     "iopub.status.idle": "2024-02-09T12:45:18.583131Z",
     "shell.execute_reply": "2024-02-09T12:45:18.581729Z"
    },
    "papermill": {
     "duration": 0.067355,
     "end_time": "2024-02-09T12:45:18.585843",
     "exception": false,
     "start_time": "2024-02-09T12:45:18.518488",
     "status": "completed"
    },
    "tags": []
   },
   "outputs": [],
   "source": [
    "# 1. Copy the `X_train` dataframe and assign to `logit_data`\n",
    "logit_data = X_train.copy()\n",
    "\n",
    "# 2. Create a new `logit` column in the `logit_data` df\n",
    "logit_data['logit'] = [np.log(prob[1] / prob[0]) for prob in training_probabilities]"
   ]
  },
  {
   "cell_type": "markdown",
   "id": "fffbc9da",
   "metadata": {
    "papermill": {
     "duration": 0.041182,
     "end_time": "2024-02-09T12:45:18.668645",
     "exception": false,
     "start_time": "2024-02-09T12:45:18.627463",
     "status": "completed"
    },
    "tags": []
   },
   "source": [
    "Plot a regplot where the x-axis represents an independent variable and the y-axis represents the log-odds of the predicted probabilities.\n",
    "\n",
    "In an exhaustive analysis, this would be plotted for each continuous or discrete predictor variable. Here we show only `activity_days`."
   ]
  },
  {
   "cell_type": "code",
   "execution_count": 72,
   "id": "8234094f",
   "metadata": {
    "execution": {
     "iopub.execute_input": "2024-02-09T12:45:18.752853Z",
     "iopub.status.busy": "2024-02-09T12:45:18.752429Z",
     "iopub.status.idle": "2024-02-09T12:45:19.648473Z",
     "shell.execute_reply": "2024-02-09T12:45:19.647447Z"
    },
    "papermill": {
     "duration": 0.941534,
     "end_time": "2024-02-09T12:45:19.651021",
     "exception": false,
     "start_time": "2024-02-09T12:45:18.709487",
     "status": "completed"
    },
    "tags": []
   },
   "outputs": [
    {
     "data": {
      "image/png": "[encoded data removed]",
      "text/plain": [
       "<Figure size 640x480 with 1 Axes>"
      ]
     },
     "metadata": {},
     "output_type": "display_data"
    }
   ],
   "source": [
    "# Plot regplot of `activity_days` log-odds\n",
    "sns.regplot(x='activity_days', y='logit', data=logit_data, scatter_kws={'s': 2, 'alpha': 0.5})\n",
    "plt.title('Log-odds: activity_days');"
   ]
  },
  {
   "cell_type": "markdown",
   "id": "af135fbc",
   "metadata": {
    "papermill": {
     "duration": 0.042754,
     "end_time": "2024-02-09T12:45:19.737372",
     "exception": false,
     "start_time": "2024-02-09T12:45:19.694618",
     "status": "completed"
    },
    "tags": []
   },
   "source": [
    "### **Results and evaluation**\n",
    "\n",
    "If the logistic assumptions are met, the model results can be appropriately interpreted.\n",
    "\n",
    "Use the code block below to make predictions on the test data."
   ]
  },
  {
   "cell_type": "code",
   "execution_count": 73,
   "id": "27e42b46",
   "metadata": {
    "execution": {
     "iopub.execute_input": "2024-02-09T12:45:19.822083Z",
     "iopub.status.busy": "2024-02-09T12:45:19.821675Z",
     "iopub.status.idle": "2024-02-09T12:45:19.829430Z",
     "shell.execute_reply": "2024-02-09T12:45:19.828645Z"
    },
    "papermill": {
     "duration": 0.053279,
     "end_time": "2024-02-09T12:45:19.831980",
     "exception": false,
     "start_time": "2024-02-09T12:45:19.778701",
     "status": "completed"
    },
    "tags": []
   },
   "outputs": [],
   "source": [
    "# Generate predictions on X_test\n",
    "y_preds = model.predict(X_test)"
   ]
  },
  {
   "cell_type": "markdown",
   "id": "8b27002e",
   "metadata": {
    "papermill": {
     "duration": 0.057768,
     "end_time": "2024-02-09T12:45:19.948398",
     "exception": false,
     "start_time": "2024-02-09T12:45:19.890630",
     "status": "completed"
    },
    "tags": []
   },
   "source": [
    "Now, use the `score()` method on the model with `X_test` and `y_test` as its two arguments. The default score in scikit-learn is **accuracy**.  What is the accuracy of your model?\n",
    "\n",
    "*Consider:  Is accuracy the best metric to use to evaluate this model?*"
   ]
  },
  {
   "cell_type": "code",
   "execution_count": 74,
   "id": "31f050c8",
   "metadata": {
    "execution": {
     "iopub.execute_input": "2024-02-09T12:45:20.036600Z",
     "iopub.status.busy": "2024-02-09T12:45:20.036204Z",
     "iopub.status.idle": "2024-02-09T12:45:20.050824Z",
     "shell.execute_reply": "2024-02-09T12:45:20.049345Z"
    },
    "papermill": {
     "duration": 0.063655,
     "end_time": "2024-02-09T12:45:20.053902",
     "exception": false,
     "start_time": "2024-02-09T12:45:19.990247",
     "status": "completed"
    },
    "tags": []
   },
   "outputs": [
    {
     "data": {
      "text/plain": [
       "0.8243356643356643"
      ]
     },
     "execution_count": 74,
     "metadata": {},
     "output_type": "execute_result"
    }
   ],
   "source": [
    "# Score the model (accuracy) on the test data\n",
    "model.score(X_test, y_test)"
   ]
  },
  {
   "cell_type": "markdown",
   "id": "ec60be33",
   "metadata": {
    "papermill": {
     "duration": 0.054432,
     "end_time": "2024-02-09T12:45:20.164736",
     "exception": false,
     "start_time": "2024-02-09T12:45:20.110304",
     "status": "completed"
    },
    "tags": []
   },
   "source": [
    "### **Show results with a confusion matrix**"
   ]
  },
  {
   "cell_type": "markdown",
   "id": "949bd8e0",
   "metadata": {
    "papermill": {
     "duration": 0.042222,
     "end_time": "2024-02-09T12:45:20.249378",
     "exception": false,
     "start_time": "2024-02-09T12:45:20.207156",
     "status": "completed"
    },
    "tags": []
   },
   "source": [
    "Use the `confusion_matrix` function to obtain a confusion matrix. Use `y_test` and `y_preds` as arguments."
   ]
  },
  {
   "cell_type": "code",
   "execution_count": 75,
   "id": "1ac8ce38",
   "metadata": {
    "execution": {
     "iopub.execute_input": "2024-02-09T12:45:20.336352Z",
     "iopub.status.busy": "2024-02-09T12:45:20.335928Z",
     "iopub.status.idle": "2024-02-09T12:45:20.342710Z",
     "shell.execute_reply": "2024-02-09T12:45:20.341512Z"
    },
    "papermill": {
     "duration": 0.054186,
     "end_time": "2024-02-09T12:45:20.345520",
     "exception": false,
     "start_time": "2024-02-09T12:45:20.291334",
     "status": "completed"
    },
    "tags": []
   },
   "outputs": [],
   "source": [
    "cm = confusion_matrix(y_test, y_preds)"
   ]
  },
  {
   "cell_type": "markdown",
   "id": "13c64a16",
   "metadata": {
    "papermill": {
     "duration": 0.042974,
     "end_time": "2024-02-09T12:45:20.432867",
     "exception": false,
     "start_time": "2024-02-09T12:45:20.389893",
     "status": "completed"
    },
    "tags": []
   },
   "source": [
    "Next, use the `ConfusionMatrixDisplay()` function to display the confusion matrix from the above cell, passing the confusion matrix you just created as its argument."
   ]
  },
  {
   "cell_type": "code",
   "execution_count": 76,
   "id": "528e3816",
   "metadata": {
    "execution": {
     "iopub.execute_input": "2024-02-09T12:45:20.518663Z",
     "iopub.status.busy": "2024-02-09T12:45:20.517957Z",
     "iopub.status.idle": "2024-02-09T12:45:20.745553Z",
     "shell.execute_reply": "2024-02-09T12:45:20.743915Z"
    },
    "papermill": {
     "duration": 0.273516,
     "end_time": "2024-02-09T12:45:20.747979",
     "exception": false,
     "start_time": "2024-02-09T12:45:20.474463",
     "status": "completed"
    },
    "tags": []
   },
   "outputs": [
    {
     "data": {
      "image/png": "[encoded data removed]",
      "text/plain": [
       "<Figure size 640x480 with 2 Axes>"
      ]
     },
     "metadata": {},
     "output_type": "display_data"
    }
   ],
   "source": [
    "disp = ConfusionMatrixDisplay(confusion_matrix=cm, \n",
    "                              display_labels=['retained', 'churned'],\n",
    "                              )\n",
    "disp.plot();"
   ]
  },
  {
   "cell_type": "markdown",
   "id": "f9bfebce",
   "metadata": {
    "papermill": {
     "duration": 0.042508,
     "end_time": "2024-02-09T12:45:20.834171",
     "exception": false,
     "start_time": "2024-02-09T12:45:20.791663",
     "status": "completed"
    },
    "tags": []
   },
   "source": [
    "You can use the confusion matrix to compute precision and recall manually. You can also use scikit-learn's [`classification_report()`](https://scikit-learn.org/stable/modules/generated/sklearn.metrics.classification_report.html) function to generate a table from `y_test` and `y_preds`."
   ]
  },
  {
   "cell_type": "code",
   "execution_count": 77,
   "id": "99e5ae96",
   "metadata": {
    "execution": {
     "iopub.execute_input": "2024-02-09T12:45:20.927370Z",
     "iopub.status.busy": "2024-02-09T12:45:20.926958Z",
     "iopub.status.idle": "2024-02-09T12:45:20.933201Z",
     "shell.execute_reply": "2024-02-09T12:45:20.932026Z"
    },
    "papermill": {
     "duration": 0.057454,
     "end_time": "2024-02-09T12:45:20.935971",
     "exception": false,
     "start_time": "2024-02-09T12:45:20.878517",
     "status": "completed"
    },
    "tags": []
   },
   "outputs": [
    {
     "data": {
      "text/plain": [
       "0.5272727272727272"
      ]
     },
     "execution_count": 77,
     "metadata": {},
     "output_type": "execute_result"
    }
   ],
   "source": [
    "# Calculate precision manually\n",
    "precision = cm[1,1] / (cm[0, 1] + cm[1, 1])\n",
    "precision"
   ]
  },
  {
   "cell_type": "code",
   "execution_count": 78,
   "id": "9fc7587c",
   "metadata": {
    "execution": {
     "iopub.execute_input": "2024-02-09T12:45:21.027137Z",
     "iopub.status.busy": "2024-02-09T12:45:21.025489Z",
     "iopub.status.idle": "2024-02-09T12:45:21.034119Z",
     "shell.execute_reply": "2024-02-09T12:45:21.033111Z"
    },
    "papermill": {
     "duration": 0.056455,
     "end_time": "2024-02-09T12:45:21.037630",
     "exception": false,
     "start_time": "2024-02-09T12:45:20.981175",
     "status": "completed"
    },
    "tags": []
   },
   "outputs": [
    {
     "data": {
      "text/plain": [
       "0.0914826498422713"
      ]
     },
     "execution_count": 78,
     "metadata": {},
     "output_type": "execute_result"
    }
   ],
   "source": [
    "# Calculate recall manually\n",
    "recall = cm[1,1] / (cm[1, 0] + cm[1, 1])\n",
    "recall"
   ]
  },
  {
   "cell_type": "code",
   "execution_count": 79,
   "id": "13faf10b",
   "metadata": {
    "execution": {
     "iopub.execute_input": "2024-02-09T12:45:21.125581Z",
     "iopub.status.busy": "2024-02-09T12:45:21.124551Z",
     "iopub.status.idle": "2024-02-09T12:45:21.140223Z",
     "shell.execute_reply": "2024-02-09T12:45:21.138282Z"
    },
    "papermill": {
     "duration": 0.061858,
     "end_time": "2024-02-09T12:45:21.143041",
     "exception": false,
     "start_time": "2024-02-09T12:45:21.081183",
     "status": "completed"
    },
    "tags": []
   },
   "outputs": [
    {
     "name": "stdout",
     "output_type": "stream",
     "text": [
      "              precision    recall  f1-score   support\n",
      "\n",
      "    retained       0.83      0.98      0.90      2941\n",
      "     churned       0.53      0.09      0.16       634\n",
      "\n",
      "    accuracy                           0.82      3575\n",
      "   macro avg       0.68      0.54      0.53      3575\n",
      "weighted avg       0.78      0.82      0.77      3575\n",
      "\n"
     ]
    }
   ],
   "source": [
    "# Create a classification report\n",
    "target_labels = ['retained', 'churned']\n",
    "print(classification_report(y_test, y_preds, target_names=target_labels))"
   ]
  },
  {
   "cell_type": "markdown",
   "id": "88739101",
   "metadata": {
    "papermill": {
     "duration": 0.044612,
     "end_time": "2024-02-09T12:45:21.230251",
     "exception": false,
     "start_time": "2024-02-09T12:45:21.185639",
     "status": "completed"
    },
    "tags": []
   },
   "source": [
    "**Note:** The model has mediocre precision and very low recall, which means that it makes a lot of false negative predictions and fails to capture users who will churn."
   ]
  },
  {
   "cell_type": "markdown",
   "id": "a187127a",
   "metadata": {
    "papermill": {
     "duration": 0.041615,
     "end_time": "2024-02-09T12:45:21.315263",
     "exception": false,
     "start_time": "2024-02-09T12:45:21.273648",
     "status": "completed"
    },
    "tags": []
   },
   "source": [
    "### **BONUS**\n",
    "\n",
    "Generate a bar graph of the model's coefficients for a visual representation of the importance of the model's features."
   ]
  },
  {
   "cell_type": "code",
   "execution_count": 80,
   "id": "586a31e1",
   "metadata": {
    "execution": {
     "iopub.execute_input": "2024-02-09T12:45:21.407456Z",
     "iopub.status.busy": "2024-02-09T12:45:21.406786Z",
     "iopub.status.idle": "2024-02-09T12:45:21.413346Z",
     "shell.execute_reply": "2024-02-09T12:45:21.412610Z"
    },
    "papermill": {
     "duration": 0.054695,
     "end_time": "2024-02-09T12:45:21.415207",
     "exception": false,
     "start_time": "2024-02-09T12:45:21.360512",
     "status": "completed"
    },
    "tags": []
   },
   "outputs": [
    {
     "data": {
      "text/plain": [
       "[('drives', 0.001964613925480222),\n",
       " ('total_navigations_fav1', 0.0012309915910253995),\n",
       " ('total_navigations_fav2', 0.0009266182926225378),\n",
       " ('total_sessions', 0.0002605803787404951),\n",
       " ('duration_minutes_drives', 0.00010440708578712279),\n",
       " ('km_per_driving_day', 1.720415698385856e-05),\n",
       " ('driven_km_drives', -1.0041600770737482e-05),\n",
       " ('n_days_after_onboarding', -0.00040668472478057197),\n",
       " ('device2', -0.0011116408895221965),\n",
       " ('professional_driver', -0.0015134569504089708),\n",
       " ('activity_days', -0.10608133290956816)]"
      ]
     },
     "execution_count": 80,
     "metadata": {},
     "output_type": "execute_result"
    }
   ],
   "source": [
    "# Create a list of (column_name, coefficient) tuples\n",
    "feature_importance = list(zip(X_train.columns, model.coef_[0]))\n",
    "\n",
    "# Sort the list by coefficient value\n",
    "feature_importance = sorted(feature_importance, key=lambda x: x[1], reverse=True)\n",
    "feature_importance"
   ]
  },
  {
   "cell_type": "code",
   "execution_count": 81,
   "id": "351005fa",
   "metadata": {
    "execution": {
     "iopub.execute_input": "2024-02-09T12:45:21.505890Z",
     "iopub.status.busy": "2024-02-09T12:45:21.505514Z",
     "iopub.status.idle": "2024-02-09T12:45:21.785324Z",
     "shell.execute_reply": "2024-02-09T12:45:21.783855Z"
    },
    "papermill": {
     "duration": 0.328372,
     "end_time": "2024-02-09T12:45:21.788367",
     "exception": false,
     "start_time": "2024-02-09T12:45:21.459995",
     "status": "completed"
    },
    "tags": []
   },
   "outputs": [
    {
     "data": {
      "image/png": "[encoded data removed]",
      "text/plain": [
       "<Figure size 640x480 with 1 Axes>"
      ]
     },
     "metadata": {},
     "output_type": "display_data"
    }
   ],
   "source": [
    "# Plot the feature importances\n",
    "import seaborn as sns\n",
    "sns.barplot(x=[x[1] for x in feature_importance],\n",
    "            y=[x[0] for x in feature_importance],\n",
    "            orient='h')\n",
    "plt.title('Feature importance');"
   ]
  },
  {
   "cell_type": "markdown",
   "id": "0cdb9ebd",
   "metadata": {
    "papermill": {
     "duration": 0.045746,
     "end_time": "2024-02-09T12:45:21.881721",
     "exception": false,
     "start_time": "2024-02-09T12:45:21.835975",
     "status": "completed"
    },
    "tags": []
   },
   "source": [
    "### **Conclusion**\n",
    "\n",
    "Now that you've built your regression model, the next step is to share your findings with the Waze leadership team. Consider the following questions as you prepare to write your executive summary. Think about key points you may want to share with the team, and what information is most relevant to the user churn project.\n",
    "\n",
    "**Questions:**\n",
    "\n",
    "\n",
    "1. What variable most influenced the model's prediction? How? Was this surprising?\n",
    "\n",
    "> _`activity_days` was by far the most important feature in the model. It had a negative correlation with user churn. This was not surprising, as this variable was very strongly correlated with `driving_days`, which was known from EDA to have a negative correlation with churn._\n",
    "\n",
    "2. Were there any variables that you expected to be stronger predictors than they were?\n",
    "\n",
    "> _Yes. In previous EDA, user churn rate increased as the values in `km_per_driving_day` increased. The correlation heatmap here in this notebook revealed this variable to have the strongest positive correlation with churn of any of the predictor variables by a relatively large margin. In the model, it was the second-least-important variable._\n",
    "\n",
    "3. Why might a variable you thought to be important not be important in the model?\n",
    "\n",
    "> _In a multiple logistic regression model, features can interact with each other and these interactions can result in seemingly counterintuitive relationships. This is both a strength and a weakness of predictive models, as capturing these interactions typically makes a model more predictive while at the same time making the model more difficult to explain._\n",
    "\n",
    "4. Would you recommend that Waze use this model? Why or why not?\n",
    "\n",
    "> _It depends. What would the model be used for? If it's used to drive consequential business decisions, then no. The model is not a strong enough predictor, as made clear by its poor recall score. However, if the model is only being used to guide further exploratory efforts, then it can have value._\n",
    "\n",
    "5. What could you do to improve this model?\n",
    "\n",
    "> _New features could be engineered to try to generate better predictive signal, as they often do if you have domain knowledge. In the case of this model, one of the engineered features (`professional_driver`) was the third-most-predictive predictor. It could also be helpful to scale the predictor variables, and/or to reconstruct the model with different combinations of predictor variables to reduce noise from unpredictive features._\n",
    "\n",
    "6. What additional features would you like to have to help improve the model?\n",
    "\n",
    "> _It would be helpful to have drive-level information for each user (such as drive times, geographic locations, etc.). It would probably also be helpful to have more granular data to know how users interact with the app. For example, how often do they report or confirm road hazard alerts? Finally, it could be helpful to know the monthly count of unique starting and ending locations each driver inputs._"
   ]
  }
 ],
 "metadata": {
  "kaggle": {
   "accelerator": "none",
   "dataSources": [
    {
     "datasetId": 4287862,
     "sourceId": 7378546,
     "sourceType": "datasetVersion"
    },
    {
     "datasetId": 4287893,
     "sourceId": 7378586,
     "sourceType": "datasetVersion"
    }
   ],
   "dockerImageVersionId": 30626,
   "isGpuEnabled": false,
   "isInternetEnabled": false,
   "language": "python",
   "sourceType": "notebook"
  },
  "kernelspec": {
   "display_name": "Python 3",
   "language": "python",
   "name": "python3"
  },
  "language_info": {
   "codemirror_mode": {
    "name": "ipython",
    "version": 3
   },
   "file_extension": ".py",
   "mimetype": "text/x-python",
   "name": "python",
   "nbconvert_exporter": "python",
   "pygments_lexer": "ipython3",
   "version": "3.10.12"
  },
  "papermill": {
   "default_parameters": {},
   "duration": 32.050659,
   "end_time": "2024-02-09T12:45:22.651218",
   "environment_variables": {},
   "exception": null,
   "input_path": "__notebook__.ipynb",
   "output_path": "__notebook__.ipynb",
   "parameters": {},
   "start_time": "2024-02-09T12:44:50.600559",
   "version": "2.4.0"
  }
 },
 "nbformat": 4,
 "nbformat_minor": 5
}
